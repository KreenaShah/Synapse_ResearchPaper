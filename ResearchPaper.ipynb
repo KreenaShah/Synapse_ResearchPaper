{
  "nbformat": 4,
  "nbformat_minor": 0,
  "metadata": {
    "colab": {
      "provenance": [],
      "mount_file_id": "https://github.com/maitreya-v/Synapse_ResearchPaper/blob/main/ResearchPaper.ipynb",
      "authorship_tag": "ABX9TyNw+x0UuIkt6NqFagfMz1HE",
      "include_colab_link": true
    },
    "kernelspec": {
      "name": "python3",
      "display_name": "Python 3"
    },
    "language_info": {
      "name": "python"
    }
  },
  "cells": [
    {
      "cell_type": "markdown",
      "metadata": {
        "id": "view-in-github",
        "colab_type": "text"
      },
      "source": [
        "<a href=\"https://colab.research.google.com/github/KreenaShah/Synapse_ResearchPaper/blob/maitreya/ResearchPaper.ipynb\" target=\"_parent\"><img src=\"https://colab.research.google.com/assets/colab-badge.svg\" alt=\"Open In Colab\"/></a>"
      ]
    },
    {
      "cell_type": "code",
      "execution_count": 159,
      "metadata": {
        "id": "wnH8JX-qXLE1"
      },
      "outputs": [],
      "source": [
        "import pandas as pd\n",
        "import numpy as np\n",
        "import seaborn as sns\n",
        "import matplotlib.pyplot as plt"
      ]
    },
    {
      "cell_type": "code",
      "source": [
        "df=pd.read_csv('/content/drive/MyDrive/Research Paper Dataset/first.csv',on_bad_lines='skip')"
      ],
      "metadata": {
        "id": "GE5Fq_R-Xg8H"
      },
      "execution_count": 160,
      "outputs": []
    },
    {
      "cell_type": "code",
      "source": [
        "df.head()"
      ],
      "metadata": {
        "id": "b08iCaNcXq-c",
        "outputId": "f4faf0af-c799-46f4-80c3-3aeffcb138b2",
        "colab": {
          "base_uri": "https://localhost:8080/",
          "height": 354
        }
      },
      "execution_count": 161,
      "outputs": [
        {
          "output_type": "execute_result",
          "data": {
            "text/plain": [
              "   Unnamed: 0                 repository  \\\n",
              "0           0       Microsoft/TypeScript   \n",
              "1           1      facebook/react-native   \n",
              "2           2             facebook/react   \n",
              "3           3  scikit-learn/scikit-learn   \n",
              "4           4                apple/swift   \n",
              "\n",
              "                                             commits  \\\n",
              "0                                                 []   \n",
              "1                                                 []   \n",
              "2                                                 []   \n",
              "3  ['AdaBoost: allow base_estimator=None (#26242)...   \n",
              "4                                                 []   \n",
              "\n",
              "                                               pulls  \\\n",
              "0  ['Cache expression type when checking assertio...   \n",
              "1  ['rename host preload -> start', 'Fix react un...   \n",
              "2  ['[react-native] Always set RN$stopSurface', '...   \n",
              "3  ['EXA Tweak plot_set_output comment', 'DOC Fix...   \n",
              "4  ['improve error when using noncopyable type wi...   \n",
              "\n",
              "                                              readme  release_notes  \n",
              "0  TypeScript\\nTypeScript is a language for appli...            NaN  \n",
              "1  React Native\\nLearn once, write anywhere:\\nBui...            NaN  \n",
              "2  React ·\\nReact is a JavaScript library for bui...            NaN  \n",
              "3  scikit-learn is a Python module for machine le...            NaN  \n",
              "4  Swift Programming Language\\nArchitecture Build...            NaN  "
            ],
            "text/html": [
              "\n",
              "  <div id=\"df-70c8bd2e-95fc-4576-8337-55daf11ed067\">\n",
              "    <div class=\"colab-df-container\">\n",
              "      <div>\n",
              "<style scoped>\n",
              "    .dataframe tbody tr th:only-of-type {\n",
              "        vertical-align: middle;\n",
              "    }\n",
              "\n",
              "    .dataframe tbody tr th {\n",
              "        vertical-align: top;\n",
              "    }\n",
              "\n",
              "    .dataframe thead th {\n",
              "        text-align: right;\n",
              "    }\n",
              "</style>\n",
              "<table border=\"1\" class=\"dataframe\">\n",
              "  <thead>\n",
              "    <tr style=\"text-align: right;\">\n",
              "      <th></th>\n",
              "      <th>Unnamed: 0</th>\n",
              "      <th>repository</th>\n",
              "      <th>commits</th>\n",
              "      <th>pulls</th>\n",
              "      <th>readme</th>\n",
              "      <th>release_notes</th>\n",
              "    </tr>\n",
              "  </thead>\n",
              "  <tbody>\n",
              "    <tr>\n",
              "      <th>0</th>\n",
              "      <td>0</td>\n",
              "      <td>Microsoft/TypeScript</td>\n",
              "      <td>[]</td>\n",
              "      <td>['Cache expression type when checking assertio...</td>\n",
              "      <td>TypeScript\\nTypeScript is a language for appli...</td>\n",
              "      <td>NaN</td>\n",
              "    </tr>\n",
              "    <tr>\n",
              "      <th>1</th>\n",
              "      <td>1</td>\n",
              "      <td>facebook/react-native</td>\n",
              "      <td>[]</td>\n",
              "      <td>['rename host preload -&gt; start', 'Fix react un...</td>\n",
              "      <td>React Native\\nLearn once, write anywhere:\\nBui...</td>\n",
              "      <td>NaN</td>\n",
              "    </tr>\n",
              "    <tr>\n",
              "      <th>2</th>\n",
              "      <td>2</td>\n",
              "      <td>facebook/react</td>\n",
              "      <td>[]</td>\n",
              "      <td>['[react-native] Always set RN$stopSurface', '...</td>\n",
              "      <td>React ·\\nReact is a JavaScript library for bui...</td>\n",
              "      <td>NaN</td>\n",
              "    </tr>\n",
              "    <tr>\n",
              "      <th>3</th>\n",
              "      <td>3</td>\n",
              "      <td>scikit-learn/scikit-learn</td>\n",
              "      <td>['AdaBoost: allow base_estimator=None (#26242)...</td>\n",
              "      <td>['EXA Tweak plot_set_output comment', 'DOC Fix...</td>\n",
              "      <td>scikit-learn is a Python module for machine le...</td>\n",
              "      <td>NaN</td>\n",
              "    </tr>\n",
              "    <tr>\n",
              "      <th>4</th>\n",
              "      <td>4</td>\n",
              "      <td>apple/swift</td>\n",
              "      <td>[]</td>\n",
              "      <td>['improve error when using noncopyable type wi...</td>\n",
              "      <td>Swift Programming Language\\nArchitecture Build...</td>\n",
              "      <td>NaN</td>\n",
              "    </tr>\n",
              "  </tbody>\n",
              "</table>\n",
              "</div>\n",
              "      <button class=\"colab-df-convert\" onclick=\"convertToInteractive('df-70c8bd2e-95fc-4576-8337-55daf11ed067')\"\n",
              "              title=\"Convert this dataframe to an interactive table.\"\n",
              "              style=\"display:none;\">\n",
              "        \n",
              "  <svg xmlns=\"http://www.w3.org/2000/svg\" height=\"24px\"viewBox=\"0 0 24 24\"\n",
              "       width=\"24px\">\n",
              "    <path d=\"M0 0h24v24H0V0z\" fill=\"none\"/>\n",
              "    <path d=\"M18.56 5.44l.94 2.06.94-2.06 2.06-.94-2.06-.94-.94-2.06-.94 2.06-2.06.94zm-11 1L8.5 8.5l.94-2.06 2.06-.94-2.06-.94L8.5 2.5l-.94 2.06-2.06.94zm10 10l.94 2.06.94-2.06 2.06-.94-2.06-.94-.94-2.06-.94 2.06-2.06.94z\"/><path d=\"M17.41 7.96l-1.37-1.37c-.4-.4-.92-.59-1.43-.59-.52 0-1.04.2-1.43.59L10.3 9.45l-7.72 7.72c-.78.78-.78 2.05 0 2.83L4 21.41c.39.39.9.59 1.41.59.51 0 1.02-.2 1.41-.59l7.78-7.78 2.81-2.81c.8-.78.8-2.07 0-2.86zM5.41 20L4 18.59l7.72-7.72 1.47 1.35L5.41 20z\"/>\n",
              "  </svg>\n",
              "      </button>\n",
              "      \n",
              "  <style>\n",
              "    .colab-df-container {\n",
              "      display:flex;\n",
              "      flex-wrap:wrap;\n",
              "      gap: 12px;\n",
              "    }\n",
              "\n",
              "    .colab-df-convert {\n",
              "      background-color: #E8F0FE;\n",
              "      border: none;\n",
              "      border-radius: 50%;\n",
              "      cursor: pointer;\n",
              "      display: none;\n",
              "      fill: #1967D2;\n",
              "      height: 32px;\n",
              "      padding: 0 0 0 0;\n",
              "      width: 32px;\n",
              "    }\n",
              "\n",
              "    .colab-df-convert:hover {\n",
              "      background-color: #E2EBFA;\n",
              "      box-shadow: 0px 1px 2px rgba(60, 64, 67, 0.3), 0px 1px 3px 1px rgba(60, 64, 67, 0.15);\n",
              "      fill: #174EA6;\n",
              "    }\n",
              "\n",
              "    [theme=dark] .colab-df-convert {\n",
              "      background-color: #3B4455;\n",
              "      fill: #D2E3FC;\n",
              "    }\n",
              "\n",
              "    [theme=dark] .colab-df-convert:hover {\n",
              "      background-color: #434B5C;\n",
              "      box-shadow: 0px 1px 3px 1px rgba(0, 0, 0, 0.15);\n",
              "      filter: drop-shadow(0px 1px 2px rgba(0, 0, 0, 0.3));\n",
              "      fill: #FFFFFF;\n",
              "    }\n",
              "  </style>\n",
              "\n",
              "      <script>\n",
              "        const buttonEl =\n",
              "          document.querySelector('#df-70c8bd2e-95fc-4576-8337-55daf11ed067 button.colab-df-convert');\n",
              "        buttonEl.style.display =\n",
              "          google.colab.kernel.accessAllowed ? 'block' : 'none';\n",
              "\n",
              "        async function convertToInteractive(key) {\n",
              "          const element = document.querySelector('#df-70c8bd2e-95fc-4576-8337-55daf11ed067');\n",
              "          const dataTable =\n",
              "            await google.colab.kernel.invokeFunction('convertToInteractive',\n",
              "                                                     [key], {});\n",
              "          if (!dataTable) return;\n",
              "\n",
              "          const docLinkHtml = 'Like what you see? Visit the ' +\n",
              "            '<a target=\"_blank\" href=https://colab.research.google.com/notebooks/data_table.ipynb>data table notebook</a>'\n",
              "            + ' to learn more about interactive tables.';\n",
              "          element.innerHTML = '';\n",
              "          dataTable['output_type'] = 'display_data';\n",
              "          await google.colab.output.renderOutput(dataTable, element);\n",
              "          const docLink = document.createElement('div');\n",
              "          docLink.innerHTML = docLinkHtml;\n",
              "          element.appendChild(docLink);\n",
              "        }\n",
              "      </script>\n",
              "    </div>\n",
              "  </div>\n",
              "  "
            ]
          },
          "metadata": {},
          "execution_count": 161
        }
      ]
    },
    {
      "cell_type": "code",
      "source": [
        "df=df.drop(columns='Unnamed: 0')"
      ],
      "metadata": {
        "id": "z6jQFz3DcGvT"
      },
      "execution_count": 162,
      "outputs": []
    },
    {
      "cell_type": "code",
      "source": [
        "df.head()"
      ],
      "metadata": {
        "id": "j4BwIUxWcWST",
        "outputId": "a0db5944-4147-45d5-db9b-01cec544b648",
        "colab": {
          "base_uri": "https://localhost:8080/",
          "height": 337
        }
      },
      "execution_count": 163,
      "outputs": [
        {
          "output_type": "execute_result",
          "data": {
            "text/plain": [
              "                  repository  \\\n",
              "0       Microsoft/TypeScript   \n",
              "1      facebook/react-native   \n",
              "2             facebook/react   \n",
              "3  scikit-learn/scikit-learn   \n",
              "4                apple/swift   \n",
              "\n",
              "                                             commits  \\\n",
              "0                                                 []   \n",
              "1                                                 []   \n",
              "2                                                 []   \n",
              "3  ['AdaBoost: allow base_estimator=None (#26242)...   \n",
              "4                                                 []   \n",
              "\n",
              "                                               pulls  \\\n",
              "0  ['Cache expression type when checking assertio...   \n",
              "1  ['rename host preload -> start', 'Fix react un...   \n",
              "2  ['[react-native] Always set RN$stopSurface', '...   \n",
              "3  ['EXA Tweak plot_set_output comment', 'DOC Fix...   \n",
              "4  ['improve error when using noncopyable type wi...   \n",
              "\n",
              "                                              readme  release_notes  \n",
              "0  TypeScript\\nTypeScript is a language for appli...            NaN  \n",
              "1  React Native\\nLearn once, write anywhere:\\nBui...            NaN  \n",
              "2  React ·\\nReact is a JavaScript library for bui...            NaN  \n",
              "3  scikit-learn is a Python module for machine le...            NaN  \n",
              "4  Swift Programming Language\\nArchitecture Build...            NaN  "
            ],
            "text/html": [
              "\n",
              "  <div id=\"df-4e02c7c9-d06a-474b-a03f-05ea448a9889\">\n",
              "    <div class=\"colab-df-container\">\n",
              "      <div>\n",
              "<style scoped>\n",
              "    .dataframe tbody tr th:only-of-type {\n",
              "        vertical-align: middle;\n",
              "    }\n",
              "\n",
              "    .dataframe tbody tr th {\n",
              "        vertical-align: top;\n",
              "    }\n",
              "\n",
              "    .dataframe thead th {\n",
              "        text-align: right;\n",
              "    }\n",
              "</style>\n",
              "<table border=\"1\" class=\"dataframe\">\n",
              "  <thead>\n",
              "    <tr style=\"text-align: right;\">\n",
              "      <th></th>\n",
              "      <th>repository</th>\n",
              "      <th>commits</th>\n",
              "      <th>pulls</th>\n",
              "      <th>readme</th>\n",
              "      <th>release_notes</th>\n",
              "    </tr>\n",
              "  </thead>\n",
              "  <tbody>\n",
              "    <tr>\n",
              "      <th>0</th>\n",
              "      <td>Microsoft/TypeScript</td>\n",
              "      <td>[]</td>\n",
              "      <td>['Cache expression type when checking assertio...</td>\n",
              "      <td>TypeScript\\nTypeScript is a language for appli...</td>\n",
              "      <td>NaN</td>\n",
              "    </tr>\n",
              "    <tr>\n",
              "      <th>1</th>\n",
              "      <td>facebook/react-native</td>\n",
              "      <td>[]</td>\n",
              "      <td>['rename host preload -&gt; start', 'Fix react un...</td>\n",
              "      <td>React Native\\nLearn once, write anywhere:\\nBui...</td>\n",
              "      <td>NaN</td>\n",
              "    </tr>\n",
              "    <tr>\n",
              "      <th>2</th>\n",
              "      <td>facebook/react</td>\n",
              "      <td>[]</td>\n",
              "      <td>['[react-native] Always set RN$stopSurface', '...</td>\n",
              "      <td>React ·\\nReact is a JavaScript library for bui...</td>\n",
              "      <td>NaN</td>\n",
              "    </tr>\n",
              "    <tr>\n",
              "      <th>3</th>\n",
              "      <td>scikit-learn/scikit-learn</td>\n",
              "      <td>['AdaBoost: allow base_estimator=None (#26242)...</td>\n",
              "      <td>['EXA Tweak plot_set_output comment', 'DOC Fix...</td>\n",
              "      <td>scikit-learn is a Python module for machine le...</td>\n",
              "      <td>NaN</td>\n",
              "    </tr>\n",
              "    <tr>\n",
              "      <th>4</th>\n",
              "      <td>apple/swift</td>\n",
              "      <td>[]</td>\n",
              "      <td>['improve error when using noncopyable type wi...</td>\n",
              "      <td>Swift Programming Language\\nArchitecture Build...</td>\n",
              "      <td>NaN</td>\n",
              "    </tr>\n",
              "  </tbody>\n",
              "</table>\n",
              "</div>\n",
              "      <button class=\"colab-df-convert\" onclick=\"convertToInteractive('df-4e02c7c9-d06a-474b-a03f-05ea448a9889')\"\n",
              "              title=\"Convert this dataframe to an interactive table.\"\n",
              "              style=\"display:none;\">\n",
              "        \n",
              "  <svg xmlns=\"http://www.w3.org/2000/svg\" height=\"24px\"viewBox=\"0 0 24 24\"\n",
              "       width=\"24px\">\n",
              "    <path d=\"M0 0h24v24H0V0z\" fill=\"none\"/>\n",
              "    <path d=\"M18.56 5.44l.94 2.06.94-2.06 2.06-.94-2.06-.94-.94-2.06-.94 2.06-2.06.94zm-11 1L8.5 8.5l.94-2.06 2.06-.94-2.06-.94L8.5 2.5l-.94 2.06-2.06.94zm10 10l.94 2.06.94-2.06 2.06-.94-2.06-.94-.94-2.06-.94 2.06-2.06.94z\"/><path d=\"M17.41 7.96l-1.37-1.37c-.4-.4-.92-.59-1.43-.59-.52 0-1.04.2-1.43.59L10.3 9.45l-7.72 7.72c-.78.78-.78 2.05 0 2.83L4 21.41c.39.39.9.59 1.41.59.51 0 1.02-.2 1.41-.59l7.78-7.78 2.81-2.81c.8-.78.8-2.07 0-2.86zM5.41 20L4 18.59l7.72-7.72 1.47 1.35L5.41 20z\"/>\n",
              "  </svg>\n",
              "      </button>\n",
              "      \n",
              "  <style>\n",
              "    .colab-df-container {\n",
              "      display:flex;\n",
              "      flex-wrap:wrap;\n",
              "      gap: 12px;\n",
              "    }\n",
              "\n",
              "    .colab-df-convert {\n",
              "      background-color: #E8F0FE;\n",
              "      border: none;\n",
              "      border-radius: 50%;\n",
              "      cursor: pointer;\n",
              "      display: none;\n",
              "      fill: #1967D2;\n",
              "      height: 32px;\n",
              "      padding: 0 0 0 0;\n",
              "      width: 32px;\n",
              "    }\n",
              "\n",
              "    .colab-df-convert:hover {\n",
              "      background-color: #E2EBFA;\n",
              "      box-shadow: 0px 1px 2px rgba(60, 64, 67, 0.3), 0px 1px 3px 1px rgba(60, 64, 67, 0.15);\n",
              "      fill: #174EA6;\n",
              "    }\n",
              "\n",
              "    [theme=dark] .colab-df-convert {\n",
              "      background-color: #3B4455;\n",
              "      fill: #D2E3FC;\n",
              "    }\n",
              "\n",
              "    [theme=dark] .colab-df-convert:hover {\n",
              "      background-color: #434B5C;\n",
              "      box-shadow: 0px 1px 3px 1px rgba(0, 0, 0, 0.15);\n",
              "      filter: drop-shadow(0px 1px 2px rgba(0, 0, 0, 0.3));\n",
              "      fill: #FFFFFF;\n",
              "    }\n",
              "  </style>\n",
              "\n",
              "      <script>\n",
              "        const buttonEl =\n",
              "          document.querySelector('#df-4e02c7c9-d06a-474b-a03f-05ea448a9889 button.colab-df-convert');\n",
              "        buttonEl.style.display =\n",
              "          google.colab.kernel.accessAllowed ? 'block' : 'none';\n",
              "\n",
              "        async function convertToInteractive(key) {\n",
              "          const element = document.querySelector('#df-4e02c7c9-d06a-474b-a03f-05ea448a9889');\n",
              "          const dataTable =\n",
              "            await google.colab.kernel.invokeFunction('convertToInteractive',\n",
              "                                                     [key], {});\n",
              "          if (!dataTable) return;\n",
              "\n",
              "          const docLinkHtml = 'Like what you see? Visit the ' +\n",
              "            '<a target=\"_blank\" href=https://colab.research.google.com/notebooks/data_table.ipynb>data table notebook</a>'\n",
              "            + ' to learn more about interactive tables.';\n",
              "          element.innerHTML = '';\n",
              "          dataTable['output_type'] = 'display_data';\n",
              "          await google.colab.output.renderOutput(dataTable, element);\n",
              "          const docLink = document.createElement('div');\n",
              "          docLink.innerHTML = docLinkHtml;\n",
              "          element.appendChild(docLink);\n",
              "        }\n",
              "      </script>\n",
              "    </div>\n",
              "  </div>\n",
              "  "
            ]
          },
          "metadata": {},
          "execution_count": 163
        }
      ]
    },
    {
      "cell_type": "code",
      "source": [
        "type(df['pulls'])"
      ],
      "metadata": {
        "id": "kpjHjL0scKYz",
        "outputId": "81a04df4-ce25-4847-b717-5c3c850909d9",
        "colab": {
          "base_uri": "https://localhost:8080/"
        }
      },
      "execution_count": 164,
      "outputs": [
        {
          "output_type": "execute_result",
          "data": {
            "text/plain": [
              "pandas.core.series.Series"
            ]
          },
          "metadata": {},
          "execution_count": 164
        }
      ]
    },
    {
      "cell_type": "code",
      "source": [
        "len(df['commits'][3])"
      ],
      "metadata": {
        "id": "LQaTVuVYcSOP",
        "outputId": "8dac5477-f1ee-41f6-f8e4-864371ac7132",
        "colab": {
          "base_uri": "https://localhost:8080/"
        }
      },
      "execution_count": 165,
      "outputs": [
        {
          "output_type": "execute_result",
          "data": {
            "text/plain": [
              "336702"
            ]
          },
          "metadata": {},
          "execution_count": 165
        }
      ]
    },
    {
      "cell_type": "code",
      "source": [
        "import ast\n",
        "def string_to_list(message):\n",
        "  list_of_strings = ast.literal_eval(message)\n",
        "  return list_of_strings\n",
        "\n",
        "df['pulls']=df['pulls'].apply(string_to_list)"
      ],
      "metadata": {
        "id": "hu_bJy_KcVAB"
      },
      "execution_count": 166,
      "outputs": []
    },
    {
      "cell_type": "code",
      "source": [
        "df.head()"
      ],
      "metadata": {
        "id": "d2qdzljZNB3S",
        "outputId": "e1dbf2a2-4134-4a27-ca4b-cf179ee30130",
        "colab": {
          "base_uri": "https://localhost:8080/",
          "height": 337
        }
      },
      "execution_count": 167,
      "outputs": [
        {
          "output_type": "execute_result",
          "data": {
            "text/plain": [
              "                  repository  \\\n",
              "0       Microsoft/TypeScript   \n",
              "1      facebook/react-native   \n",
              "2             facebook/react   \n",
              "3  scikit-learn/scikit-learn   \n",
              "4                apple/swift   \n",
              "\n",
              "                                             commits  \\\n",
              "0                                                 []   \n",
              "1                                                 []   \n",
              "2                                                 []   \n",
              "3  ['AdaBoost: allow base_estimator=None (#26242)...   \n",
              "4                                                 []   \n",
              "\n",
              "                                               pulls  \\\n",
              "0  [Cache expression type when checking assertion...   \n",
              "1  [rename host preload -> start, Fix react unit ...   \n",
              "2  [[react-native] Always set RN$stopSurface, fix...   \n",
              "3  [EXA Tweak plot_set_output comment, DOC Fix wr...   \n",
              "4  [improve error when using noncopyable type wit...   \n",
              "\n",
              "                                              readme  release_notes  \n",
              "0  TypeScript\\nTypeScript is a language for appli...            NaN  \n",
              "1  React Native\\nLearn once, write anywhere:\\nBui...            NaN  \n",
              "2  React ·\\nReact is a JavaScript library for bui...            NaN  \n",
              "3  scikit-learn is a Python module for machine le...            NaN  \n",
              "4  Swift Programming Language\\nArchitecture Build...            NaN  "
            ],
            "text/html": [
              "\n",
              "  <div id=\"df-c03335ee-5427-4786-a8f4-86caac49598d\">\n",
              "    <div class=\"colab-df-container\">\n",
              "      <div>\n",
              "<style scoped>\n",
              "    .dataframe tbody tr th:only-of-type {\n",
              "        vertical-align: middle;\n",
              "    }\n",
              "\n",
              "    .dataframe tbody tr th {\n",
              "        vertical-align: top;\n",
              "    }\n",
              "\n",
              "    .dataframe thead th {\n",
              "        text-align: right;\n",
              "    }\n",
              "</style>\n",
              "<table border=\"1\" class=\"dataframe\">\n",
              "  <thead>\n",
              "    <tr style=\"text-align: right;\">\n",
              "      <th></th>\n",
              "      <th>repository</th>\n",
              "      <th>commits</th>\n",
              "      <th>pulls</th>\n",
              "      <th>readme</th>\n",
              "      <th>release_notes</th>\n",
              "    </tr>\n",
              "  </thead>\n",
              "  <tbody>\n",
              "    <tr>\n",
              "      <th>0</th>\n",
              "      <td>Microsoft/TypeScript</td>\n",
              "      <td>[]</td>\n",
              "      <td>[Cache expression type when checking assertion...</td>\n",
              "      <td>TypeScript\\nTypeScript is a language for appli...</td>\n",
              "      <td>NaN</td>\n",
              "    </tr>\n",
              "    <tr>\n",
              "      <th>1</th>\n",
              "      <td>facebook/react-native</td>\n",
              "      <td>[]</td>\n",
              "      <td>[rename host preload -&gt; start, Fix react unit ...</td>\n",
              "      <td>React Native\\nLearn once, write anywhere:\\nBui...</td>\n",
              "      <td>NaN</td>\n",
              "    </tr>\n",
              "    <tr>\n",
              "      <th>2</th>\n",
              "      <td>facebook/react</td>\n",
              "      <td>[]</td>\n",
              "      <td>[[react-native] Always set RN$stopSurface, fix...</td>\n",
              "      <td>React ·\\nReact is a JavaScript library for bui...</td>\n",
              "      <td>NaN</td>\n",
              "    </tr>\n",
              "    <tr>\n",
              "      <th>3</th>\n",
              "      <td>scikit-learn/scikit-learn</td>\n",
              "      <td>['AdaBoost: allow base_estimator=None (#26242)...</td>\n",
              "      <td>[EXA Tweak plot_set_output comment, DOC Fix wr...</td>\n",
              "      <td>scikit-learn is a Python module for machine le...</td>\n",
              "      <td>NaN</td>\n",
              "    </tr>\n",
              "    <tr>\n",
              "      <th>4</th>\n",
              "      <td>apple/swift</td>\n",
              "      <td>[]</td>\n",
              "      <td>[improve error when using noncopyable type wit...</td>\n",
              "      <td>Swift Programming Language\\nArchitecture Build...</td>\n",
              "      <td>NaN</td>\n",
              "    </tr>\n",
              "  </tbody>\n",
              "</table>\n",
              "</div>\n",
              "      <button class=\"colab-df-convert\" onclick=\"convertToInteractive('df-c03335ee-5427-4786-a8f4-86caac49598d')\"\n",
              "              title=\"Convert this dataframe to an interactive table.\"\n",
              "              style=\"display:none;\">\n",
              "        \n",
              "  <svg xmlns=\"http://www.w3.org/2000/svg\" height=\"24px\"viewBox=\"0 0 24 24\"\n",
              "       width=\"24px\">\n",
              "    <path d=\"M0 0h24v24H0V0z\" fill=\"none\"/>\n",
              "    <path d=\"M18.56 5.44l.94 2.06.94-2.06 2.06-.94-2.06-.94-.94-2.06-.94 2.06-2.06.94zm-11 1L8.5 8.5l.94-2.06 2.06-.94-2.06-.94L8.5 2.5l-.94 2.06-2.06.94zm10 10l.94 2.06.94-2.06 2.06-.94-2.06-.94-.94-2.06-.94 2.06-2.06.94z\"/><path d=\"M17.41 7.96l-1.37-1.37c-.4-.4-.92-.59-1.43-.59-.52 0-1.04.2-1.43.59L10.3 9.45l-7.72 7.72c-.78.78-.78 2.05 0 2.83L4 21.41c.39.39.9.59 1.41.59.51 0 1.02-.2 1.41-.59l7.78-7.78 2.81-2.81c.8-.78.8-2.07 0-2.86zM5.41 20L4 18.59l7.72-7.72 1.47 1.35L5.41 20z\"/>\n",
              "  </svg>\n",
              "      </button>\n",
              "      \n",
              "  <style>\n",
              "    .colab-df-container {\n",
              "      display:flex;\n",
              "      flex-wrap:wrap;\n",
              "      gap: 12px;\n",
              "    }\n",
              "\n",
              "    .colab-df-convert {\n",
              "      background-color: #E8F0FE;\n",
              "      border: none;\n",
              "      border-radius: 50%;\n",
              "      cursor: pointer;\n",
              "      display: none;\n",
              "      fill: #1967D2;\n",
              "      height: 32px;\n",
              "      padding: 0 0 0 0;\n",
              "      width: 32px;\n",
              "    }\n",
              "\n",
              "    .colab-df-convert:hover {\n",
              "      background-color: #E2EBFA;\n",
              "      box-shadow: 0px 1px 2px rgba(60, 64, 67, 0.3), 0px 1px 3px 1px rgba(60, 64, 67, 0.15);\n",
              "      fill: #174EA6;\n",
              "    }\n",
              "\n",
              "    [theme=dark] .colab-df-convert {\n",
              "      background-color: #3B4455;\n",
              "      fill: #D2E3FC;\n",
              "    }\n",
              "\n",
              "    [theme=dark] .colab-df-convert:hover {\n",
              "      background-color: #434B5C;\n",
              "      box-shadow: 0px 1px 3px 1px rgba(0, 0, 0, 0.15);\n",
              "      filter: drop-shadow(0px 1px 2px rgba(0, 0, 0, 0.3));\n",
              "      fill: #FFFFFF;\n",
              "    }\n",
              "  </style>\n",
              "\n",
              "      <script>\n",
              "        const buttonEl =\n",
              "          document.querySelector('#df-c03335ee-5427-4786-a8f4-86caac49598d button.colab-df-convert');\n",
              "        buttonEl.style.display =\n",
              "          google.colab.kernel.accessAllowed ? 'block' : 'none';\n",
              "\n",
              "        async function convertToInteractive(key) {\n",
              "          const element = document.querySelector('#df-c03335ee-5427-4786-a8f4-86caac49598d');\n",
              "          const dataTable =\n",
              "            await google.colab.kernel.invokeFunction('convertToInteractive',\n",
              "                                                     [key], {});\n",
              "          if (!dataTable) return;\n",
              "\n",
              "          const docLinkHtml = 'Like what you see? Visit the ' +\n",
              "            '<a target=\"_blank\" href=https://colab.research.google.com/notebooks/data_table.ipynb>data table notebook</a>'\n",
              "            + ' to learn more about interactive tables.';\n",
              "          element.innerHTML = '';\n",
              "          dataTable['output_type'] = 'display_data';\n",
              "          await google.colab.output.renderOutput(dataTable, element);\n",
              "          const docLink = document.createElement('div');\n",
              "          docLink.innerHTML = docLinkHtml;\n",
              "          element.appendChild(docLink);\n",
              "        }\n",
              "      </script>\n",
              "    </div>\n",
              "  </div>\n",
              "  "
            ]
          },
          "metadata": {},
          "execution_count": 167
        }
      ]
    },
    {
      "cell_type": "code",
      "source": [
        "def list_to_string(message):\n",
        "  joined_sentences = \" \".join(message)\n",
        "  return joined_sentences"
      ],
      "metadata": {
        "id": "XgR6XQbUNEQQ"
      },
      "execution_count": 168,
      "outputs": []
    },
    {
      "cell_type": "code",
      "source": [
        "df['pulls']=df['pulls'].apply(list_to_string)"
      ],
      "metadata": {
        "id": "SH9TJ2M2NoaT"
      },
      "execution_count": 169,
      "outputs": []
    },
    {
      "cell_type": "code",
      "source": [
        "type(df['pulls'][0])"
      ],
      "metadata": {
        "id": "_V3h9WjqN0Qu",
        "outputId": "c8b433ed-a7c7-4329-fe7b-bba633f729dc",
        "colab": {
          "base_uri": "https://localhost:8080/"
        }
      },
      "execution_count": 170,
      "outputs": [
        {
          "output_type": "execute_result",
          "data": {
            "text/plain": [
              "str"
            ]
          },
          "metadata": {},
          "execution_count": 170
        }
      ]
    },
    {
      "cell_type": "code",
      "source": [
        "df.head()"
      ],
      "metadata": {
        "id": "4iKcsVGlOdmJ",
        "outputId": "92009454-d3c1-41ff-ef30-413143de5a94",
        "colab": {
          "base_uri": "https://localhost:8080/",
          "height": 337
        }
      },
      "execution_count": 171,
      "outputs": [
        {
          "output_type": "execute_result",
          "data": {
            "text/plain": [
              "                  repository  \\\n",
              "0       Microsoft/TypeScript   \n",
              "1      facebook/react-native   \n",
              "2             facebook/react   \n",
              "3  scikit-learn/scikit-learn   \n",
              "4                apple/swift   \n",
              "\n",
              "                                             commits  \\\n",
              "0                                                 []   \n",
              "1                                                 []   \n",
              "2                                                 []   \n",
              "3  ['AdaBoost: allow base_estimator=None (#26242)...   \n",
              "4                                                 []   \n",
              "\n",
              "                                               pulls  \\\n",
              "0  Cache expression type when checking assertion ...   \n",
              "1  rename host preload -> start Fix react unit te...   \n",
              "2  [react-native] Always set RN$stopSurface fix[d...   \n",
              "3  EXA Tweak plot_set_output comment DOC Fix wron...   \n",
              "4  improve error when using noncopyable type with...   \n",
              "\n",
              "                                              readme  release_notes  \n",
              "0  TypeScript\\nTypeScript is a language for appli...            NaN  \n",
              "1  React Native\\nLearn once, write anywhere:\\nBui...            NaN  \n",
              "2  React ·\\nReact is a JavaScript library for bui...            NaN  \n",
              "3  scikit-learn is a Python module for machine le...            NaN  \n",
              "4  Swift Programming Language\\nArchitecture Build...            NaN  "
            ],
            "text/html": [
              "\n",
              "  <div id=\"df-86c28b6e-6f9c-46ca-9afd-d44abe153df5\">\n",
              "    <div class=\"colab-df-container\">\n",
              "      <div>\n",
              "<style scoped>\n",
              "    .dataframe tbody tr th:only-of-type {\n",
              "        vertical-align: middle;\n",
              "    }\n",
              "\n",
              "    .dataframe tbody tr th {\n",
              "        vertical-align: top;\n",
              "    }\n",
              "\n",
              "    .dataframe thead th {\n",
              "        text-align: right;\n",
              "    }\n",
              "</style>\n",
              "<table border=\"1\" class=\"dataframe\">\n",
              "  <thead>\n",
              "    <tr style=\"text-align: right;\">\n",
              "      <th></th>\n",
              "      <th>repository</th>\n",
              "      <th>commits</th>\n",
              "      <th>pulls</th>\n",
              "      <th>readme</th>\n",
              "      <th>release_notes</th>\n",
              "    </tr>\n",
              "  </thead>\n",
              "  <tbody>\n",
              "    <tr>\n",
              "      <th>0</th>\n",
              "      <td>Microsoft/TypeScript</td>\n",
              "      <td>[]</td>\n",
              "      <td>Cache expression type when checking assertion ...</td>\n",
              "      <td>TypeScript\\nTypeScript is a language for appli...</td>\n",
              "      <td>NaN</td>\n",
              "    </tr>\n",
              "    <tr>\n",
              "      <th>1</th>\n",
              "      <td>facebook/react-native</td>\n",
              "      <td>[]</td>\n",
              "      <td>rename host preload -&gt; start Fix react unit te...</td>\n",
              "      <td>React Native\\nLearn once, write anywhere:\\nBui...</td>\n",
              "      <td>NaN</td>\n",
              "    </tr>\n",
              "    <tr>\n",
              "      <th>2</th>\n",
              "      <td>facebook/react</td>\n",
              "      <td>[]</td>\n",
              "      <td>[react-native] Always set RN$stopSurface fix[d...</td>\n",
              "      <td>React ·\\nReact is a JavaScript library for bui...</td>\n",
              "      <td>NaN</td>\n",
              "    </tr>\n",
              "    <tr>\n",
              "      <th>3</th>\n",
              "      <td>scikit-learn/scikit-learn</td>\n",
              "      <td>['AdaBoost: allow base_estimator=None (#26242)...</td>\n",
              "      <td>EXA Tweak plot_set_output comment DOC Fix wron...</td>\n",
              "      <td>scikit-learn is a Python module for machine le...</td>\n",
              "      <td>NaN</td>\n",
              "    </tr>\n",
              "    <tr>\n",
              "      <th>4</th>\n",
              "      <td>apple/swift</td>\n",
              "      <td>[]</td>\n",
              "      <td>improve error when using noncopyable type with...</td>\n",
              "      <td>Swift Programming Language\\nArchitecture Build...</td>\n",
              "      <td>NaN</td>\n",
              "    </tr>\n",
              "  </tbody>\n",
              "</table>\n",
              "</div>\n",
              "      <button class=\"colab-df-convert\" onclick=\"convertToInteractive('df-86c28b6e-6f9c-46ca-9afd-d44abe153df5')\"\n",
              "              title=\"Convert this dataframe to an interactive table.\"\n",
              "              style=\"display:none;\">\n",
              "        \n",
              "  <svg xmlns=\"http://www.w3.org/2000/svg\" height=\"24px\"viewBox=\"0 0 24 24\"\n",
              "       width=\"24px\">\n",
              "    <path d=\"M0 0h24v24H0V0z\" fill=\"none\"/>\n",
              "    <path d=\"M18.56 5.44l.94 2.06.94-2.06 2.06-.94-2.06-.94-.94-2.06-.94 2.06-2.06.94zm-11 1L8.5 8.5l.94-2.06 2.06-.94-2.06-.94L8.5 2.5l-.94 2.06-2.06.94zm10 10l.94 2.06.94-2.06 2.06-.94-2.06-.94-.94-2.06-.94 2.06-2.06.94z\"/><path d=\"M17.41 7.96l-1.37-1.37c-.4-.4-.92-.59-1.43-.59-.52 0-1.04.2-1.43.59L10.3 9.45l-7.72 7.72c-.78.78-.78 2.05 0 2.83L4 21.41c.39.39.9.59 1.41.59.51 0 1.02-.2 1.41-.59l7.78-7.78 2.81-2.81c.8-.78.8-2.07 0-2.86zM5.41 20L4 18.59l7.72-7.72 1.47 1.35L5.41 20z\"/>\n",
              "  </svg>\n",
              "      </button>\n",
              "      \n",
              "  <style>\n",
              "    .colab-df-container {\n",
              "      display:flex;\n",
              "      flex-wrap:wrap;\n",
              "      gap: 12px;\n",
              "    }\n",
              "\n",
              "    .colab-df-convert {\n",
              "      background-color: #E8F0FE;\n",
              "      border: none;\n",
              "      border-radius: 50%;\n",
              "      cursor: pointer;\n",
              "      display: none;\n",
              "      fill: #1967D2;\n",
              "      height: 32px;\n",
              "      padding: 0 0 0 0;\n",
              "      width: 32px;\n",
              "    }\n",
              "\n",
              "    .colab-df-convert:hover {\n",
              "      background-color: #E2EBFA;\n",
              "      box-shadow: 0px 1px 2px rgba(60, 64, 67, 0.3), 0px 1px 3px 1px rgba(60, 64, 67, 0.15);\n",
              "      fill: #174EA6;\n",
              "    }\n",
              "\n",
              "    [theme=dark] .colab-df-convert {\n",
              "      background-color: #3B4455;\n",
              "      fill: #D2E3FC;\n",
              "    }\n",
              "\n",
              "    [theme=dark] .colab-df-convert:hover {\n",
              "      background-color: #434B5C;\n",
              "      box-shadow: 0px 1px 3px 1px rgba(0, 0, 0, 0.15);\n",
              "      filter: drop-shadow(0px 1px 2px rgba(0, 0, 0, 0.3));\n",
              "      fill: #FFFFFF;\n",
              "    }\n",
              "  </style>\n",
              "\n",
              "      <script>\n",
              "        const buttonEl =\n",
              "          document.querySelector('#df-86c28b6e-6f9c-46ca-9afd-d44abe153df5 button.colab-df-convert');\n",
              "        buttonEl.style.display =\n",
              "          google.colab.kernel.accessAllowed ? 'block' : 'none';\n",
              "\n",
              "        async function convertToInteractive(key) {\n",
              "          const element = document.querySelector('#df-86c28b6e-6f9c-46ca-9afd-d44abe153df5');\n",
              "          const dataTable =\n",
              "            await google.colab.kernel.invokeFunction('convertToInteractive',\n",
              "                                                     [key], {});\n",
              "          if (!dataTable) return;\n",
              "\n",
              "          const docLinkHtml = 'Like what you see? Visit the ' +\n",
              "            '<a target=\"_blank\" href=https://colab.research.google.com/notebooks/data_table.ipynb>data table notebook</a>'\n",
              "            + ' to learn more about interactive tables.';\n",
              "          element.innerHTML = '';\n",
              "          dataTable['output_type'] = 'display_data';\n",
              "          await google.colab.output.renderOutput(dataTable, element);\n",
              "          const docLink = document.createElement('div');\n",
              "          docLink.innerHTML = docLinkHtml;\n",
              "          element.appendChild(docLink);\n",
              "        }\n",
              "      </script>\n",
              "    </div>\n",
              "  </div>\n",
              "  "
            ]
          },
          "metadata": {},
          "execution_count": 171
        }
      ]
    },
    {
      "cell_type": "code",
      "source": [
        "second_df=pd.read_csv('/content/drive/MyDrive/Research Paper Dataset/second.csv')"
      ],
      "metadata": {
        "id": "RA2iSAykOrvM"
      },
      "execution_count": 172,
      "outputs": []
    },
    {
      "cell_type": "code",
      "source": [
        "second_df.drop(columns='Unnamed: 0',inplace=True)"
      ],
      "metadata": {
        "id": "D8OMERtNOu0K"
      },
      "execution_count": 173,
      "outputs": []
    },
    {
      "cell_type": "code",
      "source": [
        "second_df.columns"
      ],
      "metadata": {
        "id": "-Y_kXgYRQ5l-",
        "outputId": "4995b285-f184-443d-913d-68b162d59af3",
        "colab": {
          "base_uri": "https://localhost:8080/"
        }
      },
      "execution_count": 174,
      "outputs": [
        {
          "output_type": "execute_result",
          "data": {
            "text/plain": [
              "Index(['repository', 'commits', 'release_notes'], dtype='object')"
            ]
          },
          "metadata": {},
          "execution_count": 174
        }
      ]
    },
    {
      "cell_type": "code",
      "source": [
        "second_df['repository'][0]"
      ],
      "metadata": {
        "id": "im2vBRfOREML",
        "outputId": "bbe7cc66-e4bb-4a90-8991-cbdd1c06a288",
        "colab": {
          "base_uri": "https://localhost:8080/",
          "height": 36
        }
      },
      "execution_count": 175,
      "outputs": [
        {
          "output_type": "execute_result",
          "data": {
            "text/plain": [
              "'Microsoft/TypeScript'"
            ],
            "application/vnd.google.colaboratory.intrinsic+json": {
              "type": "string"
            }
          },
          "metadata": {},
          "execution_count": 175
        }
      ]
    },
    {
      "cell_type": "code",
      "source": [
        "second_df['commits']=second_df['commits'].apply(string_to_list)"
      ],
      "metadata": {
        "id": "vuf37pZQR21d"
      },
      "execution_count": 176,
      "outputs": []
    },
    {
      "cell_type": "code",
      "source": [
        "second_df['commits']=second_df['commits'].apply(list_to_string)"
      ],
      "metadata": {
        "id": "sS9SU3G0R4SM"
      },
      "execution_count": 177,
      "outputs": []
    },
    {
      "cell_type": "code",
      "source": [
        "type(second_df['commits'][0])"
      ],
      "metadata": {
        "id": "F32DM6_BSCE9",
        "outputId": "5a4ca30a-b916-40ed-8a9d-c5a782620c19",
        "colab": {
          "base_uri": "https://localhost:8080/"
        }
      },
      "execution_count": 178,
      "outputs": [
        {
          "output_type": "execute_result",
          "data": {
            "text/plain": [
              "str"
            ]
          },
          "metadata": {},
          "execution_count": 178
        }
      ]
    },
    {
      "cell_type": "code",
      "source": [
        "second_df['release_notes'][2]"
      ],
      "metadata": {
        "id": "iiwwKdO7SSOA",
        "outputId": "89ee9c54-5b8d-447d-9287-597e58cceed7",
        "colab": {
          "base_uri": "https://localhost:8080/",
          "height": 140
        }
      },
      "execution_count": 179,
      "outputs": [
        {
          "output_type": "execute_result",
          "data": {
            "text/plain": [
              "'[\\'18.2.0 (June 14, 2022)\\', \\'### React DOM\\\\r\\\\n\\\\r\\\\n* Provide a component stack as a second argument to `onRecoverableError`. ([@gnoff](https://github.com/gnoff) in [#24591](https://github.com/facebook/react/pull/24591))\\\\r\\\\n* Fix hydrating into `document` causing a blank page on mismatch. ([@gnoff](https://github.com/gnoff) in [#24523](https://github.com/facebook/react/pull/24523))\\\\r\\\\n* Fix false positive hydration errors with Suspense. ([@gnoff](https://github.com/gnoff) in [#24480](https://github.com/facebook/react/pull/24480) and  [@acdlite](https://github.com/acdlite) in [#24532](https://github.com/facebook/react/pull/24532))\\\\r\\\\n* Fix ignored `setState` in Safari when adding an iframe. ([@gaearon](https://github.com/gaearon) in [#24459](https://github.com/facebook/react/pull/24459))\\\\r\\\\n\\\\r\\\\n### React DOM Server\\\\r\\\\n\\\\r\\\\n* Pass information about server errors to the client. ([@salazarm](https://github.com/salazarm) and [@gnoff](https://github.com/gnoff) in [#24551](https://github.com/facebook/react/pull/24551) and [#24591](https://github.com/facebook/react/pull/24591))\\\\r\\\\n* Allow to provide a reason when aborting the HTML stream. ([@gnoff](https://github.com/gnoff) in [#24680](https://github.com/facebook/react/pull/24680))\\\\r\\\\n* Eliminate extraneous text separators in the HTML where possible. ([@gnoff](https://github.com/gnoff) in [#24630](https://github.com/facebook/react/pull/24630))\\\\r\\\\n* Disallow complex children inside `<title>` elements to match the browser constraints. ([@gnoff](https://github.com/gnoff) in [#24679](https://github.com/facebook/react/pull/24679))\\\\r\\\\n* Fix buffering in some worker environments by explicitly setting `highWaterMark` to `0`. ([@jplhomer](https://github.com/jplhomer) in [#24641](https://github.com/facebook/react/pull/24641))\\\\r\\\\n\\\\r\\\\n### Server Components (Experimental)\\\\r\\\\n\\\\r\\\\n* Add support for `useId()` inside Server Components. ([@gnoff](https://github.com/gnoff)) in [#24172](https://github.com/facebook/react/pull/24172)\\', \\'18.1.0 (April 26, 2022)\\', \"### React DOM\\\\r\\\\n\\\\r\\\\n* Fix the false positive warning about `react-dom/client` when using UMD bundle. ([@alireza-molaee](https://github.com/alireza-molaee) in [#24274](https://github.com/facebook/react/pull/24274))\\\\r\\\\n* Fix `suppressHydrationWarning` to work in production too. ([@gaearon](https://github.com/gaearon) in [#24271](https://github.com/facebook/react/pull/24271))\\\\r\\\\n* Fix `componentWillUnmount` firing twice inside of Suspense. ([@acdlite](https://github.com/acdlite) in [#24308](https://github.com/facebook/react/pull/24308))\\\\r\\\\n* Fix some transition updates being ignored. ([@acdlite](https://github.com/acdlite) in [#24353](https://github.com/facebook/react/pull/24353))\\\\r\\\\n* Fix `useDeferredValue` causing an infinite loop when passed an unmemoized value. ([@acdlite](https://github.com/acdlite) in [#24247](https://github.com/facebook/react/pull/24247))\\\\r\\\\n* Fix throttling of revealing Suspense fallbacks. ([@sunderls](https://github.com/sunderls) in [#24253](https://github.com/facebook/react/pull/24253))\\\\r\\\\n* Fix an inconsistency in whether the props object is the same between renders. ([@Andarist](https://github.com/Andarist) and [@acdlite](https://github.com/acdlite) in [#24421](https://github.com/facebook/react/pull/24421))\\\\r\\\\n* Fix a missing warning about a `setState` loop in `useEffect`. ([@gaearon](https://github.com/gaearon) in [#24298](https://github.com/facebook/react/pull/24298))\\\\r\\\\n* Fix a spurious hydration error. ([@gnoff](https://github.com/gnoff) in [#24404](https://github.com/facebook/react/pull/24404))\\\\r\\\\n* Warn when calling `setState` in `useInsertionEffect`. ([@gaearon](https://github.com/gaearon) in [#24295](https://github.com/facebook/react/pull/24295))\\\\r\\\\n* Ensure the reason for hydration errors is always displayed. ([@gaearon](https://github.com/gaearon) in [#24276](https://github.com/facebook/react/pull/24276))\\\\r\\\\n\\\\r\\\\n### React DOM Server\\\\r\\\\n\\\\r\\\\n* Fix escaping for the `bootstrapScriptContent` contents. ([@gnoff](https://github.com/gnoff) in [#24385](https://github.com/facebook/react/pull/24385))\\\\r\\\\n* Significantly improve performance of `renderToPipeableStream`. ([@gnoff](https://github.com/gnoff) in [#24291](https://github.com/facebook/react/pull/24291))\\\\r\\\\n\\\\r\\\\n### ESLint Plugin: React Hooks\\\\r\\\\n\\\\r\\\\n* Fix false positive errors with a large number of branches. ([@scyron6](https://github.com/scyron6) in [#24287](https://github.com/facebook/react/pull/24287))\\\\r\\\\n* Don\\'t consider a known dependency stable when the variable is reassigned. ([@afzalsayed96](https://github.com/afzalsayed96) in [#24343](https://github.com/facebook/react/pull/24343))\\\\r\\\\n\\\\r\\\\n### Use Subscription\\\\r\\\\n\\\\r\\\\n* Replace the implementation with the `use-sync-external-store` shim. ([@gaearon](https://github.com/gaearon) in [#24289](https://github.com/facebook/react/pull/24289))\", \\'18.0.0 (March 29, 2022)\\', \\'Below is a list of all new features, APIs, deprecations, and breaking changes.\\\\r\\\\nRead [React 18 release post](https://reactjs.org/blog/2022/03/29/react-v18.html) and [React 18 upgrade guide](https://reactjs.org/blog/2022/03/08/react-18-upgrade-guide.html) for more information.\\\\r\\\\n\\\\r\\\\n### New Features\\\\r\\\\n\\\\r\\\\n### React\\\\r\\\\n\\\\r\\\\n* `useId` is a new hook for generating unique IDs on both the client and server, while avoiding hydration mismatches. It is primarily useful for component libraries integrating with accessibility APIs that require unique IDs. This solves an issue that already exists in React 17 and below, but it’s even more important in React 18 because of how the new streaming server renderer delivers HTML out-of-order.\\\\r\\\\n* `startTransition` and `useTransition` let you mark some state updates as not urgent. Other state updates are considered urgent by default. React will allow urgent state updates (for example, updating a text input) to interrupt non-urgent state updates (for example, rendering a list of search results).\\\\r\\\\n* `useDeferredValue` lets you defer re-rendering a non-urgent part of the tree. It is similar to debouncing, but has a few advantages compared to it. There is no fixed time delay, so React will attempt the deferred render right after the first render is reflected on the screen. The deferred render is interruptible and doesn\\\\\\'t block user input.\\\\r\\\\n* `useSyncExternalStore` is a new hook that allows external stores to support concurrent reads by forcing updates to the store to be synchronous. It removes the need for `useEffect` when implementing subscriptions to external data sources, and is recommended for any library that integrates with state external to React.\\\\r\\\\n* `useInsertionEffect` is a new hook that allows CSS-in-JS libraries to address performance issues of injecting styles in render. Unless you’ve already built a CSS-in-JS library we don’t expect you to ever use this. This hook will run after the DOM is mutated, but before layout effects read the new layout. This solves an issue that already exists in React 17 and below, but is even more important in React 18 because React yields to the browser during concurrent rendering, giving it a chance to recalculate layout.\\\\r\\\\n\\\\r\\\\n### React DOM Client\\\\r\\\\n\\\\r\\\\nThese new APIs are now exported from `react-dom/client`:\\\\r\\\\n\\\\r\\\\n* `createRoot`: New method to create a root to `render` or `unmount`. Use it instead of `ReactDOM.render`. New features in React 18 don\\\\\\'t work without it.\\\\r\\\\n* `hydrateRoot`: New method to hydrate a server rendered application. Use it instead of `ReactDOM.hydrate` in conjunction with the new React DOM Server APIs. New features in React 18 don\\\\\\'t work without it.\\\\r\\\\n\\\\r\\\\nBoth `createRoot` and `hydrateRoot` accept a new option called `onRecoverableError` in case you want to be notified when React recovers from errors during rendering or hydration for logging. By default, React will use [`reportError`](https://developer.mozilla.org/en-US/docs/Web/API/reportError), or `console.error` in the older browsers.\\\\r\\\\n\\\\r\\\\n### React DOM Server\\\\r\\\\n\\\\r\\\\nThese new APIs are now exported from `react-dom/server` and have full support for streaming Suspense on the server:\\\\r\\\\n\\\\r\\\\n* `renderToPipeableStream`: for streaming in Node environments.\\\\r\\\\n* `renderToReadableStream`: for modern edge runtime environments, such as Deno and Cloudflare workers.\\\\r\\\\n\\\\r\\\\nThe existing `renderToString` method keeps working but is discouraged.\\\\r\\\\n\\\\r\\\\n## Deprecations\\\\r\\\\n\\\\r\\\\n* `react-dom`: `ReactDOM.render` has been deprecated. Using it will warn and run your app in React 17 mode.\\\\r\\\\n* `react-dom`: `ReactDOM.hydrate` has been deprecated. Using it will warn and run your app in React 17 mode.\\\\r\\\\n* `react-dom`: `ReactDOM.unmountComponentAtNode` has been deprecated.\\\\r\\\\n* `react-dom`: `ReactDOM.renderSubtreeIntoContainer` has been deprecated.\\\\r\\\\n* `react-dom/server`: `ReactDOMServer.renderToNodeStream` has been deprecated.\\\\r\\\\n\\\\r\\\\n## Breaking Changes\\\\r\\\\n\\\\r\\\\n### React\\\\r\\\\n\\\\r\\\\n* **Automatic batching:** This release introduces a performance improvement that changes to the way React batches updates to do more batching automatically. See [Automatic batching for fewer renders in React 18](https://github.com/reactwg/react-18/discussions/21) for more info. In the rare case that you need to opt out, wrap the state update in `flushSync`.\\\\r\\\\n* **Stricter Strict Mode**: In the future, React will provide a feature that lets components preserve state between unmounts. To prepare for it, React 18 introduces a new development-only check to Strict Mode. React will automatically unmount and remount every component, whenever a component mounts for the first time, restoring the previous state on the second mount. If this breaks your app, consider removing Strict Mode until you can fix the components to be resilient to remounting with existing state.\\\\r\\\\n* **Consistent useEffect timing**: React now always synchronously flushes effect functions if the update was triggered during a discrete user input event such as a click or a keydown event. Previously, the behavior wasn\\\\\\'t always predictable or consistent.\\\\r\\\\n* **Stricter hydration errors**: Hydration mismatches due to missing or extra text content are now treated like errors instead of warnings. React will no longer attempt to \"patch up\" individual nodes by inserting or deleting a node on the client in an attempt to match the server markup, and will revert to client rendering up to the closest `<Suspense>` boundary in the tree. This ensures the hydrated tree is consistent and avoids potential privacy and security holes that can be caused by hydration mismatches.\\\\r\\\\n* **Suspense trees are always consistent:** If a component suspends before it\\\\\\'s fully added to the tree, React will not add it to the tree in an incomplete state or fire its effects. Instead, React will throw away the new tree completely, wait for the asynchronous operation to finish, and then retry rendering again from scratch. React will render the retry attempt concurrently, and without blocking the browser.\\\\r\\\\n* **Layout Effects with Suspense**: When a tree re-suspends and reverts to a fallback, React will now clean up layout effects, and then re-create them when the content inside the boundary is shown again. This fixes an issue which prevented component libraries from correctly measuring layout when used with Suspense.\\\\r\\\\n* **New JS Environment Requirements**: React now depends on modern browsers features including `Promise`, `Symbol`, and `Object.assign`. If you support older browsers and devices such as Internet Explorer which do not provide modern browser features natively or have non-compliant implementations, consider including a global polyfill in your bundled application.\\\\r\\\\n\\\\r\\\\n### Scheduler (Experimental)\\\\r\\\\n\\\\r\\\\n* Remove unstable `scheduler/tracing` API\\\\r\\\\n\\\\r\\\\n## Notable Changes\\\\r\\\\n\\\\r\\\\n### React\\\\r\\\\n\\\\r\\\\n* **Components can now render `undefined`:** React no longer throws if you return `undefined` from a component. This makes the allowed component return values consistent with values that are allowed in the middle of a component tree. We suggest to use a linter to prevent mistakes like forgetting a `return` statement before JSX.\\\\r\\\\n* **In tests, `act` warnings are now opt-in:** If you\\\\\\'re running end-to-end tests, the `act` warnings are unnecessary. We\\\\\\'ve introduced an [opt-in](https://github.com/reactwg/react-18/discussions/102) mechanism so you can enable them only for unit tests where they are useful and beneficial.\\\\r\\\\n* **No warning about `setState` on unmounted components:** Previously, React warned about memory leaks when you call `setState` on an unmounted component. This warning was added for subscriptions, but people primarily run into it in scenarios where setting state is fine, and workarounds make the code worse. We\\\\\\'ve [removed](https://github.com/facebook/react/pull/22114) this warning.\\\\r\\\\n* **No suppression of console logs:** When you use Strict Mode, React renders each component twice to help you find unexpected side effects. In React 17, we\\\\\\'ve suppressed console logs for one of the two renders to make the logs easier to read. In response to [community feedback](https://github.com/facebook/react/issues/21783) about this being confusing, we\\\\\\'ve removed the suppression. Instead, if you have React DevTools installed, the second log\\\\\\'s renders will be displayed in grey, and there will be an option (off by default) to suppress them completely.\\\\r\\\\n* **Improved memory usage:** React now cleans up more internal fields on unmount, making the impact from unfixed memory leaks that may exist in your application code less severe.\\\\r\\\\n\\\\r\\\\n### React DOM Server\\\\r\\\\n\\\\r\\\\n* **`renderToString`:** Will no longer error when suspending on the server. Instead, it will emit the fallback HTML for the closest `<Suspense>` boundary and then retry rendering the same content on the client. It is still recommended that you switch to a streaming API like `renderToPipeableStream` or `renderToReadableStream` instead.\\\\r\\\\n* **`renderToStaticMarkup`:** Will no longer error when suspending on the server. Instead, it will emit the fallback HTML for the closest `<Suspense>` boundary and retry rendering on the client.\\\\r\\\\n\\\\r\\\\n## All Changes\\\\r\\\\n\\\\r\\\\n## React\\\\r\\\\n\\\\r\\\\n* Add `useTransition` and `useDeferredValue` to separate urgent updates from transitions. ([#10426](https://github.com/facebook/react/pull/10426), [#10715](https://github.com/facebook/react/pull/10715), [#15593](https://github.com/facebook/react/pull/15593), [#15272](https://github.com/facebook/react/pull/15272), [#15578](https://github.com/facebook/react/pull/15578), [#15769](https://github.com/facebook/react/pull/15769), [#17058](https://github.com/facebook/react/pull/17058), [#18796](https://github.com/facebook/react/pull/18796), [#19121](https://github.com/facebook/react/pull/19121), [#19703](https://github.com/facebook/react/pull/19703), [#19719](https://github.com/facebook/react/pull/19719), [#19724](https://github.com/facebook/react/pull/19724), [#20672](https://github.com/facebook/react/pull/20672), [#20976](https://github.com/facebook/react/pull/20976) by [@acdlite](https://github.com/acdlite), [@lunaruan](https://github.com/lunaruan), [@rickhanlonii](https://github.com/rickhanlonii), and [@sebmarkbage](https://github.com/sebmarkbage))\\\\r\\\\n* Add `useId` for generating unique IDs. ([#17322](https://github.com/facebook/react/pull/17322), [#18576](https://github.com/facebook/react/pull/18576), [#22644](https://github.com/facebook/react/pull/22644), [#22672](https://github.com/facebook/react/pull/22672), [#21260](https://github.com/facebook/react/pull/21260) by [@acdlite](https://github.com/acdlite), [@lunaruan](https://github.com/lunaruan), and [@sebmarkbage](https://github.com/sebmarkbage))\\\\r\\\\n* Add `useSyncExternalStore` to help external store libraries integrate with React. ([#15022](https://github.com/facebook/react/pull/15022), [#18000](https://github.com/facebook/react/pull/18000), [#18771](https://github.com/facebook/react/pull/18771), [#22211](https://github.com/facebook/react/pull/22211), [#22292](https://github.com/facebook/react/pull/22292), [#22239](https://github.com/facebook/react/pull/22239), [#22347](https://github.com/facebook/react/pull/22347), [#23150](https://github.com/facebook/react/pull/23150) by [@acdlite](https://github.com/acdlite), [@bvaughn](https://github.com/bvaughn), and [@drarmstr](https://github.com/drarmstr))\\\\r\\\\n* Add `startTransition` as a version of `useTransition` without pending feedback. ([#19696](https://github.com/facebook/react/pull/19696) by [@rickhanlonii](https://github.com/rickhanlonii))\\\\r\\\\n* Add `useInsertionEffect` for CSS-in-JS libraries. ([#21913](https://github.com/facebook/react/pull/21913) by [@rickhanlonii](https://github.com/rickhanlonii))\\\\r\\\\n* Make Suspense remount layout effects when content reappears. ([#19322](https://github.com/facebook/react/pull/19322), [#19374](https://github.com/facebook/react/pull/19374), [#19523](https://github.com/facebook/react/pull/19523), [#20625](https://github.com/facebook/react/pull/20625), [#21079](https://github.com/facebook/react/pull/21079) by [@acdlite](https://github.com/acdlite), [@bvaughn](https://github.com/bvaughn), and [@lunaruan](https://github.com/lunaruan))\\\\r\\\\n* Make `<StrictMode>` re-run effects to check for restorable state. ([#19523](https://github.com/facebook/react/pull/19523) , [#21418](https://github.com/facebook/react/pull/21418) by [@bvaughn](https://github.com/bvaughn) and [@lunaruan](https://github.com/lunaruan))\\\\r\\\\n* Assume Symbols are always available. ([#23348](https://github.com/facebook/react/pull/23348) by [@sebmarkbage](https://github.com/sebmarkbage))\\\\r\\\\n* Remove `object-assign` polyfill. ([#23351](https://github.com/facebook/react/pull/23351) by [@sebmarkbage](https://github.com/sebmarkbage))\\\\r\\\\n* Remove unsupported `unstable_changedBits` API. ([#20953](https://github.com/facebook/react/pull/20953) by [@acdlite](https://github.com/acdlite))\\\\r\\\\n* Allow components to render undefined. ([#21869](https://github.com/facebook/react/pull/21869) by [@rickhanlonii](https://github.com/rickhanlonii))\\\\r\\\\n* Flush `useEffect` resulting from discrete events like clicks synchronously. ([#21150](https://github.com/facebook/react/pull/21150) by [@acdlite](https://github.com/acdlite))\\\\r\\\\n* Suspense `fallback={undefined}` now behaves the same as `null` and isn\\\\\\'t ignored. ([#21854](https://github.com/facebook/react/pull/21854) by [@rickhanlonii](https://github.com/rickhanlonii))\\\\r\\\\n* Consider all `lazy()` resolving to the same component equivalent. ([#20357](https://github.com/facebook/react/pull/20357) by [@sebmarkbage](https://github.com/sebmarkbage))\\\\r\\\\n* Don\\\\\\'t patch console during first render. ([#22308](https://github.com/facebook/react/pull/22308) by [@lunaruan](https://github.com/lunaruan))\\\\r\\\\n* Improve memory usage. ([#21039](https://github.com/facebook/react/pull/21039) by [@bgirard](https://github.com/bgirard))\\\\r\\\\n* Improve messages if string coercion throws (Temporal.*, Symbol, etc.) ([#22064](https://github.com/facebook/react/pull/22064) by [@justingrant](https://github.com/justingrant))\\\\r\\\\n* Use `setImmediate` when available over `MessageChannel`. ([#20834](https://github.com/facebook/react/pull/20834) by [@gaearon](https://github.com/gaearon))\\\\r\\\\n* Fix context failing to propagate inside suspended trees. ([#23095](https://github.com/facebook/react/pull/23095) by [@gaearon](https://github.com/gaearon))\\\\r\\\\n* Fix `useReducer` observing incorrect props by removing the eager bailout mechanism. ([#22445](https://github.com/facebook/react/pull/22445) by [@josephsavona](https://github.com/josephsavona))\\\\r\\\\n* Fix `setState` being ignored in Safari when appending iframes. ([#23111](https://github.com/facebook/react/pull/23111) by [@gaearon](https://github.com/gaearon))\\\\r\\\\n* Fix a crash when rendering `ZonedDateTime` in the tree. ([#20617](https://github.com/facebook/react/pull/20617) by [@dimaqq](https://github.com/dimaqq))\\\\r\\\\n* Fix a crash when document is set to `null` in tests. ([#22695](https://github.com/facebook/react/pull/22695) by [@SimenB](https://github.com/SimenB))\\\\r\\\\n* Fix `onLoad` not triggering when concurrent features are on. ([#23316](https://github.com/facebook/react/pull/23316) by [@gnoff](https://github.com/gnoff))\\\\r\\\\n* Fix a warning when a selector returns `NaN`.  ([#23333](https://github.com/facebook/react/pull/23333) by [@hachibeeDI](https://github.com/hachibeeDI))\\\\r\\\\n* Fix the generated license header. ([#23004](https://github.com/facebook/react/pull/23004) by [@vitaliemiron](https://github.com/vitaliemiron))\\\\r\\\\n* Add `package.json` as one of the entry points. ([#22954](https://github.com/facebook/react/pull/22954) by [@Jack](https://github.com/Jack-Works))\\\\r\\\\n* Allow suspending outside a Suspense boundary. ([#23267](https://github.com/facebook/react/pull/23267) by [@acdlite](https://github.com/acdlite))\\\\r\\\\n* Log a recoverable error whenever hydration fails. ([#23319](https://github.com/facebook/react/pull/23319) by [@acdlite](https://github.com/acdlite))\\\\r\\\\n\\\\r\\\\n### React DOM\\\\r\\\\n\\\\r\\\\n* Add `createRoot` and `hydrateRoot`. ([#10239](https://github.com/facebook/react/pull/10239), [#11225](https://github.com/facebook/react/pull/11225), [#12117](https://github.com/facebook/react/pull/12117), [#13732](https://github.com/facebook/react/pull/13732), [#15502](https://github.com/facebook/react/pull/15502), [#15532](https://github.com/facebook/react/pull/15532), [#17035](https://github.com/facebook/react/pull/17035), [#17165](https://github.com/facebook/react/pull/17165), [#20669](https://github.com/facebook/react/pull/20669), [#20748](https://github.com/facebook/react/pull/20748), [#20888](https://github.com/facebook/react/pull/20888), [#21072](https://github.com/facebook/react/pull/21072), [#21417](https://github.com/facebook/react/pull/21417), [#21652](https://github.com/facebook/react/pull/21652), [#21687](https://github.com/facebook/react/pull/21687), [#23207](https://github.com/facebook/react/pull/23207), [#23385](https://github.com/facebook/react/pull/23385) by [@acdlite](https://github.com/acdlite), [@bvaughn](https://github.com/bvaughn), [@gaearon](https://github.com/gaearon), [@lunaruan](https://github.com/lunaruan), [@rickhanlonii](https://github.com/rickhanlonii), [@trueadm](https://github.com/trueadm), and [@sebmarkbage](https://github.com/sebmarkbage))\\\\r\\\\n* Add selective hydration. ([#14717](https://github.com/facebook/react/pull/14717), [#14884](https://github.com/facebook/react/pull/14884), [#16725](https://github.com/facebook/react/pull/16725), [#16880](https://github.com/facebook/react/pull/16880), [#17004](https://github.com/facebook/react/pull/17004), [#22416](https://github.com/facebook/react/pull/22416), [#22629](https://github.com/facebook/react/pull/22629), [#22448](https://github.com/facebook/react/pull/22448), [#22856](https://github.com/facebook/react/pull/22856), [#23176](https://github.com/facebook/react/pull/23176) by [@acdlite](https://github.com/acdlite), [@gaearon](https://github.com/gaearon), [@salazarm](https://github.com/salazarm), and [@sebmarkbage](https://github.com/sebmarkbage))\\\\r\\\\n* Add `aria-description` to the list of known ARIA attributes. ([#22142](https://github.com/facebook/react/pull/22142) by [@mahyareb](https://github.com/mahyareb))\\\\r\\\\n* Add `onResize` event to video elements. ([#21973](https://github.com/facebook/react/pull/21973) by [@rileyjshaw](https://github.com/rileyjshaw))\\\\r\\\\n* Add `imageSizes` and `imageSrcSet` to known props. ([#22550](https://github.com/facebook/react/pull/22550) by [@eps1lon](https://github.com/eps1lon))\\\\r\\\\n* Allow non-string `<option>` children if `value` is provided.  ([#21431](https://github.com/facebook/react/pull/21431) by [@sebmarkbage](https://github.com/sebmarkbage))\\\\r\\\\n* Fix `aspectRatio` style not being applied. ([#21100](https://github.com/facebook/react/pull/21100) by [@gaearon](https://github.com/gaearon))\\\\r\\\\n* Warn if `renderSubtreeIntoContainer` is called. ([#23355](https://github.com/facebook/react/pull/23355) by [@acdlite](https://github.com/acdlite))\\\\r\\\\n\\\\r\\\\n### React DOM Server\\\\r\\\\n\\\\r\\\\n* Add the new streaming renderer. ([#14144](https://github.com/facebook/react/pull/14144), [#20970](https://github.com/facebook/react/pull/20970), [#21056](https://github.com/facebook/react/pull/21056), [#21255](https://github.com/facebook/react/pull/21255), [#21200](https://github.com/facebook/react/pull/21200), [#21257](https://github.com/facebook/react/pull/21257), [#21276](https://github.com/facebook/react/pull/21276), [#22443](https://github.com/facebook/react/pull/22443), [#22450](https://github.com/facebook/react/pull/22450), [#23247](https://github.com/facebook/react/pull/23247), [#24025](https://github.com/facebook/react/pull/24025), [#24030](https://github.com/facebook/react/pull/24030) by [@sebmarkbage](https://github.com/sebmarkbage))\\\\r\\\\n* Fix context providers in SSR when handling multiple requests. ([#23171](https://github.com/facebook/react/pull/23171) by [@frandiox](https://github.com/frandiox))\\\\r\\\\n* Revert to client render on text mismatch. ([#23354](https://github.com/facebook/react/pull/23354) by [@acdlite](https://github.com/acdlite))\\\\r\\\\n* Deprecate `renderToNodeStream`. ([#23359](https://github.com/facebook/react/pull/23359) by [@sebmarkbage](https://github.com/sebmarkbage))\\\\r\\\\n* Fix a spurious error log in the new server renderer. ([#24043](https://github.com/facebook/react/pull/24043) by [@eps1lon](https://github.com/eps1lon))\\\\r\\\\n* Fix a bug in the new server renderer. ([#22617](https://github.com/facebook/react/pull/22617) by [@shuding](https://github.com/shuding))\\\\r\\\\n* Ignore function and symbol values inside custom elements on the server. ([#21157](https://github.com/facebook/react/pull/21157) by [@sebmarkbage](https://github.com/sebmarkbage))\\\\r\\\\n\\\\r\\\\n### React DOM Test Utils\\\\r\\\\n\\\\r\\\\n* Throw when `act` is used in production. ([#21686](https://github.com/facebook/react/pull/21686) by [@acdlite](https://github.com/acdlite))\\\\r\\\\n* Support disabling spurious act warnings with `global.IS_REACT_ACT_ENVIRONMENT`. ([#22561](https://github.com/facebook/react/pull/22561) by [@acdlite](https://github.com/acdlite))\\\\r\\\\n* Expand act warning to cover all APIs that might schedule React work. ([#22607](https://github.com/facebook/react/pull/22607) by [@acdlite](https://github.com/acdlite))\\\\r\\\\n* Make `act` batch updates. ([#21797](https://github.com/facebook/react/pull/21797) by [@acdlite](https://github.com/acdlite))\\\\r\\\\n* Remove warning for dangling passive effects. ([#22609](https://github.com/facebook/react/pull/22609) by [@acdlite](https://github.com/acdlite))\\\\r\\\\n\\\\r\\\\n### React Refresh\\\\r\\\\n\\\\r\\\\n* Track late-mounted roots in Fast Refresh. ([#22740](https://github.com/facebook/react/pull/22740) by [@anc95](https://github.com/anc95))\\\\r\\\\n* Add `exports` field to `package.json`. ([#23087](https://github.com/facebook/react/pull/23087) by [@otakustay](https://github.com/otakustay))\\\\r\\\\n\\\\r\\\\n### Server Components (Experimental)\\\\r\\\\n\\\\r\\\\n* Add Server Context support. ([#23244](https://github.com/facebook/react/pull/23244) by [@salazarm](https://github.com/salazarm))\\\\r\\\\n* Add `lazy` support. ([#24068](https://github.com/facebook/react/pull/24068) by [@gnoff](https://github.com/gnoff))\\\\r\\\\n* Update webpack plugin for webpack 5 ([#22739](https://github.com/facebook/react/pull/22739) by [@michenly](https://github.com/michenly))\\\\r\\\\n* Fix a mistake in the Node loader. ([#22537](https://github.com/facebook/react/pull/22537) by [@btea](https://github.com/btea))\\\\r\\\\n* Use `globalThis` instead of `window` for edge environments. ([#22777](https://github.com/facebook/react/pull/22777) by [@huozhi](https://github.com/huozhi))\\\\r\\\\n\\\\r\\\\n### Scheduler (Experimental)\\\\r\\\\n\\\\r\\\\n* Remove unstable `scheduler/tracing` API ([#20037](https://github.com/facebook/react/pull/20037) by [@bvaughn](https://github.com/bvaughn))\\', \\'17.0.2 (March 22, 2021)\\', \\'### React DOM\\\\r\\\\n\\\\r\\\\n* Remove an unused dependency to address the [`SharedArrayBuffer` cross-origin isolation warning](https://developer.chrome.com/blog/enabling-shared-array-buffer/). ([@koba04](https://github.com/koba04) and [@bvaughn](https://github.com/bvaughn) in [#20831](https://github.com/facebook/react/pull/20831), [#20832](https://github.com/facebook/react/pull/20832), and [#20840](https://github.com/facebook/react/pull/20840))\\\\r\\\\n\\\\r\\\\n## Artifacts\\\\r\\\\n\\\\r\\\\n- react: https://unpkg.com/react@17.0.2/umd/\\\\r\\\\n- react-art: https://unpkg.com/react-art@17.0.2/umd/\\\\r\\\\n- react-dom: https://unpkg.com/react-dom@17.0.2/umd/\\\\r\\\\n- react-is: https://unpkg.com/react-is@17.0.2/umd/\\\\r\\\\n- react-test-renderer: https://unpkg.com/react-test-renderer@17.0.2/umd/\\\\r\\\\n- scheduler: https://unpkg.com/scheduler@0.20.2/umd/\\', \\'17.0.1 (October 22, 2020)\\', \\'### React DOM\\\\r\\\\n\\\\r\\\\n* Fix a crash in IE11. ([@gaearon](https://github.com/gaearon) in [#20071](https://github.com/facebook/react/pull/20071))\\\\r\\\\n\\', \\'17.0.0 (October 20, 2020)\\', \\'Today, we are releasing React 17!\\\\r\\\\n\\\\r\\\\n**[Learn more about React 17 and how to update to it on the official React blog.](https://reactjs.org/blog/2020/10/20/react-v17.html)**\\\\r\\\\n\\\\r\\\\n### React\\\\r\\\\n\\\\r\\\\n* Add `react/jsx-runtime` and `react/jsx-dev-runtime` for the [new JSX transform](https://babeljs.io/blog/2020/03/16/7.9.0#a-new-jsx-transform-11154-https-githubcom-babel-babel-pull-11154). ([@lunaruan](https://github.com/lunaruan) in [#18299](https://github.com/facebook/react/pull/18299))\\\\r\\\\n* Build component stacks from native error frames. ([@sebmarkbage](https://github.com/sebmarkbage) in [#18561](https://github.com/facebook/react/pull/18561))\\\\r\\\\n* Allow to specify `displayName` on context for improved stacks. ([@eps1lon](https://github.com/eps1lon) in [#18224](https://github.com/facebook/react/pull/18224))\\\\r\\\\n* Prevent `\\\\\\'use strict\\\\\\'` from leaking in the UMD bundles. ([@koba04](https://github.com/koba04) in [#19614](https://github.com/facebook/react/pull/19614))\\\\r\\\\n* Stop using `fb.me` for redirects. ([@cylim](https://github.com/cylim) in [#19598](https://github.com/facebook/react/pull/19598))\\\\r\\\\n\\\\r\\\\n### React DOM\\\\r\\\\n\\\\r\\\\n* Delegate events to roots instead of `document`. ([@trueadm](https://github.com/trueadm) in [#18195](https://github.com/facebook/react/pull/18195) and [others](https://github.com/facebook/react/pulls?q=is%3Apr+author%3Atrueadm+modern+event+is%3Amerged))\\\\r\\\\n* Clean up all effects before running any next effects. ([@bvaughn](https://github.com/bvaughn) in [#17947](https://github.com/facebook/react/pull/17947))\\\\r\\\\n* Run `useEffect` cleanup functions asynchronously. ([@bvaughn](https://github.com/bvaughn) in [#17925](https://github.com/facebook/react/pull/17925))\\\\r\\\\n* Use browser `focusin` and `focusout` for `onFocus` and `onBlur`. ([@trueadm](https://github.com/trueadm) in [#19186](https://github.com/facebook/react/pull/19186))\\\\r\\\\n* Make all `Capture` events use the browser capture phase. ([@trueadm](https://github.com/trueadm) in [#19221](https://github.com/facebook/react/pull/19221))\\\\r\\\\n* Don\\\\\\'t emulate bubbling of the `onScroll` event. ([@gaearon](https://github.com/gaearon) in [#19464](https://github.com/facebook/react/pull/19464))\\\\r\\\\n* Throw if `forwardRef` or `memo` component returns `undefined`. ([@gaearon](https://github.com/gaearon) in [#19550](https://github.com/facebook/react/pull/19550))\\\\r\\\\n* Remove event pooling. ([@trueadm](https://github.com/trueadm) in [#18969](https://github.com/facebook/react/pull/18969))\\\\r\\\\n* Stop exposing internals that won’t be needed by React Native Web. ([@necolas](https://github.com/necolas) in [#18483](https://github.com/facebook/react/pull/18483))\\\\r\\\\n* Attach all known event listeners when the root mounts. ([@gaearon](https://github.com/gaearon) in [#19659](https://github.com/facebook/react/pull/19659))\\\\r\\\\n* Disable `console` in the second render pass of DEV mode double render. ([@sebmarkbage](https://github.com/sebmarkbage) in [#18547](https://github.com/facebook/react/pull/18547))\\\\r\\\\n* Deprecate the undocumented and misleading `ReactTestUtils.SimulateNative` API. ([@gaearon](https://github.com/gaearon) in [#13407](https://github.com/facebook/react/pull/13407))\\\\r\\\\n* Rename private field names used in the internals. ([@gaearon](https://github.com/gaearon) in [#18377](https://github.com/facebook/react/pull/18377))\\\\r\\\\n* Don\\\\\\'t call User Timing API in development. ([@gaearon](https://github.com/gaearon) in [#18417](https://github.com/facebook/react/pull/18417))\\\\r\\\\n* Disable console during the repeated render in Strict Mode. ([@sebmarkbage](https://github.com/sebmarkbage) in [#18547](https://github.com/facebook/react/pull/18547))\\\\r\\\\n* In Strict Mode, double-render components without Hooks too. ([@eps1lon](https://github.com/eps1lon) in [#18430](https://github.com/facebook/react/pull/18430))\\\\r\\\\n* Allow calling `ReactDOM.flushSync` during lifecycle methods (but warn). ([@sebmarkbage](https://github.com/sebmarkbage) in [#18759](https://github.com/facebook/react/pull/18759))\\\\r\\\\n* Add the `code` property to the keyboard event objects. ([@bl00mber](https://github.com/bl00mber) in [#18287](https://github.com/facebook/react/pull/18287))\\\\r\\\\n* Add the `disableRemotePlayback` property for `video` elements. ([@tombrowndev](https://github.com/tombrowndev) in [#18619](https://github.com/facebook/react/pull/18619))\\\\r\\\\n* Add the `enterKeyHint` property for `input` elements. ([@eps1lon](https://github.com/eps1lon) in [#18634](https://github.com/facebook/react/pull/18634))\\\\r\\\\n* Warn when no `value` is provided to `<Context.Provider>`. ([@charlie1404](https://github.com/charlie1404) in [#19054](https://github.com/facebook/react/pull/19054))\\\\r\\\\n* Warn when `memo` or `forwardRef` components return `undefined`. ([@bvaughn](https://github.com/bvaughn) in [#19550](https://github.com/facebook/react/pull/19550))\\\\r\\\\n* Improve the error message for invalid updates. ([@JoviDeCroock](https://github.com/JoviDeCroock) in [#18316](https://github.com/facebook/react/pull/18316))\\\\r\\\\n* Exclude forwardRef and memo from stack frames. ([@sebmarkbage](https://github.com/sebmarkbage) in [#18559](https://github.com/facebook/react/pull/18559))\\\\r\\\\n* Improve the error message when switching between controlled and uncontrolled inputs. ([@vcarl](https://github.com/vcarl) in [#17070](https://github.com/facebook/react/pull/17070))\\\\r\\\\n* Keep `onTouchStart`, `onTouchMove`, and `onWheel` passive. ([@gaearon](https://github.com/gaearon) in [#19654](https://github.com/facebook/react/pull/19654))\\\\r\\\\n* Fix `setState` hanging in development inside a closed iframe. ([@gaearon](https://github.com/gaearon) in [#19220](https://github.com/facebook/react/pull/19220))\\\\r\\\\n* Fix rendering bailout for lazy components with `defaultProps`. ([@jddxf](https://github.com/jddxf) in [#18539](https://github.com/facebook/react/pull/18539))\\\\r\\\\n* Fix a false positive warning when `dangerouslySetInnerHTML` is `undefined`. ([@eps1lon](https://github.com/eps1lon) in [#18676](https://github.com/facebook/react/pull/18676))\\\\r\\\\n* Fix Test Utils with non-standard `require` implementation. ([@just-boris](https://github.com/just-boris) in [#18632](https://github.com/facebook/react/pull/18632))\\\\r\\\\n* Fix `onBeforeInput` reporting an incorrect `event.type`. ([@eps1lon](https://github.com/eps1lon) in [#19561](https://github.com/facebook/react/pull/19561))\\\\r\\\\n* Fix `event.relatedTarget` reported as `undefined` in Firefox. ([@claytercek](https://github.com/claytercek) in [#19607](https://github.com/facebook/react/pull/19607))\\\\r\\\\n* Fix \"unspecified error\" in IE11. ([@hemakshis](https://github.com/hemakshis) in [#19664](https://github.com/facebook/react/pull/19664))\\\\r\\\\n* Fix rendering into a shadow root. ([@Jack-Works](https://github.com/Jack-Works) in [#15894](https://github.com/facebook/react/pull/15894))\\\\r\\\\n* Fix `movementX/Y` polyfill with capture events. ([@gaearon](https://github.com/gaearon) in [#19672](https://github.com/facebook/react/pull/19672))\\\\r\\\\n* Use delegation for `onSubmit` and `onReset` events. ([@gaearon](https://github.com/gaearon) in [#19333](https://github.com/facebook/react/pull/19333))\\\\r\\\\n* Improve memory usage. ([@trueadm](https://github.com/trueadm) in [#18970](https://github.com/facebook/react/pull/18970))\\\\r\\\\n\\\\r\\\\n### React DOM Server\\\\r\\\\n\\\\r\\\\n* Make `useCallback` behavior consistent with `useMemo` for the server renderer. ([@alexmckenley](https://github.com/alexmckenley) in [#18783](https://github.com/facebook/react/pull/18783))\\\\r\\\\n* Fix state leaking when a function component throws. ([@pmaccart](https://github.com/pmaccart) in [#19212](https://github.com/facebook/react/pull/19212))\\\\r\\\\n\\\\r\\\\n### React Test Renderer\\\\r\\\\n\\\\r\\\\n* Improve `findByType` error message. ([@henryqdineen](https://github.com/henryqdineen) in [#17439](https://github.com/facebook/react/pull/17439))\\\\r\\\\n\\\\r\\\\n### Concurrent Mode (Experimental)\\\\r\\\\n\\\\r\\\\n* Revamp the priority batching heuristics. ([@acdlite](https://github.com/acdlite) in [#18796](https://github.com/facebook/react/pull/18796))\\\\r\\\\n* Add the `unstable_` prefix before the experimental APIs. ([@acdlite](https://github.com/acdlite) in [#18825](https://github.com/facebook/react/pull/18825))\\\\r\\\\n* Remove `unstable_discreteUpdates` and `unstable_flushDiscreteUpdates`. ([@trueadm](https://github.com/trueadm) in [#18825](https://github.com/facebook/react/pull/18825))\\\\r\\\\n* Remove the `timeoutMs` argument. ([@acdlite](https://github.com/acdlite) in [#19703](https://github.com/facebook/react/pull/19703))\\\\r\\\\n* Disable `<div hidden />` prerendering in favor of a different future API. ([@acdlite](https://github.com/acdlite) in [#18917](https://github.com/facebook/react/pull/18917))\\\\r\\\\n* Add `unstable_expectedLoadTime` to Suspense for CPU-bound trees. ([@acdlite](https://github.com/acdlite) in [#19936](https://github.com/facebook/react/pull/19936))\\\\r\\\\n* Add an experimental `unstable_useOpaqueIdentifier` Hook. ([@lunaruan](https://github.com/lunaruan) in [#17322](https://github.com/facebook/react/pull/17322))\\\\r\\\\n* Add an experimental `unstable_startTransition` API. ([@rickhanlonii](https://github.com/rickhanlonii) in [#19696](https://github.com/facebook/react/pull/19696))\\\\r\\\\n* Using `act` in the test renderer no longer flushes Suspense fallbacks. ([@acdlite](https://github.com/acdlite) in [#18596](https://github.com/facebook/react/pull/18596))\\\\r\\\\n* Use global render timeout for CPU Suspense. ([@sebmarkbage](https://github.com/sebmarkbage) in [#19643](https://github.com/facebook/react/pull/19643))\\\\r\\\\n* Clear the existing root content before mounting. ([@bvaughn](https://github.com/bvaughn) in [#18730](https://github.com/facebook/react/pull/18730))\\\\r\\\\n* Fix a bug with error boundaries. ([@acdlite](https://github.com/acdlite) in [#18265](https://github.com/facebook/react/pull/18265))\\\\r\\\\n* Fix a bug causing dropped updates in a suspended tree. ([@acdlite](https://github.com/acdlite) in [#18384](https://github.com/facebook/react/pull/18384) and [#18457](https://github.com/facebook/react/pull/18457))\\\\r\\\\n* Fix a bug causing dropped render phase updates. ([@acdlite](https://github.com/acdlite) in [#18537](https://github.com/facebook/react/pull/18537))\\\\r\\\\n* Fix a bug in SuspenseList. ([@sebmarkbage](https://github.com/sebmarkbage) in [#18412](https://github.com/facebook/react/pull/18412))\\\\r\\\\n* Fix a bug causing Suspense fallback to show too early. ([@acdlite](https://github.com/acdlite) in [#18411](https://github.com/facebook/react/pull/18411))\\\\r\\\\n* Fix a bug with class components inside SuspenseList. ([@sebmarkbage](https://github.com/sebmarkbage) in [#18448](https://github.com/facebook/react/pull/18448))\\\\r\\\\n* Fix a bug with inputs that may cause updates to be dropped. ([@jddxf](https://github.com/jddxf) in [#18515](https://github.com/facebook/react/pull/18515) and [@acdlite](https://github.com/acdlite) in [#18535](https://github.com/facebook/react/pull/18535))\\\\r\\\\n* Fix a bug causing Suspense fallback to get stuck.  ([@acdlite](https://github.com/acdlite) in [#18663](https://github.com/facebook/react/pull/18663))\\\\r\\\\n* Don\\\\\\'t cut off the tail of a SuspenseList if hydrating. ([@sebmarkbage](https://github.com/sebmarkbage) in [#18854](https://github.com/facebook/react/pull/18854))\\\\r\\\\n* Fix a bug in `useMutableSource` that may happen when `getSnapshot` changes. ([@bvaughn](https://github.com/bvaughn) in [#18297](https://github.com/facebook/react/pull/18297))\\\\r\\\\n* Fix a tearing bug in `useMutableSource`. ([@bvaughn](https://github.com/bvaughn) in [#18912](https://github.com/facebook/react/pull/18912))\\\\r\\\\n* Warn if calling setState outside of render but before commit. ([@sebmarkbage](https://github.com/sebmarkbage) in [#18838](https://github.com/facebook/react/pull/18838))\\\\r\\\\n\\\\r\\\\n## Artifacts\\\\r\\\\n\\\\r\\\\n- react: https://unpkg.com/react@17.0.1/umd/\\\\r\\\\n- react-art: https://unpkg.com/react-art@17.0.1/umd/\\\\r\\\\n- react-dom: https://unpkg.com/react-dom@17.0.1/umd/\\\\r\\\\n- react-is: https://unpkg.com/react-is@17.0.1/umd/\\\\r\\\\n- react-test-renderer: https://unpkg.com/react-test-renderer@17.0.1/umd/\\\\r\\\\n- scheduler: https://unpkg.com/scheduler@0.20.1/umd/\\', \\'16.14.0 (October 14, 2020)\\', \\'### React\\\\r\\\\n\\\\r\\\\n* Add support for the [new JSX transform](https://reactjs.org/blog/2020/09/22/introducing-the-new-jsx-transform.html). ([@lunaruan](https://github.com/lunaruan) in [#18299](https://github.com/facebook/react/pull/18299))\\\\r\\\\n\\', \\'15.7.0 (October 14, 2020)\\', \\'### React\\\\r\\\\n\\\\r\\\\n* Backport support for the [new JSX transform](https://reactjs.org/blog/2020/09/22/introducing-the-new-jsx-transform.html) to 15.x. ([@lunaruan](https://github.com/lunaruan) in [#18299](https://github.com/facebook/react/pull/18299) and [@gaearon](https://github.com/gaearon) in [#20024](https://github.com/facebook/react/pull/20024))\\\\r\\\\n\\', \\'0.14.10 (October 14, 2020)\\', \\'### React\\\\r\\\\n\\\\r\\\\n* Backport support for the [new JSX transform](https://reactjs.org/blog/2020/09/22/introducing-the-new-jsx-transform.html) to 0.14.x. ([@lunaruan](https://github.com/lunaruan) in [#18299](https://github.com/facebook/react/pull/18299) and [@gaearon](https://github.com/gaearon) in [#20024](https://github.com/facebook/react/pull/20024))\\\\r\\\\n\\', \\'16.13.1 (March 19, 2020)\\', \\'### React DOM\\\\r\\\\n\\\\r\\\\n* Fix bug in legacy mode Suspense where effect clean-up functions are not fired. This only affects users who use Suspense for data fetching in legacy mode, which is not technically supported. ([@acdlite](https://github.com/acdlite) in [#18238](https://github.com/facebook/react/pull/18238))\\\\r\\\\n* Revert warning for cross-component updates that happen inside class render lifecycles (`componentWillReceiveProps`, `shouldComponentUpdate`, and so on). ([@gaearon](https://github.com/gaearon) in [#18330](https://github.com/facebook/react/pull/18330))\\\\r\\\\n\\\\r\\\\n## Artifacts\\\\r\\\\n\\\\r\\\\n- react: https://unpkg.com/react@16.13.1/umd/\\\\r\\\\n- react-art: https://unpkg.com/react-art@16.13.1/umd/\\\\r\\\\n- react-dom: https://unpkg.com/react-dom@16.13.1/umd/\\\\r\\\\n- react-is: https://unpkg.com/react-is@16.13.1/umd/\\\\r\\\\n- react-test-renderer: https://unpkg.com/react-test-renderer@16.13.1/umd/\\\\r\\\\n- scheduler: https://unpkg.com/scheduler@0.19.1/umd/\\', \\'16.13.0 (February 26, 2020)\\', \"### React \\\\r\\\\n\\\\r\\\\n* Warn when a string ref is used in a manner that\\'s not amenable to a future codemod ([@lunaruan](https://github.com/lunaruan) in [#17864](https://github.com/facebook/react/pull/17864))\\\\r\\\\n* Deprecate `React.createFactory()` ([@trueadm](https://github.com/trueadm) in [#17878](https://github.com/facebook/react/pull/17878))\\\\r\\\\n\\\\r\\\\n### React DOM\\\\r\\\\n\\\\r\\\\n* Warn when changes in `style` may cause an unexpected collision ([@sophiebits](https://github.com/sophiebits) in [#14181](https://github.com/facebook/react/pull/14181), [#18002](https://github.com/facebook/react/pull/18002))\\\\r\\\\n* Warn when a function component is updated during another component\\'s render phase ([@acdlite]((https://github.com/acdlite)) in [#17099](https://github.com/facebook/react/pull/17099))\\\\r\\\\n* Deprecate `unstable_createPortal` ([@trueadm](https://github.com/trueadm) in [#17880](https://github.com/facebook/react/pull/17880))\\\\r\\\\n* Fix `onMouseEnter` being fired on disabled buttons ([@AlfredoGJ](https://github.com/AlfredoGJ) in [#17675](https://github.com/facebook/react/pull/17675))\\\\r\\\\n* Call `shouldComponentUpdate` twice when developing in `StrictMode` ([@bvaughn](https://github.com/bvaughn) in [#17942](https://github.com/facebook/react/pull/17942))\\\\r\\\\n* Add `version` property to ReactDOM ([@ealush](https://github.com/ealush) in [#15780](https://github.com/facebook/react/pull/15780))\\\\r\\\\n* Don\\'t call `toString()` of `dangerouslySetInnerHTML` ([@sebmarkbage](https://github.com/sebmarkbage) in [#17773](https://github.com/facebook/react/pull/17773))\\\\r\\\\n* Show component stacks in more warnings ([@gaearon](https://github.com/gaearon) in [#17922](https://github.com/facebook/react/pull/17922), [#17586](https://github.com/facebook/react/pull/17586))\\\\r\\\\n\\\\r\\\\n### Concurrent Mode (Experimental)\\\\r\\\\n\\\\r\\\\n* Warn for problematic usages of `ReactDOM.createRoot()` ([@trueadm](https://github.com/trueadm) in [#17937](https://github.com/facebook/react/pull/17937))\\\\r\\\\n* Remove `ReactDOM.createRoot()` callback params and added warnings on usage ([@bvaughn](https://github.com/bvaughn) in [#17916](https://github.com/facebook/react/pull/17916))\\\\r\\\\n* Don\\'t group Idle/Offscreen work with other work ([@sebmarkbage](https://github.com/sebmarkbage) in [#17456](https://github.com/facebook/react/pull/17456))\\\\r\\\\n* Adjust `SuspenseList` CPU bound heuristic ([@sebmarkbage](https://github.com/sebmarkbage) in [#17455](https://github.com/facebook/react/pull/17455))\\\\r\\\\n* Add missing event plugin priorities ([@trueadm](https://github.com/trueadm) in [#17914](https://github.com/facebook/react/pull/17914))\\\\r\\\\n* Fix `isPending` only being true when transitioning from inside an input event ([@acdlite](https://github.com/acdlite) in [#17382](https://github.com/facebook/react/pull/17382))\\\\r\\\\n* Fix `React.memo` components dropping updates when interrupted by a higher priority update ([@acdlite]((https://github.com/acdlite)) in [#18091](https://github.com/facebook/react/pull/18091)) \\\\r\\\\n* Don\\'t warn when suspending at the wrong priority ([@gaearon](https://github.com/gaearon) in [#17971](https://github.com/facebook/react/pull/17971))\\\\r\\\\n* Fix a bug with rebasing updates ([@acdlite](https://github.com/acdlite) and [@sebmarkbage](https://github.com/sebmarkbage) in [#17560](https://github.com/facebook/react/pull/17560), [#17510](https://github.com/facebook/react/pull/17510), [#17483](https://github.com/facebook/react/pull/17483), [#17480](https://github.com/facebook/react/pull/17480))\\\\r\\\\n\\\\r\\\\n## Artifacts\\\\r\\\\n\\\\r\\\\n- react: https://unpkg.com/react@16.13.0/umd/\\\\r\\\\n- react-art: https://unpkg.com/react-art@16.13.0/umd/\\\\r\\\\n- react-dom: https://unpkg.com/react-dom@16.13.0/umd/\\\\r\\\\n- react-is: https://unpkg.com/react-is@16.13.0/umd/\\\\r\\\\n- react-test-renderer: https://unpkg.com/react-test-renderer@16.13.0/umd/\\\\r\\\\n- scheduler: https://unpkg.com/scheduler@0.19.0/umd/\", \\'16.12.0 (November 14, 2019)\\', \\'### React DOM\\\\r\\\\n\\\\r\\\\n* Fix passive effects (`useEffect`) not being fired in a multi-root app. ([@acdlite](https://github.com/acdlite) in [#17347](https://github.com/facebook/react/pull/17347))\\\\r\\\\n\\\\r\\\\n### React Is\\\\r\\\\n\\\\r\\\\n* Fix `lazy` and `memo` types considered elements instead of components ([@bvaughn](https://github.com/bvaughn) in [#17278](https://github.com/facebook/react/pull/17278))\\\\r\\\\n\\\\r\\\\n## Artifacts\\\\r\\\\n\\\\r\\\\n• react: https://unpkg.com/react@16.12.0/umd/\\\\r\\\\n• react-art: https://unpkg.com/react-art@16.12.0/umd/\\\\r\\\\n• react-dom: https://unpkg.com/react-dom@16.12.0/umd/\\\\r\\\\n• react-is: https://unpkg.com/react-is@16.12.0/umd/\\\\r\\\\n• react-test-renderer: https://unpkg.com/react-test-renderer@16.12.0/umd/\\\\r\\\\n• scheduler: https://unpkg.com/scheduler@0.18.0/umd/\\', \\'16.11.0 (October 22, 2019)\\', \\'### React DOM\\\\r\\\\n\\\\r\\\\n* Fix `mouseenter` handlers from firing twice inside nested React containers. [@yuanoook](https://github.com/yuanoook) in [#16928](https://github.com/facebook/react/pull/16928)\\\\r\\\\n* Remove `unstable_createRoot` and `unstable_createSyncRoot` experimental APIs. (These are available in the Experimental channel as `createRoot` and `createSyncRoot`.) ([@acdlite](http://github.com/acdlite) in [#17088](https://github.com/facebook/react/pull/17088))\\\\r\\\\n\\\\r\\\\n## Artifacts\\\\r\\\\n\\\\r\\\\n• react: https://unpkg.com/react@16.11.0/umd/\\\\r\\\\n• react-art: https://unpkg.com/react-art@16.11.0/umd/\\\\r\\\\n• react-dom: https://unpkg.com/react-dom@16.11.0/umd/\\\\r\\\\n• react-is: https://unpkg.com/react-is@16.11.0/umd/\\\\r\\\\n• react-test-renderer: https://unpkg.com/react-test-renderer@16.11.0/umd/\\\\r\\\\n• scheduler: https://unpkg.com/scheduler@0.17.0/umd/\\\\r\\\\n\\', \\'16.10.2 (October 3, 2019)\\', \\'### React DOM\\\\r\\\\n\\\\r\\\\n* Fix regression in react-native-web by restoring order of arguments in event plugin extractors ([@necolas](https://github.com/necolas) in [#16978](https://github.com/facebook/react/pull/16978))\\\\r\\\\n\\\\r\\\\n## Artifacts\\\\r\\\\n\\\\r\\\\n• react: https://unpkg.com/react@16.10.2/umd/\\\\r\\\\n• react-art: https://unpkg.com/react-art@16.10.2/umd/\\\\r\\\\n• react-dom: https://unpkg.com/react-dom@16.10.2/umd/\\\\r\\\\n• react-is: https://unpkg.com/react-is@16.10.2/umd/\\\\r\\\\n• react-test-renderer: https://unpkg.com/react-test-renderer@16.10.2/umd/\\\\r\\\\n• scheduler: https://unpkg.com/scheduler@0.16.2/umd/\\', \\'16.10.1 (September 28, 2019)\\', \\'### React DOM\\\\r\\\\n\\\\r\\\\n* Fix regression in Next.js apps by allowing Suspense mismatch during hydration to silently proceed ([@sebmarkbage](https://github.com/sebmarkbage) in [#16943](https://github.com/facebook/react/pull/16943))\\\\r\\\\n\\', \\'16.10.0 (September 27, 2019)\\', \"### React DOM\\\\r\\\\n\\\\r\\\\n* Fix edge case where a hook update wasn\\'t being memoized. ([@sebmarkbage](http://github.com/sebmarkbage) in [#16359](https://github.com/facebook/react/pull/16359))\\\\r\\\\n* Fix heuristic for determining when to hydrate, so we don\\'t incorrectly hydrate during an update. ([@sebmarkbage](http://github.com/sebmarkbage) in [#16739](https://github.com/facebook/react/pull/16739))\\\\r\\\\n* Clear additional fiber fields during unmount to save memory. ([@trueadm](http://github.com/trueadm) in [#16807](https://github.com/facebook/react/pull/16807))\\\\r\\\\n* Fix bug with required text fields in Firefox. ([@halvves](http://github.com/halvves) in [#16578](https://github.com/facebook/react/pull/16578))\\\\r\\\\n* Prefer `Object.is` instead of inline polyfill, when available. ([@ku8ar](http://github.com/ku8ar) in [#16212](https://github.com/facebook/react/pull/16212))\\\\r\\\\n* Fix bug when mixing Suspense and error handling. ([@acdlite](http://github.com/acdlite) in [#16801](https://github.com/facebook/react/pull/16801))\\\\r\\\\n\\\\r\\\\n\\\\r\\\\n### Scheduler (Experimental)\\\\r\\\\n\\\\r\\\\n* Improve queue performance by switching its internal data structure to a min binary heap. ([@acdlite](http://github.com/acdlite) in [#16245](https://github.com/facebook/react/pull/16245))\\\\r\\\\n* Use `postMessage` loop with short intervals instead of attempting to align to frame boundaries with `requestAnimationFrame`. ([@acdlite](http://github.com/acdlite) in [#16214](https://github.com/facebook/react/pull/16214))\\\\r\\\\n\\\\r\\\\n### useSubscription\\\\r\\\\n\\\\r\\\\n* Avoid tearing issue when a mutation happens and the previous update is still in progress. ([@bvaughn](http://github.com/bvaughn) in [#16623](https://github.com/facebook/react/pull/16623))\\\\r\\\\n\\\\r\\\\n## Artifacts\\\\r\\\\n\\\\r\\\\n• react: https://unpkg.com/react@16.10.0/umd/\\\\r\\\\n• react-art: https://unpkg.com/react-art@16.10.0/umd/\\\\r\\\\n• react-dom: https://unpkg.com/react-dom@16.10.0/umd/\\\\r\\\\n• react-is: https://unpkg.com/react-is@16.10.0/umd/\\\\r\\\\n• react-test-renderer: https://unpkg.com/react-test-renderer@16.10.0/umd/\\\\r\\\\n• scheduler: https://unpkg.com/scheduler@0.16.0/umd/\", \\'16.9.0 (August 8, 2019)\\', \\'### React\\\\r\\\\n\\\\r\\\\n* Add `<React.Profiler>` API for gathering performance measurements programmatically. ([@bvaughn](https://github.com/bvaughn) in [#15172](https://github.com/facebook/react/pull/15172))\\\\r\\\\n* Remove `unstable_ConcurrentMode` in favor of `unstable_createRoot`. ([@acdlite](https://github.com/acdlite) in [#15532](https://github.com/facebook/react/pull/15532))\\\\r\\\\n\\\\r\\\\n### React DOM\\\\r\\\\n\\\\r\\\\n* Deprecate old names for the `UNSAFE_*` lifecycle methods. ([@bvaughn](https://github.com/bvaughn) in [#15186](https://github.com/facebook/react/pull/15186) and [@threepointone](https://github.com/threepointone) in [#16103](https://github.com/facebook/react/pull/16103))\\\\r\\\\n* Deprecate `javascript:` URLs as a common attack surface. ([@sebmarkbage](https://github.com/sebmarkbage) in [#15047](https://github.com/facebook/react/pull/15047))\\\\r\\\\n* Deprecate uncommon \"module pattern\" (factory) components. ([@sebmarkbage](https://github.com/sebmarkbage) in [#15145](https://github.com/facebook/react/pull/15145))\\\\r\\\\n* Add support for the `disablePictureInPicture` attribute on `<video>`. ([@eek](https://github.com/eek) in [#15334](https://github.com/facebook/react/pull/15334))\\\\r\\\\n* Add support for `onLoad` event for `<embed>`. ([@cherniavskii](https://github.com/cherniavskii) in [#15614](https://github.com/facebook/react/pull/15614))\\\\r\\\\n* Add support for editing `useState` state from DevTools. ([@bvaughn](https://github.com/bvaughn) in [#14906](https://github.com/facebook/react/pull/14906))\\\\r\\\\n* Add support for toggling Suspense from DevTools. ([@gaearon](https://github.com/gaearon) in [#15232](https://github.com/facebook/react/pull/15232))\\\\r\\\\n* Warn when `setState` is called from `useEffect`, creating a loop. ([@gaearon](https://github.com/gaearon) in [#15180](https://github.com/facebook/react/pull/15180))\\\\r\\\\n* Fix a memory leak. ([@paulshen](https://github.com/paulshen) in [#16115](https://github.com/facebook/react/pull/16115))\\\\r\\\\n* Fix a crash inside `findDOMNode` for components wrapped in `<Suspense>`. ([@acdlite](https://github.com/acdlite) in [#15312](https://github.com/facebook/react/pull/15312))\\\\r\\\\n* Fix pending effects from being flushed too late. ([@acdlite](https://github.com/acdlite) in [#15650](https://github.com/facebook/react/pull/15650))\\\\r\\\\n* Fix incorrect argument order in a warning message. ([@brickspert](https://github.com/brickspert) in [#15345](https://github.com/facebook/react/pull/15345))\\\\r\\\\n* Fix hiding Suspense fallback nodes when there is an `!important` style. ([@acdlite](https://github.com/acdlite) in [#15861](https://github.com/facebook/react/pull/15861) and [#15882](https://github.com/facebook/react/pull/15882))\\\\r\\\\n* Slightly improve hydration performance. ([@bmeurer](https://github.com/bmeurer) in [#15998](https://github.com/facebook/react/pull/15998))\\\\r\\\\n\\\\r\\\\n### React DOM Server\\\\r\\\\n\\\\r\\\\n* Fix incorrect output for camelCase custom CSS property names. ([@bedakb](https://github.com/bedakb) in [#16167](https://github.com/facebook/react/pull/16167))\\\\r\\\\n\\\\r\\\\n### React Test Utilities and Test Renderer\\\\r\\\\n\\\\r\\\\n* Add `act(async () => ...)` for testing asynchronous state updates. ([@threepointone](https://github.com/threepointone) in [#14853](https://github.com/facebook/react/pull/14853))\\\\r\\\\n* Add support for nesting `act` from different renderers. ([@threepointone](https://github.com/threepointone) in [#16039](https://github.com/facebook/react/pull/16039) and [#16042](https://github.com/facebook/react/pull/16042))\\\\r\\\\n* Warn in Strict Mode if effects are scheduled outside an `act()` call. ([@threepointone](https://github.com/threepointone) in [#15763](https://github.com/facebook/react/pull/15763) and [#16041](https://github.com/facebook/react/pull/16041))\\\\r\\\\n* Warn when using `act` from the wrong renderer. ([@threepointone](https://github.com/threepointone) in [#15756](https://github.com/facebook/react/pull/15756))\\\\r\\\\n\\\\r\\\\n## Artifacts\\\\r\\\\n\\\\r\\\\n• react: https://unpkg.com/react@16.9.0/umd/\\\\r\\\\n• react-art: https://unpkg.com/react-art@16.9.0/umd/\\\\r\\\\n• react-dom: https://unpkg.com/react-dom@16.9.0/umd/\\\\r\\\\n• react-is: https://unpkg.com/react-is@16.9.0/umd/\\\\r\\\\n• react-test-renderer: https://unpkg.com/react-test-renderer@16.9.0/umd/\\\\r\\\\n• scheduler: https://unpkg.com/scheduler@0.15.0/umd/\\', \\'\\', \\'This is a release candidate for React v16.9.0.\\\\r\\\\n\\\\r\\\\nChangelog is available in https://github.com/facebook/react/pull/16254.\\\\r\\\\n\\\\r\\\\n## UMD builds\\\\r\\\\n• react: https://unpkg.com/react@16.9.0-rc.0/umd/\\\\r\\\\n• react-art: https://unpkg.com/react-art@16.9.0-rc.0/umd/\\\\r\\\\n• react-dom: https://unpkg.com/react-dom@16.9.0-rc.0/umd/\\\\r\\\\n• react-is: https://unpkg.com/react-is@16.9.0-rc.0/umd/\\\\r\\\\n• react-test-renderer: https://unpkg.com/react-test-renderer@16.9.0-rc.0/umd/\\\\r\\\\n• scheduler: https://unpkg.com/scheduler@0.15.0-rc.0/umd/\\', \\'v16.9.0-alpha.0\\', \\'## v16.9.0-alpha.0 (April 3, 2019)\\\\r\\\\n\\\\r\\\\n* (`await act(async () => ...)` ([@threepointone](https://github.com/threepointone) in #14853)\\\\r\\\\n\\\\r\\\\n## Artifacts\\\\r\\\\n\\\\r\\\\n* react: https://unpkg.com/react@16.9.0-alpha.0/umd/\\\\r\\\\n* react-art: https://unpkg.com/react-art@16.9.0-alpha.0/umd/\\\\r\\\\n* react-dom: https://unpkg.com/react-dom@16.9.0-alpha.0/umd/\\\\r\\\\n* react-is: https://unpkg.com/react-is@16.9.0-alpha.0/umd/\\\\r\\\\n* react-test-renderer: https://unpkg.com/react-test-renderer@16.9.0-alpha.0/umd/\\\\r\\\\n* scheduler: https://unpkg.com/scheduler@0.14.0-alpha.0/umd/\\', \\'v16.8.6\\', \\'## 16.8.6 (March 27, 2019)\\\\r\\\\n\\\\r\\\\n### React DOM\\\\r\\\\n\\\\r\\\\n* Fix an incorrect bailout in `useReducer()`. ([@acdlite](https://github.com/acdlite) in [#15124](https://github.com/facebook/react/pull/15124))\\\\r\\\\n* Fix iframe warnings in Safari DevTools. ([@renanvalentin](https://github.com/renanvalentin) in [#15099](https://github.com/facebook/react/pull/15099))\\\\r\\\\n* Warn if `contextType` is set to `Context.Consumer` instead of `Context`. ([@aweary](https://github.com/aweary) in [#14831](https://github.com/facebook/react/pull/14831))\\\\r\\\\n* Warn if `contextType` is set to invalid values. ([@gaearon](https://github.com/gaearon) in [#15142](https://github.com/facebook/react/pull/15142))\\\\r\\\\n\\\\r\\\\n## Artifacts\\\\r\\\\n* **react**: https://unpkg.com/react@16.8.6/umd/\\\\r\\\\n* **react-art**: https://unpkg.com/react-art@16.8.6/umd/\\\\r\\\\n* **react-dom**: https://unpkg.com/react-dom@16.8.6/umd/\\\\r\\\\n* **react-is**: https://unpkg.com/react-is@16.8.6/umd/\\\\r\\\\n* **react-test-renderer**: https://unpkg.com/react-test-renderer@16.8.6/umd/\\\\r\\\\n* **scheduler**: https://unpkg.com/scheduler@0.13.6/umd/\\', \\'v16.8.5\\', \"## 16.8.5 (March 22, 2019)\\\\r\\\\n\\\\r\\\\n### React DOM\\\\r\\\\n\\\\r\\\\n* Don\\'t set the first option as selected in select tag with `size` attribute. ([@kulek1](https://github.com/kulek1) in [#14242](https://github.com/facebook/react/pull/14242))\\\\r\\\\n* Improve the `useEffect(async () => ...)` warning message. ([@gaearon](https://github.com/gaearon) in [#15118](https://github.com/facebook/react/pull/15118))\\\\r\\\\n* Improve the error message sometimes caused by duplicate React. ([@jaredpalmer](https://github.com/jaredpalmer) in [#15139](https://github.com/facebook/react/pull/15139))\\\\r\\\\n\\\\r\\\\n### React DOM Server\\\\r\\\\n\\\\r\\\\n* Improve the `useLayoutEffect` warning message when server rendering. ([@gaearon](https://github.com/gaearon) in [#15158](https://github.com/facebook/react/pull/15158))\\\\r\\\\n\\\\r\\\\n### React Shallow Renderer\\\\r\\\\n\\\\r\\\\n* Fix `setState` in shallow renderer to work with Hooks. ([@gaearon](https://github.com/gaearon) in [#15120](https://github.com/facebook/react/pull/15120))\\\\r\\\\n* Fix shallow renderer to support `React.memo`. ([@aweary](https://github.com/aweary) in [#14816](https://github.com/facebook/react/pull/14816))\\\\r\\\\n* Fix shallow renderer to support Hooks inside `forwardRef`. ([@eps1lon](https://github.com/eps1lon) in [#15100](https://github.com/facebook/react/pull/15100))\\\\r\\\\n\\\\r\\\\n## Artifacts\\\\r\\\\n* **react**: https://unpkg.com/react@16.8.5/umd/\\\\r\\\\n* **react-art**: https://unpkg.com/react-art@16.8.5/umd/\\\\r\\\\n* **react-dom**: https://unpkg.com/react-dom@16.8.5/umd/\\\\r\\\\n* **react-is**: https://unpkg.com/react-is@16.8.5/umd/\\\\r\\\\n* **react-test-renderer**: https://unpkg.com/react-test-renderer@16.8.5/umd/\\\\r\\\\n* **scheduler**: https://unpkg.com/scheduler@0.13.5/umd/\", \\'\\', \\'## 16.8.4 (March 5, 2019)\\\\r\\\\n\\\\r\\\\n### React DOM and other renderers\\\\r\\\\n\\\\r\\\\n- Fix a bug where DevTools caused a runtime error when inspecting a component that used a `useContext` hook. ([@bvaughn](https://github.com/bvaughn) in [#14940](https://github.com/facebook/react/pull/14940))\\', \\'v16.8.3\\', \\'## 16.8.3 (February 21, 2019)\\\\r\\\\n\\\\r\\\\n### React DOM\\\\r\\\\n\\\\r\\\\n* Fix a bug that caused inputs to behave incorrectly in UMD builds. ([@gaearon](https://github.com/gaearon) in [#14914](https://github.com/facebook/react/pull/14914))\\\\r\\\\n* Fix a bug that caused render phase updates to be discarded. ([@gaearon](https://github.com/gaearon) in [#14852](https://github.com/facebook/react/pull/14852))\\\\r\\\\n\\\\r\\\\n### React DOM Server\\\\r\\\\n* Unwind the context stack when a stream is destroyed without completing, to prevent incorrect values during a subsequent render. ([@overlookmotel](https://github.com/overlookmotel) in [#14706](https://github.com/facebook/react/pull/14706/))\\\\r\\\\n\\\\r\\\\n### ESLint Plugin for React Hooks\\\\r\\\\n\\\\r\\\\n* Add a new recommended `exhaustive-deps` rule. ([@gaearon](https://github.com/gaearon) in [#14636](https://github.com/facebook/react/pull/14636))\\\\r\\\\n\\\\r\\\\n## Artifacts\\\\r\\\\n* **react**: https://unpkg.com/react@16.8.3/umd/\\\\r\\\\n* **react-art**: https://unpkg.com/react-art@16.8.3/umd/\\\\r\\\\n* **react-dom**: https://unpkg.com/react-dom@16.8.3/umd/\\\\r\\\\n* **react-is**: https://unpkg.com/react-is@16.8.3/umd/\\\\r\\\\n* **react-test-renderer**: https://unpkg.com/react-test-renderer@16.8.3/umd/\\\\r\\\\n* **scheduler**: https://unpkg.com/scheduler@0.13.3/umd/\\', \\'v16.8.2\\', \\'\\\\r\\\\n## 16.8.2 (February 14, 2019)\\\\r\\\\n\\\\r\\\\n### React DOM\\\\r\\\\n\\\\r\\\\n* Fix `ReactDOM.render` being ignored inside `useEffect`. ([@gaearon](https://github.com/gaearon) in [#14799](https://github.com/facebook/react/pull/14799))\\\\r\\\\n* Fix a crash when unmounting empty portals. ([@gaearon](https://github.com/gaearon) in [#14820](https://github.com/facebook/react/pull/14820))\\\\r\\\\n* Fix `useImperativeHandle` to work correctly when no deps are specified. ([@gaearon](https://github.com/gaearon) in [#14801](https://github.com/facebook/react/pull/14801))\\\\r\\\\n* Fix `crossOrigin` attribute to work in SVG `image` elements. ([@aweary](https://github.com/aweary) in [#14832](https://github.com/facebook/react/pull/14832))\\\\r\\\\n* Fix a false positive warning when using Suspense with Hooks. ([@gaearon](https://github.com/gaearon) in [#14821](https://github.com/facebook/react/pull/14821))\\\\r\\\\n\\\\r\\\\n### React Test Utils and React Test Renderer\\\\r\\\\n\\\\r\\\\n* Include component stack into the `act()` warning. ([@threepointone](https://github.com/threepointone) in [#14855](https://github.com/facebook/react/pull/14855))\\\\r\\\\n\\\\r\\\\n## Artifacts\\\\r\\\\n* **react**: https://unpkg.com/react@16.8.2/umd/\\\\r\\\\n* **react-art**: https://unpkg.com/react-art@16.8.2/umd/\\\\r\\\\n* **react-dom**: https://unpkg.com/react-dom@16.8.2/umd/\\\\r\\\\n* **react-is**: https://unpkg.com/react-is@16.8.2/umd/\\\\r\\\\n* **react-test-renderer**: https://unpkg.com/react-test-renderer@16.8.2/umd/\\\\r\\\\n* **scheduler**: https://unpkg.com/scheduler@0.13.2/umd/\\', \\'v16.8.1\\', \\'## 16.8.1 (February 6, 2019)\\\\r\\\\n\\\\r\\\\n### React DOM and React Test Renderer\\\\r\\\\n\\\\r\\\\n* Fix a crash when used together with an older version of React. ([@bvaughn](https://github.com/bvaughn) in [#14770](https://github.com/facebook/react/pull/14770))\\\\r\\\\n\\\\r\\\\n### React Test Utils\\\\r\\\\n\\\\r\\\\n* Fix a crash in Node environment. ([@threepointone](https://github.com/threepointone) in [#14768](https://github.com/facebook/react/pull/14768))\\\\r\\\\n\\\\r\\\\n## Artifacts\\\\r\\\\n* **react**: https://unpkg.com/react@16.8.1/umd/\\\\r\\\\n* **react-art**: https://unpkg.com/react-art@16.8.1/umd/\\\\r\\\\n* **react-dom**: https://unpkg.com/react-dom@16.8.1/umd/\\\\r\\\\n* **react-is**: https://unpkg.com/react-is@16.8.1/umd/\\\\r\\\\n* **react-test-renderer**: https://unpkg.com/react-test-renderer@16.8.1/umd/\\\\r\\\\n* **scheduler**: https://unpkg.com/scheduler@0.13.1/umd/\\', \\'v16.8.0\\', \"### React\\\\r\\\\n\\\\r\\\\n* Add [Hooks](https://reactjs.org/docs/hooks-intro.html) — a way to use state and other React features without writing a class. ([@acdlite](https://github.com/acdlite) et al. in [#13968](https://github.com/facebook/react/pull/13968))\\\\r\\\\n* Improve the `useReducer` Hook lazy initialization API. ([@acdlite](https://github.com/acdlite) in [#14723](https://github.com/facebook/react/pull/14723))\\\\r\\\\n\\\\r\\\\n### React DOM\\\\r\\\\n\\\\r\\\\n* Bail out of rendering on identical values for `useState` and `useReducer` Hooks. ([@acdlite](https://github.com/acdlite) in [#14569](https://github.com/facebook/react/pull/14569))\\\\r\\\\n* Use `Object.is` algorithm for comparing `useState` and `useReducer` values. ([@Jessidhia](https://github.com/Jessidhia) in [#14752](https://github.com/facebook/react/pull/14752))\\\\r\\\\n* Don’t compare the first argument passed to `useEffect`/`useMemo`/`useCallback` Hooks. ([@acdlite](https://github.com/acdlite) in [#14594](https://github.com/facebook/react/pull/14594))\\\\r\\\\n* Support synchronous thenables passed to `React.lazy()`. ([@gaearon](https://github.com/gaearon) in [#14626](https://github.com/facebook/react/pull/14626))\\\\r\\\\n* Render components with Hooks twice in Strict Mode (DEV-only) to match class behavior. ([@gaearon](https://github.com/gaearon) in [#14654](https://github.com/facebook/react/pull/14654))\\\\r\\\\n* Warn about mismatching Hook order in development. ([@threepointone](https://github.com/threepointone) in [#14585](https://github.com/facebook/react/pull/14585) and [@acdlite](https://github.com/acdlite) in [#14591](https://github.com/facebook/react/pull/14591))\\\\r\\\\n* Effect clean-up functions must return either `undefined` or a function. All other values, including `null`, are not allowed. [@acdlite](https://github.com/acdlite) in [#14119](https://github.com/facebook/react/pull/14119)\\\\r\\\\n\\\\r\\\\n### React Test Renderer and Test Utils\\\\r\\\\n\\\\r\\\\n* Support Hooks in the shallow renderer. ([@trueadm](https://github.com/trueadm) in [#14567](https://github.com/facebook/react/pull/14567))\\\\r\\\\n* Fix wrong state in `shouldComponentUpdate` in the presence of `getDerivedStateFromProps` for Shallow Renderer. ([@chenesan](https://github.com/chenesan) in [#14613](https://github.com/facebook/react/pull/14613))\\\\r\\\\n* Add `ReactTestRenderer.act()` and `ReactTestUtils.act()` for batching updates so that tests more closely match real behavior. ([@threepointone](https://github.com/threepointone) in [#14744](https://github.com/facebook/react/pull/14744))\\\\r\\\\n\\\\r\\\\n\\\\r\\\\n### ESLint Plugin: React Hooks\\\\r\\\\n\\\\r\\\\n* Initial [release](https://www.npmjs.com/package/eslint-plugin-react-hooks). ([@calebmer](https://github.com/calebmer) in [#13968](https://github.com/facebook/react/pull/13968))\\\\r\\\\n* Fix reporting after encountering a loop. ([@calebmer](https://github.com/calebmer) and [@Yurickh](https://github.com/Yurickh) in [#14661](https://github.com/facebook/react/pull/14661))\\\\r\\\\n* Don\\'t consider throwing to be a rule violation. ([@sophiebits](https://github.com/sophiebits) in [#14040](https://github.com/facebook/react/pull/14040))\\\\r\\\\n\\\\r\\\\n## Artifacts\\\\r\\\\n* **react**: https://unpkg.com/react@16.8.0/umd/\\\\r\\\\n* **react-art**: https://unpkg.com/react-art@16.8.0/umd/\\\\r\\\\n* **react-dom**: https://unpkg.com/react-dom@16.8.0/umd/\\\\r\\\\n* **react-is**: https://unpkg.com/react-is@16.8.0/umd/\\\\r\\\\n* **react-test-renderer**: https://unpkg.com/react-test-renderer@16.8.0/umd/\\\\r\\\\n* **scheduler**: https://unpkg.com/scheduler@0.13.0/umd/\", \\'\\', \\'### React DOM\\\\r\\\\n\\\\r\\\\n* Fix performance of `React.lazy` for large numbers of lazily-loaded components. ([@acdlite](http://github.com/acdlite) in [#14429](https://github.com/facebook/react/pull/14429))\\\\r\\\\n* Clear fields on unmount to avoid memory leaks. ([@trueadm](http://github.com/trueadm) in [#14276](https://github.com/facebook/react/pull/14276))\\\\r\\\\n* Fix bug with SSR and context when mixing `react-dom/server@16.6` and `react@<16.6`. ([@gaearon](http://github.com/gaearon) in [#14291](https://github.com/facebook/react/pull/14291))\\\\r\\\\n* Fix a performance regression in profiling mode. ([@bvaughn](http://github.com/bvaughn) in [#14383](https://github.com/facebook/react/pull/14383))\\\\r\\\\n\\\\r\\\\n### Scheduler (Experimental)\\\\r\\\\n\\\\r\\\\n* Post to MessageChannel instead of window. ([@acdlite](http://github.com/acdlite) in [#14234](https://github.com/facebook/react/pull/14234))\\\\r\\\\n* Reduce serialization overhead. ([@developit](http://github.com/developit) in [#14249](https://github.com/facebook/react/pull/14249))\\\\r\\\\n* Fix fallback to `setTimeout` in testing environments. ([@bvaughn](http://github.com/bvaughn) in [#14358](https://github.com/facebook/react/pull/14358))\\\\r\\\\n* Add methods for debugging. ([@mrkev](http://github.com/mrkev) in [#14053](https://github.com/facebook/react/pull/14053))\\\\r\\\\n\\\\r\\\\n## Artifacts\\\\r\\\\n* **react**: https://unpkg.com/react@16.7.0/umd/\\\\r\\\\n* **react-art**: https://unpkg.com/react-art@16.7.0/umd/\\\\r\\\\n* **react-dom**: https://unpkg.com/react-dom@16.7.0/umd/\\\\r\\\\n* **react-is**: https://unpkg.com/react-is@16.7.0/umd/\\\\r\\\\n* **react-test-renderer**: https://unpkg.com/react-test-renderer@16.7.0/umd/\\\\r\\\\n* **scheduler**: https://unpkg.com/scheduler@0.12.0/umd/\\', \\'v16.6.3\\', \\'## 16.6.3 (November 12, 2018)\\\\r\\\\n\\\\r\\\\n### React DOM\\\\r\\\\n\\\\r\\\\n* Fix bugs in `Suspense` and `lazy`. ([@acdlite](https://github.com/acdlite) in [#14133](https://github.com/facebook/react/pull/14133), [#14157](https://github.com/facebook/react/pull/14157), and [#14164](https://github.com/facebook/react/pull/14164))\\\\r\\\\n* Fix highlighting of `React.memo` updates in React DevTools. ([@bvaughn](https://github.com/bvaughn) in [#14141](https://github.com/facebook/react/pull/14141))\\\\r\\\\n* Fix interaction of Suspense with the React Profiler. ([@bvaughn](https://github.com/bvaughn) in [#14065](https://github.com/facebook/react/pull/14065))\\\\r\\\\n* Fix a false positive warning when using Suspense. ([@acdlite](https://github.com/acdlite) in [#14158](https://github.com/facebook/react/pull/14158))\\\\r\\\\n\\\\r\\\\n### React DOM Server\\\\r\\\\n\\\\r\\\\n* Fix incorrect sharing of context state between `renderToNodeStream()` calls. ([@sebmarkbage](https://github.com/sebmarkbage) in [#14182](https://github.com/facebook/react/pull/14182))\\\\r\\\\n* Add a warning about incorrect usage of the context API. ([@trueadm](https://github.com/trueadm) in [#14033](https://github.com/facebook/react/pull/14033))\\', \\'v16.6.1\\', \\'## 16.6.1 (November 6, 2018)\\\\r\\\\n\\\\r\\\\n### React DOM\\\\r\\\\n\\\\r\\\\n* Fallback should not remount every time a promise resolves. ([@acdlite](https://github.com/acdlite) in [#14083](https://github.com/facebook/react/pull/14083))\\\\r\\\\n* Fix bug where Suspense keeps showing fallback even after everything finishes loading. ([@acdlite](https://github.com/acdlite) in [#14083](https://github.com/facebook/react/pull/14083))\\\\r\\\\n* Fix a crash when Suspense finishes loading in IE11. ([@sophiebits](https://github.com/sophiebits) in [#14126](https://github.com/facebook/react/pull/14126))\\\\r\\\\n* Fix unresolved default props in lifecycle methods of a lazy component. ([@gaearon](https://github.com/gaearon) in [#14112](https://github.com/facebook/react/pull/14112))\\\\r\\\\n* Fix bug when recovering from an error thrown during complete phase. ([@gaearon](https://github.com/gaearon) in [#14104](https://github.com/facebook/react/pull/14104))\\\\r\\\\n\\\\r\\\\n### Scheduler (Experimental)\\\\r\\\\n\\\\r\\\\n* Switch from deadline object to `shouldYield` API. ([@acdlite](https://github.com/acdlite) in [#14025](https://github.com/facebook/react/pull/14025))\\\\r\\\\n\\', \\'v16.6.0\\', \\'## 16.6.0 (October 23, 2018)\\\\r\\\\n\\\\r\\\\n### React\\\\r\\\\n\\\\r\\\\n* Add `React.memo()` as an alternative to `PureComponent` for functions. ([@acdlite](https://github.com/acdlite) in [#13748](https://github.com/facebook/react/pull/13748))\\\\r\\\\n* Add `React.lazy()` for code splitting components. ([@acdlite](https://github.com/acdlite) in [#13885](https://github.com/facebook/react/pull/13885))\\\\r\\\\n* `React.StrictMode` now warns about legacy context API. ([@bvaughn](https://github.com/bvaughn) in [#13760](https://github.com/facebook/react/pull/13760))\\\\r\\\\n* `React.StrictMode` now warns about `findDOMNode`. ([@sebmarkbage](https://github.com/sebmarkbage) in [#13841](https://github.com/facebook/react/pull/13841))\\\\r\\\\n* Rename `unstable_AsyncMode` to `unstable_ConcurrentMode`. ([@trueadm](https://github.com/trueadm) in [#13732](https://github.com/facebook/react/pull/13732))\\\\r\\\\n* Rename `unstable_Placeholder` to `Suspense`, and `delayMs` to `maxDuration`. ([@gaearon](https://github.com/gaearon) in [#13799](https://github.com/facebook/react/pull/13799) and [@sebmarkbage](https://github.com/sebmarkbage) in [#13922](https://github.com/facebook/react/pull/13922))\\\\r\\\\n\\\\r\\\\n### React DOM\\\\r\\\\n\\\\r\\\\n* Add `contextType` as a more ergonomic way to subscribe to context from a class. ([@bvaughn](https://github.com/bvaughn) in [#13728](https://github.com/facebook/react/pull/13728))\\\\r\\\\n* Add `getDerivedStateFromError` lifecycle method for catching errors in a future asynchronous server-side renderer. ([@bvaughn](https://github.com/bvaughn) in [#13746](https://github.com/facebook/react/pull/13746))\\\\r\\\\n* Warn when `<Context>` is used instead of `<Context.Consumer>`. ([@trueadm](https://github.com/trueadm) in [#13829](https://github.com/facebook/react/pull/13829))\\\\r\\\\n* Fix gray overlay on iOS Safari. ([@philipp-spiess](https://github.com/philipp-spiess) in [#13778](https://github.com/facebook/react/pull/13778))\\\\r\\\\n* Fix a bug caused by overwriting `window.event` in development. ([@sergei-startsev](https://github.com/sergei-startsev) in [#13697](https://github.com/facebook/react/pull/13697))\\\\r\\\\n\\\\r\\\\n### React DOM Server\\\\r\\\\n\\\\r\\\\n* Add support for `React.memo()`. ([@alexmckenley](https://github.com/alexmckenley) in [#13855](https://github.com/facebook/react/pull/13855))\\\\r\\\\n* Add support for `contextType`. ([@alexmckenley](https://github.com/alexmckenley) and [@sebmarkbage](https://github.com/sebmarkbage) in [#13889](https://github.com/facebook/react/pull/13889))\\\\r\\\\n\\\\r\\\\n### Scheduler (Experimental)\\\\r\\\\n\\\\r\\\\n* Rename the package to `scheduler`. ([@gaearon](https://github.com/gaearon) in [#13683](https://github.com/facebook/react/pull/13683))\\\\r\\\\n* Support priority levels, continuations, and wrapped callbacks. ([@acdlite](https://github.com/acdlite) in [#13720](https://github.com/facebook/react/pull/13720) and [#13842](https://github.com/facebook/react/pull/13842))\\\\r\\\\n* Improve the fallback mechanism in non-DOM environments. ([@acdlite](https://github.com/acdlite) in [#13740](https://github.com/facebook/react/pull/13740))\\\\r\\\\n* Schedule `requestAnimationFrame` earlier. ([@acdlite](https://github.com/acdlite) in [#13785](https://github.com/facebook/react/pull/13785))\\\\r\\\\n* Fix the DOM detection to be more thorough. ([@trueadm](https://github.com/trueadm) in [#13731](https://github.com/facebook/react/pull/13731))\\\\r\\\\n* Fix bugs with interaction tracing. ([@bvaughn](https://github.com/bvaughn) in [#13590](https://github.com/facebook/react/pull/13590))\\\\r\\\\n* Add the `envify` transform to the package. ([@mridgway](https://github.com/mridgway) in [#13766](https://github.com/facebook/react/pull/13766))\\\\r\\\\n\\']'"
            ],
            "application/vnd.google.colaboratory.intrinsic+json": {
              "type": "string"
            }
          },
          "metadata": {},
          "execution_count": 179
        }
      ]
    },
    {
      "cell_type": "code",
      "source": [
        "second_df['release_notes']=second_df['release_notes'].apply(string_to_list)"
      ],
      "metadata": {
        "id": "gPhAhztvTpKv"
      },
      "execution_count": 180,
      "outputs": []
    },
    {
      "cell_type": "code",
      "source": [
        "second_df['release_notes']=second_df['release_notes'].apply(list_to_string)"
      ],
      "metadata": {
        "id": "ZzJRcvwbTxQh"
      },
      "execution_count": 181,
      "outputs": []
    },
    {
      "cell_type": "code",
      "source": [
        "second_df['release_notes'][0]"
      ],
      "metadata": {
        "id": "kwIPGIrYT1jh",
        "outputId": "ca4c1a5f-0235-4121-8aa6-385b2f32c642",
        "colab": {
          "base_uri": "https://localhost:8080/",
          "height": 140
        }
      },
      "execution_count": 182,
      "outputs": [
        {
          "output_type": "execute_result",
          "data": {
            "text/plain": [
              "'TypeScript 5.1 Beta For release notes, check out the [release announcement](https://devblogs.microsoft.com/typescript/announcing-typescript-5-1-beta/).\\r\\n\\r\\nFor the complete list of fixed issues, check out the\\r\\n\\r\\n* [fixed issues query for Typescript 5.1.0 (Beta)](https://github.com/Microsoft/TypeScript/issues?utf8=%E2%9C%93&q=is%3Aissue+milestone%3A%22TypeScript+5.1.0%22+is%3Aclosed+).\\r\\n\\r\\nDownloads are available on:\\r\\n\\r\\n* [NuGet package](https://www.nuget.org/packages/Microsoft.TypeScript.MSBuild)\\r\\n TypeScript 5.0.4 For release notes, check out the [release announcement](https://devblogs.microsoft.com/typescript/announcing-typescript-5-0/).\\r\\n\\r\\nFor the complete list of fixed issues, check out the\\r\\n\\r\\n* [fixed issues query for Typescript v5.0.0 (Beta)](https://github.com/Microsoft/TypeScript/issues?utf8=%E2%9C%93&q=milestone%3A%22TypeScript+5.0.0%22+is%3Aclosed+).\\r\\n* [fixed issues query for Typescript v5.0.1 (RC)](https://github.com/Microsoft/TypeScript/issues?utf8=%E2%9C%93&q=milestone%3A%22TypeScript+5.0.1%22+is%3Aclosed+).\\r\\n* [fixed issues query for Typescript v5.0.2 (Stable)](https://github.com/Microsoft/TypeScript/issues?utf8=%E2%9C%93&q=milestone%3A%22TypeScript+5.0.2%22+is%3Aclosed+).\\r\\n* [fixed issues query for Typescript v5.0.3 (Stable)](https://github.com/Microsoft/TypeScript/issues?utf8=%E2%9C%93&q=milestone%3A%22TypeScript+5.0.3%22+is%3Aclosed+).\\r\\n* [fixed issues query for Typescript v5.0.4 (Stable)](https://github.com/Microsoft/TypeScript/issues?utf8=%E2%9C%93&q=milestone%3A%22TypeScript+5.0.4%22+is%3Aclosed+).\\r\\n\\r\\nDownloads are available on:\\r\\n* [npm](https://www.npmjs.com/package/typescript)\\r\\n* [NuGet package](https://www.nuget.org/packages/Microsoft.TypeScript.MSBuild)\\r\\n TypeScript 5.0.3 For release notes, check out the [release announcement](https://devblogs.microsoft.com/typescript/announcing-typescript-5-0/).\\r\\n\\r\\nFor the complete list of fixed issues, check out the\\r\\n\\r\\n* [fixed issues query for Typescript v5.0.0 (Beta)](https://github.com/Microsoft/TypeScript/issues?utf8=%E2%9C%93&q=milestone%3A%22TypeScript+5.0.0%22+is%3Aclosed+).\\r\\n* [fixed issues query for Typescript v5.0.1 (RC)](https://github.com/Microsoft/TypeScript/issues?utf8=%E2%9C%93&q=milestone%3A%22TypeScript+5.0.1%22+is%3Aclosed+).\\r\\n* [fixed issues query for Typescript v5.0.2 (Stable)](https://github.com/Microsoft/TypeScript/issues?utf8=%E2%9C%93&q=milestone%3A%22TypeScript+5.0.2%22+is%3Aclosed+).\\r\\n* [fixed issues query for Typescript v5.0.3 (Stable)](https://github.com/Microsoft/TypeScript/issues?utf8=%E2%9C%93&q=milestone%3A%22TypeScript+5.0.3%22+is%3Aclosed+).\\r\\n\\r\\nDownloads are available on:\\r\\n* [npm](https://www.npmjs.com/package/typescript)\\r\\n* [NuGet package](https://www.nuget.org/packages/Microsoft.TypeScript.MSBuild)\\r\\n TypeScript 5.0 For release notes, check out the [release announcement](https://devblogs.microsoft.com/typescript/announcing-typescript-5-0/).\\r\\n\\r\\nFor the complete list of fixed issues, check out the\\r\\n\\r\\n* [fixed issues query for Typescript v5.0.0 (Beta)](https://github.com/Microsoft/TypeScript/issues?utf8=%E2%9C%93&q=is%3Aissue+milestone%3A%22TypeScript+5.0.0%22+is%3Aclosed+).\\r\\n* [fixed issues query for Typescript v5.0.1 (RC)](https://github.com/Microsoft/TypeScript/issues?utf8=%E2%9C%93&q=is%3Aissue+milestone%3A%22TypeScript+5.0.1%22+is%3Aclosed+).\\r\\n* [fixed issues query for Typescript v5.0.2 (Stable)](https://github.com/Microsoft/TypeScript/issues?utf8=%E2%9C%93&q=is%3Aissue+milestone%3A%22TypeScript+5.0.2%22+is%3Aclosed+).\\r\\n\\r\\nDownloads are available on:\\r\\n* [npm](https://www.npmjs.com/package/typescript)\\r\\n* [NuGet package](https://www.nuget.org/packages/Microsoft.TypeScript.MSBuild)\\r\\n TypeScript 5.0 RC For release notes, check out the [release announcement](https://devblogs.microsoft.com/typescript/announcing-typescript-5-0-rc/).\\r\\n TypeScript 4.9.5 For release notes, check out the [release announcement](https://devblogs.microsoft.com/typescript/announcing-typescript-4-9/).\\r\\n\\r\\nDownloads are available on:\\r\\n\\r\\n* [npm](https://www.npmjs.com/package/typescript)\\r\\n* [NuGet package](https://www.nuget.org/packages/Microsoft.TypeScript.MSBuild)\\r\\n\\r\\n## Changes:\\r\\n\\r\\n* 69e88ef5513a81acf69ec78f4af1f927da0d0584 Port ignore deprecations to 4.9 (#52419)\\r\\n* daf4e817a18def96b70ac34703b158ff0e6d58df Port timestamp fix to 4.9 (#52426)\\r\\n TypeScript 5.0 Beta For release notes, check out the [release announcement](https://devblogs.microsoft.com/typescript/announcing-typescript-5-0-beta/).\\r\\n\\r\\nFor the complete list of fixed issues, check out the\\r\\n\\r\\n* [fixed issues query for Typescript v5.0-beta](https://github.com/Microsoft/TypeScript/issues?utf8=%E2%9C%93&q=is%3Aissue+milestone%3A%22TypeScript+5.0.0%22+is%3Aclosed+).\\r\\n\\r\\nDownloads are available on:\\r\\n* [npm](https://www.npmjs.com/package/typescript)\\r\\n* [NuGet package](https://www.nuget.org/packages/Microsoft.TypeScript.MSBuild)\\r\\n TypeScript 4.9.4 For release notes, check out the [release announcement](https://devblogs.microsoft.com/typescript/announcing-typescript-4-9).\\r\\n\\r\\nFor the complete list of fixed issues, check out the\\r\\n\\r\\n* [fixed issues query for Typescript v4.9.4](https://github.com/Microsoft/TypeScript/issues?utf8=%E2%9C%93&q=is%3Aissue+milestone%3A%22TypeScript+4.9.4%22+is%3Aclosed+).\\r\\n\\r\\nDownloads are available on:\\r\\n* [npm](https://www.npmjs.com/package/typescript)\\r\\n* [NuGet package](https://www.nuget.org/packages/Microsoft.TypeScript.MSBuild)\\r\\n\\r\\n## Changes:\\r\\n\\r\\n* e2868216f637e875a74c675845625eb15dcfe9a2 Bump version to 4.9.4 and LKG.\\r\\n* eb5419fc8d980859b98553586dfb5f40d811a745 Cherry-pick #51704 to release 4.9 (#51712)\\r\\n* b4d382b9b12460adf2da4cc0d1429cf19f8dc8be Cherry-pick changes for narrowing to tagged literal types.\\r\\n* e7a02f43fce47e1a39259ada5460bcc33c8e98b5 Port of #51626 and #51689 to release-4.9 (#51627)\\r\\n* 1727912f0437a7f367d90040fc4b0b4f3efd017a Cherry-pick fix around `visitEachChild` to release-4.9. (#51544)\\r\\n\\r\\nThis list of changes was [auto generated](https://typescript.visualstudio.com/cf7ac146-d525-443c-b23c-0d58337efebc/_release?releaseId=117&_a=release-summary). TypeScript 4.9 For release notes, check out the [release announcement](https://devblogs.microsoft.com/typescript/announcing-typescript-4-9/).\\r\\n\\r\\nDownloads are available on:\\r\\n* [npm](https://www.npmjs.com/package/typescript)\\r\\n* [NuGet package](https://www.nuget.org/packages/Microsoft.TypeScript.MSBuild)\\r\\n\\r\\n## Changes:\\r\\n\\r\\n* 93bd577458d55cd720b2677705feab5c91eb12ce Bump version to 4.9.3 and LKG.\\r\\n* 107f832b80df2dc97748021cb00af2b6813db75b Update LKG.\\r\\n* 31bee5682df130a14ffdd5742f994dbe7313dd0e Cherry-pick PR #50977 into release-4.9 (#51363) [ #50872 ]\\r\\n* 1e2fa7ae15f8530910fef8b916ec8a4ed0b59c45 Update version to 4.9.2-rc and LKG.\\r\\n* 7ab89e5c6e401d161f31f28a6c555a3ba530910e Merge remote-tracking branch \\'origin/main\\' into release-4.9\\r\\n* e5cd686defb1a4cbdb36bd012357ba5bed28f371 Update package-lock.json\\r\\n* 8d40dc15d1b9945837e7860320fdccfe27c40cad Update package-lock.json\\r\\n* 5cfb3a2fe344a5350734305193e6cc99516285ca Only call return() for an abrupt completion in user code (#51297)\\r\\n* a7a9d158e817fcb0e94dc1c24e0a401b21be0cc9 Fix for broken baseline in yieldInForInInDownlevelGenerator (#51345)\\r\\n* 7f8426f4df0d0a7dd8b72079dafc3e60164a23b1 fix for-in enumeration containing yield in generator (#51295)\\r\\n<details><summary><b>See More</b></summary>\\r\\n\\r\\n* 3d2b4017eb6b9a2b94bc673291e56ae95e8beddd Fix assertion functions accessed via wildcard imports (#51324)\\r\\n* 64d0d5ae140b7b26a09e75114517b418d6bcaa9f fix(51301): Fixing an unused import at the end of a line removes the newline (#51320)\\r\\n* 754eeb2986bde30d5926e0fa99c87dda9266d01b Update CodeQL workflow and configuration, fix found bugs (#51263)\\r\\n* d8aad262006ad2d2c91aa7a0e4449b4b83c57f7b Update package-lock.json\\r\\n* d4f26c840b1db76c0b25a405c8e73830a2b45cbc fix(51245): Class with parameter decorator in arrow function causes \"convert to default export\" refactoring failure (#51256)\\r\\n* 16faf45682173ea437a50330feb4785578923d7f Update package-lock.json\\r\\n* 8b1ecdb701e2a2e19e9f8bcdd6b2beac087eabee fix(50654): \"Move to a new file\" breaks the declaration of referenced variable (#50681)\\r\\n* 170a17fad57eae619c5ef2b7bdb3ac00d6c32c47 Dom update 2022-10-25 (#51300)\\r\\n* 9c4e14d75174432f6a4dc5967a09712a6784ab88 Remove \"No type information for this code\" from baseline (#51311)\\r\\n* 88d25b4f232929df59729156dfda6b65277affec fix(50068): Refactors trigger debug failure when JSX text has a \\' and a tag on the same line. (#51299)\\r\\n* 8bee69acf410d4986cb0cc102b949e2d133d5380 Update package-lock.json\\r\\n* 702de1eeaaef88a189e4d06e5a2aae287853790a Fix early call to return/throw on generator (#51294)\\r\\n* 2c12b1499908ad7718e65d20e264561207c22375 Add a GH Action to file a new issue if we go a week without seeing a typescript-error-deltas issue (#51271)\\r\\n* 6af270dee09d62516f6dc02ec102a745ffebc037 Update package-lock.json\\r\\n* 2cc4c16a26672a7ba6c97ba16309fcf334db7cae Update package-lock.json\\r\\n* 60934915d9ccc4ca9c0fb2cd060d7ec81601942b Fix apparent typo in getStringMappingType (#51248)\\r\\n* 61c26096e3373719ece686b84c698423890e9a5f Update package-lock.json\\r\\n* ef69116c41cb6805f89e6592eacb0ccb7f02207d Generate shortest `rootDirs` module specifier instead of first possible (#51244)\\r\\n* bbb42f453dc684e03d977c5b70391124d57543a9 Fix typo in canWatchDirectoryOrFile found by CodeQL (#51262)\\r\\n* a56b254ad3c52b598bc5d44f83f3d0a1cf806068 Include \\'this\\' type parameter in isRelatedTo fast path (#51230)\\r\\n* 3abd351c0eea55758f27ee5558a4a1525b77f45b Fix super property transform in async arrow in method (#51240)\\r\\n* eed05112180e0d94f78aa02d676d49468f15dc31 Update package-lock.json\\r\\n* 2625c1feae25aede35465ca835440fc57bf13d52 Make the init config category order predictable (#51247)\\r\\n* 1ca99b34029dafad2c18af7bdc0711f4abf7e522 fix(50551): Destructuring assignment with var bypasses \"variable is used before being assigned\" check (2454) (#50560)\\r\\n* 3f28fa12dfecb8dfd66ce4684bf26f64e1f092f1 Update package-lock.json\\r\\n* 906ebe49334a3a9c2dbd73cd3c902898bc712b66 Revert structuredTypeRelatedTo change and fix isUnitLikeType (#51076)\\r\\n* 8ac465239f52de1da3ada8cdc4c3f107f4d62e45 change type (#51231)\\r\\n* 245a02cbed7ad50a21289730159abc8d19a66f40 fix(51222): Go-to-definition on return statements should jump to the containing function declaration (#51227)\\r\\n* 2dff34e8c4a91c0005ca9ccfb7e045e225b6f2e4 markAliasReferenced should include ExportValue as well (#51219)\\r\\n* 5ef2634f3df138323383c7f2e5a05163a924ee86 Update package-lock.json\\r\\n* d0f0e35c88ae017fc4c1213eb2f83303ee22ebde Remove old tslint comments (#51220)\\r\\n* 85d405a1d74c0730a9d8d6307b26e8d6f3f75421 Fixed a false positive \"await has no effect on the type\" diagnostic with mixed generic union (#50833)\\r\\n* 1f8959f5dc04b2b2c2fc8a7dc53b6ac761e1f754 fix: avoid downleveled dynamic import closing over specifier expression (#49663)\\r\\n* 11066b264f5d30fb5ac1f6c2f3a155c0190e75d2 Rename internal functions to `narrowTypeBySwitchOnTypeOf` and `narrowTypeByInKeyword` (#51215)\\r\\n* 4c9afe8812fcdb4658472ccbced4a5cd4bae70ea Update package-lock.json\\r\\n* f25bcb7c27d78ce89e9c9356d27058cf86dbfb5c fix(49196): add jsdoc snippet for interface member functions (#51135)\\r\\n* 7406ee9c145cd7d6117391818d5a1eca2d66ca8f fix(51170): Completing an unimplemented property overwrites rest of line (#51175)\\r\\n* a1d82fc9dcced6ca6bde6e21c385d152d083679f Remove some unnecessary code discovered by rollup (#51204)\\r\\n* 0481773a27fc6a0132c34502fd2a3b0c73cf63a3 LEGO: Merge pull request 51200\\r\\n* 98c19cbbbe83c2ae3c89a4e08317a4b9ccbcb206 LEGO: Merge pull request 51190\\r\\n* 13c9b05384544262363f3fd8b942b36aeb84fc61 Update package-lock.json\\r\\n* 673475e1c5e582f2fd0bf8d89e33c7708607c8d8 Update package-lock.json\\r\\n* f6cf51053e024714dd6b8463fe6f8e7e33461e6b Add more tracing to node16/nodenext resolution (#51168)\\r\\n* 83c5581588f660247bd9648bafe67b49de060a55 Update package-lock.json\\r\\n* be5f0fe5acfed5146514ebe7c1b65529def8e490 Add an extra regression test for awaited unresolvable recursive union (#51167)\\r\\n* 2cb7e779d70d57ef0d46dd3f768e646b8bbe783a fix(50416): correctly names disabled export refactors (#50663) [ #50416 ]\\r\\n* 2bcfed01f3458996e71ce37af43e3495cb7e4950 feat(37440): Provide a quick-fix for non-exported types (#51038)\\r\\n* a24201c8ef6f82b5729ab677b7a1a1d6d745fcb8 Remove VSDevMode.ps1 and createPlaygroundBuild (#51166)\\r\\n* 2da62a784bbba237b8239e84c8629cfafb0f595e fix(51112): omit parameter names that precede the type (#51142)\\r\\n* cf1b6b73330eab2dd484d71cbdb662a83b3c726f feat(51163): show QF to fill in the missing properties for the mapped type. (#51165)\\r\\n* bdcc240d68245e4be865b385bd6a8fd8fa546f56 Remove bug-causing carve-out in conditional type instantiation that hopefully is no longer required (#51151)\\r\\n* 37317a208f34c141b64e26d0e92b3aed346e531f Check nested weak types in intersections on target side of relation (#51140)\\r\\n* 9f49f9ccb05a7bb56b8ca84b8036a3ad4e0e7c2b Update package-lock.json\\r\\n* 4f54e7e947298162d29f3104265e74dcfbc90d82 Fix isExhaustiveSwitchStatement to better handle circularities (#51095)\\r\\n* 503604c884bd0557c851b11b699ef98cdb65b93b Overloads shouldn\\'t gain @deprecated tags of other overloads in quick info (#50904)\\r\\n* e14a2298c5add93816c6f487bcfc5ac72e3a4c59 Update package-lock.json\\r\\n* 67256e50c41aa9178a60c52de8416477f070b190 Remove unused declarations array in extractSymbol\\'s TargetRange (#51091)\\r\\n* 9c87ded2b3fc4ba4a9a7656e9be39d5e404e6ab6 fix(51100): ensure tsserver shuts down when parent process is killed (#51107)\\r\\n* c01ae01fac37268bac3362fb6e6d26db730f7ed5 Fix nightly publish oops in Gulpfile (#51131)\\r\\n* a7d10f15bbd28166b869ae00482214e360891613 Update package-lock.json\\r\\n* d0bfd8caed521bfd24fc44960d9936a891744bb7 fix(51072): ts.preProcessFile finds import in template string after conditional expression with template strings (#51082)\\r\\n* ad56b5ca56b763ab377e07121ecfebb457a2e810 Convert scripts/Gulpfile to checked mjs/cjs so they can run without compilation (#50988)\\r\\n* dbeae5d943c784661862c52b8e215a2907c31a33 fix(51017): Make lineText in the references response opt-out (#51081)\\r\\n* d06a592d02955822a7407b70969fb7a82bc17d59 Properly defer resolution of mapped types with generic `as` clauses (#51050)\\r\\n* 42b1049aee8c655631cb4f0065de86ec1023d20a Update package-lock.json\\r\\n* 5f3e6cc4980d26af5d8a8f463e59b2c3338165c6 Plugin probe location is higher priority than peer node_modules (#51079) [ #34616 ]\\r\\n* 2648f6ab09e3176c7da2c07c54066d3a3433a298 Plugins in project were adding up after every config file reload (#51087)\\r\\n* c18791ccf165672df3b55f5bdd4a8655f33be26c Fix incorrect options type to WatchOptions (#51064)\\r\\n* b0795e9c94757a8ee78077d160cde8819a9801ea Update package-lock.json\\r\\n* 43c6fd4c09464204bc6a6e1c6c1d32fa12270414 Covert some of the config testing to baselines for easy validation (#51063)\\r\\n* fc5e72b92cb8ea13c5e0f2cfc35d8b2cbfd1fe36 Remove unused defaultWatchFileKind method since useFsEvents is default for tsserver and tsc (#51044)\\r\\n* 8af9a936b5240398370887c22cacaff65fee707b Use typescript.d.ts in APISample tests (#51061)\\r\\n* 49533168dbb4e19f243b9dbdfd6a3aac69f5b3dd Remove configureLanguageServiceBuild, instrumenter (#51048)\\r\\n* 9dfffd0fbb406d7f2e5e2ca85768624ca388a7bf Update GitHub Actions (#51045)\\r\\n* 4635a5cef9aefa9aa847ef7ce2e6767ddf4f54c2 Update package-lock.json\\r\\n* 33a34e5b96bfe086266f4765ab9789a2a02507f9 Adding a JSDoc comment to the es5 type declarations to describe the functionality of Date.now() (#50630)\\r\\n* 299745cb217c2fc061f75b3735f8420d78b8360a Fix crash in goto-def on `@override` (#51016)\\r\\n* 7dcf11f13985be927886ebea353d282a9b3418e0 fix(50750): Object type literal with string literal property in contextual typing position causes language service error on all literal type references (#50757)\\r\\n* 5cd49f6cbcd2effe9d425dee3a39cb49209bb656 Update package-lock.json\\r\\n* 8a1b85880f89c9cff606c5844e8883e5f483c7db Update package-lock.json\\r\\n* 96894db6cb5b7af6857b4d0c7f70f7d8ac782d51 Include type parameter defaults in contextual typing (#50994) [ #51002 ]\\r\\n* 0d0a79371471d627ae298a145f8009b05cbccb72 Allow Unicode extended escapes in ES5 and earlier (#50918)\\r\\n* 58bae8db69b275a3efa57b14b486778c55185552 Update package-lock.json\\r\\n* 0ce72ef6c8b39cd2d07e5b0eb3a0c144a7783ad2 Add option to OrganizeImports for removal only (#50931)\\r\\n* 42f9143e114c5c07f40df83ed07ffeb3cbaf2101 feat: codefix for `for await of` (#50623)\\r\\n* ecf50e81a7a9cccd9bf5ea7598764082981faab0 Properly compute `SymbolFlags.Optional` for intersected properties (#50958)\\r\\n* d1586de0434567b998876929eb8229235b85b350 Fully resolve aliases when checking symbol flags (#50853)\\r\\n* 45148dd715a7c3776840778b4df41e7e0bd0bf12 Update LKG to 4.8.4 (#50987)\\r\\n* 9a83f2551ded0d88a0ba0ec9af260f83eb3568cd Update package-lock.json\\r\\n* 865848fcfb9e6ce7dd64be563fc09f83d4bc9df5 Fix `<=` and `>` comparisons when compared against prerelease versions (#50915)\\r\\n* fbfe9340a90777dee03b30f736fab44056123be0 Fix comparability between type parameters related by a union constraint (#50978)\\r\\n* b09e93d3f6d3e999df001b53984954974c25b81f Merge pull request #50041 from microsoft/fix/47969\\r\\n* 0ac12bbe7a410238ca992a42f41816a97f6906f4 Update package-lock.json\\r\\n* 8192d550496d884263e292488e325ae96893dc78 Pick correct compilerOptions when checking if we can share emitSignatures (#50910) [ #50902 ]\\r\\n* 16faef1d8d522b66b6c672bdd15b4026e2018a62 During uptodate ness check with buildInfo, check if there are errors explicitly with noEmit (#50974) [ #50959 ]\\r\\n* 63791f52d4e7a3bf461b974e94abd8cbb6b546c5 Update package-lock.json\\r\\n* 09368bcbaebd157d1e66859ab6f5b30c2fd6eaff Handle if project for open file will get recollected because of pending cleanup from closed script info (#50908) [ #50868 ]\\r\\n* c81bf4d8b0c12410a082d6598fcc24cc721b6e9e fix(49594): Typescript 4.7.3 bracketed class property compilation error strictPropertyInitialization:true (#49619)\\r\\n* bc9cbbef421ae907f7dfd5a84ca69c4f68a8935b Merge pull request #49912 from microsoft/fix/47508\\r\\n* 5a10f46c0028790120cb85c826efa4248707a964 Update package-lock.json\\r\\n* 8e71f429c811ac7811533d7b0e02c32bad5a1b47 Fixing pr comments\\r\\n* c100c6488db0482dcc1455290f456dece91cac0a Update package-lock.json\\r\\n* 2a91107f7548eeb5e32673e76277d27264ea88e2 Update package-lock.json\\r\\n* 4ab9e76fb748b08712f9d0017dd8f0ba74d1859f Use paths in package.json \\'files\\' array that work with npm 6 and later. (#50930)\\r\\n* 549b5429d4837344e8c99657109bb6538fd2dbb5 Use paths in package.json \\'files\\' array that work with npm 6 and later.\\r\\n* 7f37d251fc69da34659e4c60792177e1e9a8e7a6 Update version to 4.9.1-beta and LKG.\\r\\n* f16ca7dd364e57ee7ce337f987b20dbc1e34941f Remove \\'async\\' dependency, used only in errorCheck.ts, modernize file (#50667)\\r\\n* c6bef3f02874bddf6df120aa4f0d130c58478468 LEGO: Merge pull request 50921\\r\\n* 675302730b8ca525d47c910bf2d3174bd3b66a1b Update package-lock.json\\r\\n* 9740bcc53418e8792a4dbb978059ff5a02b55c91 Pluralized `hasInvalidatedResolution` -> `hasInvalidatedResolutions` (#50912)\\r\\n* 84c29cd576fd1facb9b3a353d5342df04acdb184 🤖 Pick PR #50912 (Pluralized `hasInvalidatedResolutio...) into release-4.9 (#50913)\\r\\n* a26f63424de249bb106804dfc9a024bb525de93e Merge remote-tracking branch \\'origin/main\\' into release-4.9\\r\\n* a455955aac85ecc5b2182fe50b83670188955feb Make hasInvalidatedResolution non internal for program and add it watchApi (#50776) [ #48057 ]\\r\\n* 645d1cd7c1ee1d65a87b2183b173611467256a09 Fix assert in addIndirectUser in FAR (#50905)\\r\\n* bbec17d9003246fa00d6bf676bb4ce7c54ff2be4 LEGO: Merge pull request 50900\\r\\n* a9ecc675d636c3bbca697bc4881b019e8645a7a6 Update package-lock.json\\r\\n* 221cf55a21e448bd3fe2cf26a754c9c0dda3dca3 package.json `exports` should have priority over `typesVersions` (#50890)\\r\\n* acb89771901f8c81c6046fa7c16361a83388ddab Remove .github/tsc.json (#50664)\\r\\n* 7a3de819bfb93fb27ef7ea8305d2df069866c380 fix(49993): skip the quick fix for an expression with an enum type (#50625)\\r\\n* 2644f2867734d77a3a3939c55d5cc0a5004df0ed fix(49200): skip duplicated method declarations (#50609)\\r\\n* 98652a349a67be718e8e8b5fcf590972eb62a104 Bump version to 4.9.0-beta and LKG.\\r\\n* 4d91204c9d9f27756785f62fade44d93824d47f4 fix(37030): Expand Selection in function and arrow function skips body block (#50711)\\r\\n* e2dd5084f75ac37a78102d212b67d36595596137 DOM update 2022/09/21 (#50884)\\r\\n* 1d9ab83914a551936ce5ef80340ee65cfd1422ba fix(50866): emit modifiers from export declarations (#50874)\\r\\n* 92a1b124c178e1ff4871b29cb9abc00307e21742 LEGO: Merge pull request 50877\\r\\n* e383db692eb44561333c1bbe353788b337aebc99 Fix debug.ts __debugKind check (#50871)\\r\\n* 01054e05ab7638e96515619c4ce62200fdf4e0fd Consistently add undefined/missing to optional tuple element types (#50831)\\r\\n* d90795e799ca8e41aabd6d0852abb585138200ef Improve escape sequence handling in private names (#50856)\\r\\n* 938a69a526166ca4e7880fa140fba432936f0fe3 Fix import statement completions followed by interface declaration (#50350)\\r\\n* e002159ad133a024bae48a2e190e54ad93f6b52d feat(49962): Disallow comparison against NaN  (#50626)\\r\\n* 80ae43d2399503a04651e3705823137d36148b00 Fixing spaces\\r\\n* abc58bdabcf536bd5204fbc84fb7f45d75f1a9ad Fixing baseline errors\\r\\n* 305f4bd420bf9edc0239fd3a740aa83fbdeb9ba2 Merge branch \\'main\\' into fix/47969\\r\\n* 23746af766b53fcc3afecfa16478809a5a36628a fix(50591): RangeError: Maximum call stack size exceeded (#50594)\\r\\n* 168186f93d23ae59dbea3fea2adba453527343fd Allow a union property of a private/protected member and an intersection property including that same member (#50328)\\r\\n* 812ebcf6e3aebfa72b976a6ae4d65929759a2867 Update package-lock.json\\r\\n* 16156b1baf26a39ce428423f7106f3ef2b4e98bb Add rules from eslint\\'s recommended set that triggered good lints (#50422)\\r\\n* a11c41621bbbab100a391dd348651c6661549663 Improve checking of `in` operator (#50666)\\r\\n* 67f2b62ed2bd1de0299781ba659fa638346bcecf Gabritto/jsemitfixsilly (#50849)\\r\\n* 3014dec8878a9ff8d86186a6ac3fd9fad4f3b739 Don\\'t elide imports when transforming JS files (#50404)\\r\\n* 57c7aa755ca3028ff13eb6a37d91775a6fac71e3 LEGO: Merge pull request 50842\\r\\n* 48a8e8953a1e609970dc85e08f99ac499bfe8356 Improve check of whether type query node possibly contains reference to type parameter (#50070)\\r\\n* af9ced11f50c8ac15079d2f88f8961f1e5b62f7f LEGO: Merge pull request 50825\\r\\n* a8e13f7340c5229426072d443fa511bba82a0054 Fixed an issue with destructured bindings from a generic union constraint not being narrowed correctly (#50221)\\r\\n* 08af0b6bf0041fef52ca8c1b69d6d4a3db439196 Update package-lock.json\\r\\n* 0df46e873322b8eeb271a442eaf034d91ae68770 Fix test around RegExp match vs. exec results (#50813)\\r\\n* 906510e0f30590a4c8fdc892905ccb8dbe512e3d Fixes for pr\\r\\n* 2970c5d1671b2376711cd55594c4597d6da7d8c3 make `RegExpExecArray` always include index 0 (#50713)\\r\\n* 05071920a03f8ea530fe01f79f2537c999ec8b02 Accepting baselines\\r\\n* 29e50b314900d22b08f6472918f59ae2b40aba08 Rewording documentation\\r\\n* 01cae69e3403a831bc5c752b95c8b7547dd95821 fix(50796): omit questionToken in object literal method completions (#50802)\\r\\n* 3b84f76fb23bd39d14c7243e5cd495fd207916c0 Fix crash caused by incorrect bounds check (regression in 4.8) (#50797)\\r\\n* 7e51306d30b72ce474054c3f3047f57d90dca41a Update package-lock.json\\r\\n* 8b35c1300e14ebc026b4f1621db8f6f1bba30833 The error \"Object is possibly null or undefined\" is ambiguous. (#49797)\\r\\n* a3f51b3b8278b7dc5f59d83f35458338f57c81c7 Update user baselines +cc @sandersn (#43554)\\r\\n* ba10a0d7c06df259e620645a8d6fd9a5262d8b5d Removing duplicated code\\r\\n* ec6ae1c4d0f48f15cd01b1502d0b2e5ac387dcf5 Partially revert #41044, restoring parameter destructurings in d.ts files (#50779)\\r\\n* 28232ca4b8833957cdf8d592f085fb80d97ef604 LEGO: Merge pull request 50783\\r\\n* 49cfa1db17b593191601736a11cbf165d42510a0 Update package-lock.json\\r\\n* 4110b80fbb24f2ac6dd284ef3511ca69ac6db517 Fix equality narrowing and comparable relation for intersections with {} (#50735)\\r\\n* b23f1d6b59beabde1072d14b7fb65781ce209c15 LEGO: Merge pull request 50771\\r\\n* 618fb2d8b92357d564ddb8596296ecaba5468002 Update package-lock.json\\r\\n* 08b91f6b827e9ee98407c0eb969579ab77fa9f0c fix(50717): tsc crashes when it sees a JSDoc tag inside an @override annotation (#50724)\\r\\n* 60963d7216266bca6ef3236f43913de703fe5c7a Discriminant of type `never` should never be matched (#50755)\\r\\n* e37ea53715a725dd13699dc1be5190c6ebd0d8f8 Update package-lock.json\\r\\n* a88c36655b575d3039f187e64016b971efc0f173 Fix test baselining for tsserver host timeouts (#50748)\\r\\n* 6d384876e5adeffd6e04cf4e6dd7ea5fc0dd0584 Fix workflow typo (#50746)\\r\\n* 6b890f93c491d3496dfd7909592c1df8a771fcd0 Handle more places where package direcroy is converted to canonical file path (#50740)\\r\\n* f5f2923c7d0f0963a78b9c5f233b635d4e78ae91 Revert removal of nonInferrableAnyType (#50691)\\r\\n* 7120b520cfe7b92d2b4bbfd679f1f5bd0c559c2c Update twoslash workflow (#50738)\\r\\n* 68d526c200a0a5c51024586890b2473c9819c6ea Don\\'t run linter after tests runs (#50597)\\r\\n* 8e5e2e08ead119910d6eb177eab9beb84e3ab311 Fix backticks in our JSDoc comments (#50737)\\r\\n* a4cabe725b413f154f738b48c1fe2f053cff7d26 Support for auto-accessor fields from the Stage 3 Decorators proposal (#49705)\\r\\n* 77374732df82c9d5c1319677dc595868bbc648b5 Update package-lock.json\\r\\n* 12ab0fea9f45c48ea644c8273bedde235c8bcc61 Update package-lock.json\\r\\n* eb40134373cc524bd15432e15490d4e369754c50 Don\\'t leave space for property access on non-integer literals (#50703)\\r\\n* a70bb9d3ff102e044e83d2db43e585105e9a1761 Preserve special intersections in mapped types (#50704)\\r\\n* 1a1c27167536e005a4d241ef84c43c0c0ca0aaf9 Don\\'t remove space before dot if in property access on numeric literal (#50695)\\r\\n* 7c918fb76682e79e8fd460cf1c2da9f2f22c91a3 Baseline host state when baselining tsserver tests (#50678)\\r\\n* 2f1ba45cbaca5e95959f9fd43c42edd64bc5638c Update LKG and devDep of typescript to v4.8.3 (#50689)\\r\\n* be4e9bac8ff66174d4e856dae06f69aa4ef7e479 Update package-lock.json\\r\\n* f46a680863d7ecf7b7aa46b5e056acfe702b78bb Remove error message in node16 (#50673)\\r\\n* ab831d018030304b886590fc4253f9dab593ddb0 Ignore `--help` and `-?` in `tsc init` generated `compilerOptions` (#50628)\\r\\n* bb6f36f7c80c290b98759823445dae73ebfd3eb2 Forward intersection state flag to conditional type target check (#50620)\\r\\n* b58721fe15a9d58aa9c2b53b6e6fdb7966f56d2c Update package-lock.json\\r\\n* 3c3820b1a4033de90a6f9369b3e714ba58231e99 Simplify CI detection (#50661)\\r\\n* 9ac1fce1175964f71117f6574d96eda127282bf4 Fix eslint not looking at certain scripts, fix lints (#50660)\\r\\n* fd05c0cc6da676c5b9183ad2a7ced7ce363b855a Make useFsEvents as default strategy for the watching (#50366)\\r\\n* 5c2f770d9714276567e6ef9ec805368756539725 Remove unused cancellation from build (#50658)\\r\\n* 66fbf058ece7882f2a964aeeda81bc352e4a6329 Update package-lock.json\\r\\n* 7910c509c4545517489d6264571bb6c05248fb4a Update package-lock.json\\r\\n* fd3a84c3f0c80cb201c47399a055625f919a9b91 Report every instance of TS1208 (#50101)\\r\\n* 62f980aff82ac8b5939bc9b65cf6e55d122b42d9 Check if its same buildinfo only for directly referenced projects and not recursively (#50617) [ #50545 ]\\r\\n* 856c7c5fdd25833dbb0e1e67071200cd706eae4f Allow `{}` to narrow in same special cases as `unknown` (#50601)\\r\\n* 854d448e5ccf542a05d0b5dcb97e1b925905e258 `in` operator shouldn\\'t narrow `{}` originating in `unknown` (#50610)\\r\\n* 549e61d0af1ba885be29d69f341e7d3a00686071 Update package-lock.json\\r\\n* bcf994996ea0ddd8ca7daadd6b5fbc712eb5ce6b fix(50079): show deprecated on JSX attributes (#50084)\\r\\n* 5df09a514c99010d3126d8a9f11aa00ecbd0bd21 Use bidirectional comparability in narrowing (#50592)\\r\\n* 891cdc58aa4005d7197e76ec0a48afcbc3b44ac3 Remove unused baselines (#50593)\\r\\n* 6db2c882f389c95c526df0e890354205b5696a7d {} & null and {} & undefined should always be never  (#50553)\\r\\n* 238c341701439a95d5eb71a4cf421c0574d0ee47 Defer distributing index over generic object types (#50540)\\r\\n* 298309271bc526b9753c10c1c916bfe9d5c89a8b Do not canonicalize the file names when getting absolute paths during nodenext resolution (#50557) [ #50544 ]\\r\\n* dcade7732c142abba88eecae78c115fa37b95e01 Update package-lock.json\\r\\n* a9797d218d34fefc61b823d0e1dd24f6eb5363c8 fix(50340): typeof ... === \"undefined\" check on discriminated union of undefined and object type doesn\\'t narrow correctly (#50344)\\r\\n* 43f8ae6df4ffefb7e4795808b94bcfbf74628682 Only normalize intersections that include {} (#50535)\\r\\n* d293e723a20cdba258238397097e9a4e409bc41f Rename API to importPlugin (#50554)\\r\\n* cd312d3076c054cdf9ed6f33c2d3e3995bca92eb Managing control flow\\r\\n* 19defbfe576f3f2da32b5372274e4664b66ec00d Update package-lock.json\\r\\n* f071d303c182c2a776da1471a3ec9ef05297a9d8 Move contributing related info out of README to CONTRIBUTING (#50543)\\r\\n* 488d0eebd0556fcc6e5f4cfc69c2ef7e5c2708ed Retain name and propertyName in declaration emit copies of binding patterns if property name is a keyword (#50537)\\r\\n* 8b482b513d87c6fcda8ece18b99f8a01cff5c605 Update package-lock.json\\r\\n* c89f355a41b18c96eccb67dade04fce8c330068b Remove redundant pretest script (#50518)\\r\\n* 6d170b490d5ff5f881f6cbf8cd749e0103ee5d1f Handle intersections in isGenericTypeWithoutNullableConstraint (#50497)\\r\\n* ed6889cd5b61b9fa5156018362d867def18e281d LEGO: Merge pull request 50506\\r\\n* 29cbfe9a2504cfae30bae938bdb2be6081ccc5c8 LEGO: Merge pull request 50493\\r\\n* 6faa291b453987192d996517b4376b14980b25c4 LEGO: Merge pull request 50484\\r\\n* 71b2ba6111e934f2b4ee112bc4d8d2f47ced22f5 Reuse computed type of condition expressions (#49881)\\r\\n* 8778c1ded3a1955dce1063d72caf4523bec37c90 Update package-lock.json\\r\\n* 4579245f36d9c3deccb097da9d5545f9c5c1ab26 fix(50427): allow convert function expressions (#50430)\\r\\n* cbc0b17eac1fcb011a66f0544c813968cdf065c4 Push package-lock.json updates via typescript-bot token (#50476)\\r\\n* bb3a7aec11a20afb30c5098a75e001d1a4eb08f9 fix(50415): Language server debug failure - Did not expect GetAccessor to have an Identifier in its trivia (#50470)\\r\\n* 3557092b1474bc3405a29da93bd15c108ab2f8b3 Rephrase error message to be 100% technically correct (#50471)\\r\\n* 71d19115031ae1c48fa34a24636dfae5e87e1b08 add unknown to DateTimeFormatTypes (#50402)\\r\\n* 8f895997d2cb79deb937d50fa1bed1c470528025 Don\\'t include .gitattributes in package (#50475)\\r\\n* 6e8337ef70e4a36a4df76a3362a41cbcac0dcb84 Optimize substitution types (#50397)\\r\\n* 226dd0b7bf5cb5e5bb4dc34ab0e8e14f408f3e20 Fix typechecking related lints that changed post 4.8, update LKG to 4.8.2 (#50472)\\r\\n* 164dddc48e1eaa83780b8e72bc7afeebe768437b feat(7481): Operator to ensure an expression is contextually typed by, and satisfies, some type (#46827)\\r\\n* 07157914eb26a6e9abdcda7255c4094c9efff4cd Update package-lock.json\\r\\n* e675ea8dd83aaed018a67534323305c36d373b40 Remove AUTHORS.md, .mailmap, authors.ts script (#50410)\\r\\n* 38076df3465af555051db06006bbf30323af0e2d Fix auto import crash due to difference in `paths` handling (#50419)\\r\\n* 12eb519b3f81d0999bbc4ce9a845744f4dfc215e fix(50435): Duplicate seeming Code Actions for convert const to let (#50442)\\r\\n* a08b045d2b22c87a6341a0c1d1318271d14acc86 Jsdoc property description (#50269) [ #47933 ]\\r\\n* 5ba22e05a96538498a78ab206e1b9892f420e7a1 Remove top level loc folder (#50421)\\r\\n* c4eb37c8a0d5915d64e3992a91a34724aab19fe6 Update package-lock.json\\r\\n* 8d7ad8c3aee4130e2b8cc6438e03e12a39cd398a fix(50375): Errors for missing enum-named properties should attempt to preserve names (#50382)\\r\\n* fb717df6bf85318c3d1e833a1dde6789d394cdb2 Discard union types before considering weak type checks on unit-like types (#50423)\\r\\n* b9a5bbc9afe9fa231aba5162c258bf1e2fa1e82e Syntax operations also need to ensure project is present for the open script infos since update could be pending to make sure open script info has project (#50418) [ #50131 ]\\r\\n* 1d4fbbb529d183b1e6988447e6744cfa7750b9f6 Update package-lock.json\\r\\n* 44ce3cff70cb79d1a45b48def04413db5303a151 fix(50224): Intellisense for strings within a type\\'s Union doesn\\'t work properly for JSX (#50231)\\r\\n* 6ee5db95c2ad4fee74ad02368afa1d2cc693407e Use package.json files array instead of .npmignore (#50408)\\r\\n\\r\\nThis list of changes was [auto generated](https://typescript.visualstudio.com/cf7ac146-d525-443c-b23c-0d58337efebc/_release?releaseId=116&_a=release-summary).</details> TypeScript 4.9 RC For release notes, check out the [release announcement](https://devblogs.microsoft.com/typescript/announcing-typescript-4-9-rc/).\\r\\n TypeScript 4.8.4 For release notes, check out the [release announcement](https://devblogs.microsoft.com/typescript/announcing-typescript-4-8/).\\r\\n\\r\\nFor the complete list of fixed issues, check out the\\r\\n\\r\\n* [fixed issues query for Typescript 4.8.0 (Beta)](https://github.com/microsoft/TypeScript/issues?q=milestone%3A%22TypeScript+4.8.0%22+).\\r\\n* [fixed issues query for Typescript 4.8.1 (RC)](https://github.com/microsoft/TypeScript/issues?q=milestone%3A%22TypeScript+4.8.1%22+).\\r\\n* [fixed issues query for Typescript 4.8.2 (Stable)](https://github.com/microsoft/TypeScript/issues?q=milestone%3A%22TypeScript+4.8.2%22+).\\r\\n* [fixed issues query for Typescript 4.8.3 (Stable)](https://github.com/microsoft/TypeScript/issues?q=milestone%3A%22TypeScript+4.8.3%22+).\\r\\n* [fixed issues query for Typescript 4.8.4 (Stable)](https://github.com/microsoft/TypeScript/issues?q=milestone%3A%22TypeScript+4.8.4%22+).\\r\\n\\r\\nDownloads are available on:\\r\\n\\r\\n* [npm](https://www.npmjs.com/package/typescript)\\r\\n* [Visual Studio 2022/2019](https://marketplace.visualstudio.com/items?itemName=TypeScriptTeam.TypeScript-484) ([Select new version in project options](https://github.com/Microsoft/TypeScript/wiki/Updating-TypeScript-in-Visual-Studio-2017))\\r\\n* [NuGet package](https://www.nuget.org/packages/Microsoft.TypeScript.MSBuild)\\r\\n TypeScript 4.9 Beta For release notes, check out the [release announcement](https://devblogs.microsoft.com/typescript/announcing-typescript-4-9-beta/).\\r\\n\\r\\n TypeScript 4.8.3 For release notes, check out the [release announcement](https://devblogs.microsoft.com/typescript/announcing-typescript-4-8/).\\r\\n\\r\\nFor the complete list of fixed issues, check out the\\r\\n\\r\\n* [fixed issues query for Typescript 4.8.0 (Beta)](https://github.com/microsoft/TypeScript/issues?q=milestone%3A%22TypeScript+4.8.0%22+).\\r\\n* [fixed issues query for Typescript 4.8.1 (RC)](https://github.com/microsoft/TypeScript/issues?q=milestone%3A%22TypeScript+4.8.1%22+).\\r\\n* [fixed issues query for Typescript 4.8.2 (Stable)](https://github.com/microsoft/TypeScript/issues?q=milestone%3A%22TypeScript+4.8.2%22+).\\r\\n* [fixed issues query for Typescript 4.8.3 (Stable)](https://github.com/microsoft/TypeScript/issues?q=milestone%3A%22TypeScript+4.8.3%22+).\\r\\n\\r\\nDownloads are available on:\\r\\n\\r\\n* [npm](https://www.npmjs.com/package/typescript)\\r\\n* [Visual Studio 2022/2019](https://marketplace.visualstudio.com/items?itemName=TypeScriptTeam.TypeScript-483) ([Select new version in project options](https://github.com/Microsoft/TypeScript/wiki/Updating-TypeScript-in-Visual-Studio-2017))\\r\\n* [NuGet package](https://www.nuget.org/packages/Microsoft.TypeScript.MSBuild)\\r\\n TypeScript 4.8 For release notes, check out the [release announcement](https://devblogs.microsoft.com/typescript/announcing-typescript-4-8/).\\r\\n\\r\\nFor the complete list of fixed issues, check out the\\r\\n\\r\\n* [fixed issues query for Typescript 4.8.0 (Beta)](https://github.com/microsoft/TypeScript/issues?q=milestone%3A%22TypeScript+4.8.0%22+).\\r\\n* [fixed issues query for Typescript 4.8.1 (RC)](https://github.com/microsoft/TypeScript/issues?q=milestone%3A%22TypeScript+4.8.1%22+).\\r\\n* [fixed issues query for Typescript 4.8.1 (Stable)](https://github.com/microsoft/TypeScript/issues?q=milestone%3A%22TypeScript+4.8.2%22+).\\r\\n\\r\\nDownloads are available on:\\r\\n\\r\\n* [npm](https://www.npmjs.com/package/typescript)\\r\\n* [Visual Studio 2022/2019](https://marketplace.visualstudio.com/items?itemName=TypeScriptTeam.TypeScript-48) ([Select new version in project options](https://github.com/Microsoft/TypeScript/wiki/Updating-TypeScript-in-Visual-Studio-2017))\\r\\n* [NuGet package](https://www.nuget.org/packages/Microsoft.TypeScript.MSBuild)\\r\\n TypeScript 4.8 RC For release notes, check out the [release announcement](https://devblogs.microsoft.com/typescript/announcing-typescript-4-8-rc/).\\r\\n\\r\\nFor the complete list of fixed issues, check out the\\r\\n\\r\\n* [fixed issues query for Typescript 4.8.0 (Beta)](https://github.com/microsoft/TypeScript/issues?q=milestone%3A%22TypeScript+4.8.0%22+).\\r\\n* [fixed issues query for Typescript 4.8.1 (RC)](https://github.com/microsoft/TypeScript/issues?q=milestone%3A%22TypeScript+4.8.1%22+).\\r\\n\\r\\nDownloads are available on:\\r\\n\\r\\n* [npm](https://www.npmjs.com/package/typescript)\\r\\n* [Visual Studio 2022/2019](https://marketplace.visualstudio.com/items?itemName=TypeScriptTeam.TypeScript-48rc) ([Select new version in project options](https://github.com/Microsoft/TypeScript/wiki/Updating-TypeScript-in-Visual-Studio-2017))\\r\\n* [NuGet package](https://www.nuget.org/packages/Microsoft.TypeScript.MSBuild)\\r\\n TypeScript 4.8 Beta For release notes, check out the [release announcement](https://devblogs.microsoft.com/typescript/announcing-typescript-4-8-beta/).\\r\\n\\r\\nFor the complete list of fixed issues, check out the\\r\\n\\r\\n* [fixed issues query for Typescript 4.8.0 (Beta)](https://github.com/microsoft/TypeScript/issues?q=milestone%3A%22TypeScript+4.8.0%22+).\\r\\n\\r\\nDownloads are available on:\\r\\n\\r\\n* [npm](https://www.npmjs.com/package/typescript)\\r\\n* [Visual Studio 2022/2019](https://marketplace.visualstudio.com/items?itemName=TypeScriptTeam.TypeScript-48beta) ([Select new version in project options](https://github.com/Microsoft/TypeScript/wiki/Updating-TypeScript-in-Visual-Studio-2017))\\r\\n* [NuGet package](https://www.nuget.org/packages/Microsoft.TypeScript.MSBuild)\\r\\n TypeScript 4.7.4 For release notes, check out the [release announcement](https://devblogs.microsoft.com/typescript/announcing-typescript-4-7/).\\r\\n\\r\\nFor the complete list of fixed issues, check out the\\r\\n\\r\\n* [fixed issues query for Typescript 4.7.0 (Beta)](https://github.com/microsoft/TypeScript/issues?q=milestone%3A%22TypeScript+4.7.0%22+).\\r\\n* [fixed issues query for Typescript 4.7.1 (RC)](https://github.com/microsoft/TypeScript/issues?q=milestone%3A%22TypeScript+4.7.1%22+).\\r\\n* [fixed issues query for Typescript 4.7.2 (Stable)](https://github.com/microsoft/TypeScript/issues?q=milestone%3A%22TypeScript+4.7.2%22+).\\r\\n* [fixed issues query for Typescript 4.7.3 (Stable)](https://github.com/microsoft/TypeScript/issues?q=milestone%3A%22TypeScript+4.7.3%22+).\\r\\n* [fixed issues query for Typescript 4.7.4 (Stable)](https://github.com/microsoft/TypeScript/issues?q=milestone%3A%22TypeScript+4.7.4%22+).\\r\\n\\r\\nDownloads are available on:\\r\\n\\r\\n* [npm](https://www.npmjs.com/package/typescript)\\r\\n* [Visual Studio 2022/2019](https://marketplace.visualstudio.com/items?itemName=TypeScriptTeam.TypeScript-474) ([Select new version in project options](https://github.com/Microsoft/TypeScript/wiki/Updating-TypeScript-in-Visual-Studio-2017))\\r\\n* [NuGet package](https://www.nuget.org/packages/Microsoft.TypeScript.MSBuild)\\r\\n TypeScript 4.7.3 For release notes, check out the [release announcement](https://devblogs.microsoft.com/typescript/announcing-typescript-4-7/).\\r\\n\\r\\nFor the complete list of fixed issues, check out the\\r\\n\\r\\n* [fixed issues query for Typescript 4.7.0 (Beta)](https://github.com/microsoft/TypeScript/issues?q=milestone%3A%22TypeScript+4.7.0%22+).\\r\\n* [fixed issues query for Typescript 4.7.1 (RC)](https://github.com/microsoft/TypeScript/issues?q=milestone%3A%22TypeScript+4.7.1%22+).\\r\\n* [fixed issues query for Typescript 4.7.2 (Stable)](https://github.com/microsoft/TypeScript/issues?q=milestone%3A%22TypeScript+4.7.2%22+).\\r\\n* [fixed issues query for Typescript 4.7.3 (Stable)](https://github.com/microsoft/TypeScript/issues?q=milestone%3A%22TypeScript+4.7.3%22+).\\r\\n\\r\\nDownloads are available on:\\r\\n\\r\\n* [npm](https://www.npmjs.com/package/typescript)\\r\\n* [Visual Studio 2022/2019](https://marketplace.visualstudio.com/items?itemName=TypeScriptTeam.TypeScript-473) ([Select new version in project options](https://github.com/Microsoft/TypeScript/wiki/Updating-TypeScript-in-Visual-Studio-2017))\\r\\n* [NuGet package](https://www.nuget.org/packages/Microsoft.TypeScript.MSBuild)\\r\\n TypeScript 4.7.2 For release notes, check out the [release announcement](https://devblogs.microsoft.com/typescript/announcing-typescript-4-7/).\\r\\n\\r\\nFor the complete list of fixed issues, check out the\\r\\n\\r\\n* [fixed issues query for Typescript 4.7.0 (Beta)](https://github.com/microsoft/TypeScript/issues?q=milestone%3A%22TypeScript+4.7.0%22+).\\r\\n* [fixed issues query for Typescript 4.7.1 (RC)](https://github.com/microsoft/TypeScript/issues?q=milestone%3A%22TypeScript+4.7.1%22+).\\r\\n* [fixed issues query for Typescript 4.7.2 (Stable)](https://github.com/microsoft/TypeScript/issues?q=milestone%3A%22TypeScript+4.7.2%22+).\\r\\n\\r\\nDownloads are available on:\\r\\n\\r\\n* [npm](https://www.npmjs.com/package/typescript)\\r\\n* [Visual Studio 2022/2019](https://marketplace.visualstudio.com/items?itemName=TypeScriptTeam.TypeScript-472) ([Select new version in project options](https://github.com/Microsoft/TypeScript/wiki/Updating-TypeScript-in-Visual-Studio-2017))\\r\\n* [NuGet package](https://www.nuget.org/packages/Microsoft.TypeScript.MSBuild)\\r\\n TypeScript 4.7 RC For release notes, check out the [release announcement](https://devblogs.microsoft.com/typescript/announcing-typescript-4-7-rc/).\\r\\n\\r\\nFor the complete list of fixed issues, check out the\\r\\n\\r\\n* [fixed issues query for Typescript 4.7.0 (Beta)](https://github.com/microsoft/TypeScript/issues?q=milestone%3A%22TypeScript+4.7.0%22+).\\r\\n* [fixed issues query for Typescript 4.7.1 (RC)](https://github.com/microsoft/TypeScript/issues?q=milestone%3A%22TypeScript+4.7.1%22+).\\r\\n\\r\\nDownloads are available on:\\r\\n\\r\\n* [npm](https://www.npmjs.com/package/typescript)\\r\\n* [Visual Studio 2022/2019](https://marketplace.visualstudio.com/items?itemName=TypeScriptTeam.TypeScript-47rc) ([Select new version in project options](https://github.com/Microsoft/TypeScript/wiki/Updating-TypeScript-in-Visual-Studio-2017))\\r\\n* [NuGet package](https://www.nuget.org/packages/Microsoft.TypeScript.MSBuild)\\r\\n TypeScript 4.7 Beta For release notes, check out the [release announcement](https://devblogs.microsoft.com/typescript/announcing-typescript-4-7-beta/).\\r\\n\\r\\nFor the complete list of fixed issues, check out the\\r\\n\\r\\n* [fixed issues query for Typescript 4.7.0 (Beta)](https://github.com/microsoft/TypeScript/issues?q=milestone%3A%22TypeScript+4.7.0+%28Beta%29%22+).\\r\\n\\r\\nDownloads are available on:\\r\\n* [npm](https://www.npmjs.com/package/typescript)\\r\\n* [Visual Studio 2022/2019](https://marketplace.visualstudio.com/items?itemName=TypeScriptTeam.TypeScript-47beta) ([Select new version in project options](https://github.com/Microsoft/TypeScript/wiki/Updating-TypeScript-in-Visual-Studio-2017))\\r\\n* [NuGet package](https://www.nuget.org/packages/Microsoft.TypeScript.MSBuild)\\r\\n TypeScript 4.6.4 This release includes [a bug fix for text formatting on certain ranges](Studiohttps://github.com/microsoft/TypeScript/pull/48463), which was impacting Visual Studio users.\\r\\n\\r\\nFor the complete list of fixed issues, check out the\\r\\n\\r\\n* [fixed issues query for Typescript 4.6.0 (Beta)](https://github.com/microsoft/TypeScript/issues?q=milestone%3A%22TypeScript+4.6.0%22+).\\r\\n* [fixed issues query for Typescript 4.6.1 (RC)](https://github.com/microsoft/TypeScript/issues?q=milestone%3A%22TypeScript+4.6.1%22+).\\r\\n* [fixed issues query for Typescript 4.6.2 (Stable)](https://github.com/microsoft/TypeScript/issues?q=milestone%3A%22TypeScript+4.6.2%22+).\\r\\n* [fixed issues query for Typescript 4.6.3 (Stable)](https://github.com/microsoft/TypeScript/issues?q=milestone%3A%22TypeScript+4.6.3%22+).\\r\\n* [fixed issues query for Typescript 4.6.4 (Stable)](https://github.com/microsoft/TypeScript/issues?q=milestone%3A%22TypeScript+4.6.4%22+).\\r\\n\\r\\nDownloads are available on:\\r\\n* [npm](https://www.npmjs.com/package/typescript)\\r\\n* [Visual Studio 2022/2019](https://marketplace.visualstudio.com/items?itemName=TypeScriptTeam.TypeScript-464) ([Select new version in project options](https://github.com/Microsoft/TypeScript/wiki/Updating-TypeScript-in-Visual-Studio-2017))\\r\\n* [NuGet package](https://www.nuget.org/packages/Microsoft.TypeScript.MSBuild) TypeScript 4.6.3 This release includes fixes for\\r\\n\\r\\n* [an incremental parsing bug caused by faulty error recovery logic](https://github.com/microsoft/TypeScript/issues/47895)\\r\\n* [improved results from the TypeScript API\\'s `preProcessFile` function](https://github.com/microsoft/TypeScript/pull/47657)\\r\\n\\r\\nFor the complete list of fixed issues, check out the\\r\\n\\r\\n* [fixed issues query for Typescript 4.6.0 (Beta)](https://github.com/microsoft/TypeScript/issues?q=milestone%3A%22TypeScript+4.6.0%22+).\\r\\n* [fixed issues query for Typescript 4.6.1 (RC)](https://github.com/microsoft/TypeScript/issues?q=milestone%3A%22TypeScript+4.6.1%22+).\\r\\n* [fixed issues query for Typescript 4.6.2 (Stable)](https://github.com/microsoft/TypeScript/issues?q=milestone%3A%22TypeScript+4.6.2%22+).\\r\\n* [fixed issues query for Typescript 4.6.3 (Stable)](https://github.com/microsoft/TypeScript/issues?q=milestone%3A%22TypeScript+4.6.3%22+).\\r\\n\\r\\nDownloads are available on:\\r\\n* [npm](https://www.npmjs.com/package/typescript) TypeScript 4.6.2 For release notes, check out the [release announcement](https://devblogs.microsoft.com/typescript/announcing-typescript-4-6/).\\r\\n\\r\\nFor the complete list of fixed issues, check out the\\r\\n\\r\\n* [fixed issues query for Typescript 4.6.0 (Beta)](https://github.com/microsoft/TypeScript/issues?q=milestone%3A%22TypeScript+4.6.0%22+).\\r\\n* [fixed issues query for Typescript 4.6.1 (RC)](https://github.com/microsoft/TypeScript/issues?q=milestone%3A%22TypeScript+4.6.1%22+).\\r\\n* [fixed issues query for Typescript 4.6.2 (Stable)](https://github.com/microsoft/TypeScript/issues?q=milestone%3A%22TypeScript+4.6.2%22+).\\r\\n\\r\\nDownloads are available on:\\r\\n* [npm](https://www.npmjs.com/package/typescript)\\r\\n* [Visual Studio 2022/2019](https://marketplace.visualstudio.com/items?itemName=TypeScriptTeam.TypeScript-46) ([Select new version in project options](https://github.com/Microsoft/TypeScript/wiki/Updating-TypeScript-in-Visual-Studio-2017))\\r\\n* [NuGet package](https://www.nuget.org/packages/Microsoft.TypeScript.MSBuild) TypeScript 4.6 RC For release notes, check out the [release announcement](https://devblogs.microsoft.com/typescript/announcing-typescript-4-6-rc/).\\r\\n\\r\\nFor the complete list of fixed issues, check out the\\r\\n\\r\\n* [fixed issues query for Typescript 4.5.0 (Beta)](https://github.com/microsoft/TypeScript/issues?q=milestone%3A%22TypeScript+4.6.0%22+).\\r\\n* [fixed issues query for Typescript 4.5.1 (RC)](https://github.com/microsoft/TypeScript/issues?q=milestone%3A%22TypeScript+4.6.1%22+).\\r\\n\\r\\nDownloads are available on:\\r\\n* [npm](https://www.npmjs.com/package/typescript)\\r\\n* [Visual Studio 2022/2019](https://marketplace.visualstudio.com/items?itemName=TypeScriptTeam.TypeScript-46rc) ([Select new version in project options](https://github.com/Microsoft/TypeScript/wiki/Updating-TypeScript-in-Visual-Studio-2017))\\r\\n* [NuGet package](https://www.nuget.org/packages/Microsoft.TypeScript.MSBuild)\\r\\n TypeScript 4.6 Beta For release notes, check out the [release announcement](https://devblogs.microsoft.com/typescript/announcing-typescript-4-6-beta/).\\r\\n\\r\\nFor the complete list of fixed issues, check out the\\r\\n\\r\\n* [fixed issues query for Typescript 4.6.0 (Beta)](https://github.com/microsoft/TypeScript/issues?q=milestone%3A%22TypeScript+4.6.0+%28Beta%29%22+).\\r\\n\\r\\nDownloads are available on:\\r\\n* [npm](https://www.npmjs.com/package/typescript)\\r\\n* [Visual Studio 2017/2019](https://marketplace.visualstudio.com/items?itemName=TypeScriptTeam.TypeScript-46beta) ([Select new version in project options](https://github.com/Microsoft/TypeScript/wiki/Updating-TypeScript-in-Visual-Studio-2017))\\r\\n* [NuGet package](https://www.nuget.org/packages/Microsoft.TypeScript.MSBuild)\\r\\n TypeScript 4.5.5 This [patch release](https://github.com/microsoft/TypeScript/issues?q=is%3Aissue+milestone%3A%22TypeScript+4.5.5%22+is%3Aclosed) includes a number of fixes to language service crashes and assertion violations, along with improvements to JSX attribute snippets.\\r\\n\\r\\nFor the complete list of fixed issues, check out the\\r\\n\\r\\n* [fixed issues query for Typescript 4.5.0 (Beta)](https://github.com/microsoft/TypeScript/issues?q=milestone%3A%22TypeScript+4.5.0%22+).\\r\\n* [fixed issues query for Typescript 4.5.1 (RC)](https://github.com/microsoft/TypeScript/issues?q=milestone%3A%22TypeScript+4.5.1%22+).\\r\\n* [fixed issues query for Typescript 4.5.2 (Stable)](https://github.com/microsoft/TypeScript/issues?q=milestone%3A%22TypeScript+4.5.2%22+).\\r\\n* [fixed issues query for Typescript 4.5.3 (Stable)](https://github.com/microsoft/TypeScript/issues?q=milestone%3A%22TypeScript+4.5.3%22+).\\r\\n* [fixed issues query for Typescript 4.5.4 (Stable)](https://github.com/microsoft/TypeScript/issues?q=milestone%3A%22TypeScript+4.5.4%22+).\\r\\n* [fixed issues query for Typescript 4.5.5 (Stable)](https://github.com/microsoft/TypeScript/issues?q=milestone%3A%22TypeScript+4.5.5%22+).\\r\\n\\r\\n\\r\\nDownloads are available on:\\r\\n\\r\\n* [npm](https://www.npmjs.com/package/typescript)\\r\\n<!-- * [NuGet package](https://www.nuget.org/packages/Microsoft.TypeScript.MSBuild) -->\\r\\n TypeScript 4.5.4 This patch release includes a fix for [incorrectly offering up JSX attribute snippet completions at the beginning of a tag name](https://github.com/microsoft/TypeScript/issues/47090).\\r\\n\\r\\nFor the complete list of fixed issues, check out the\\r\\n\\r\\n* [fixed issues query for Typescript 4.5.0 (Beta)](https://github.com/microsoft/TypeScript/issues?q=milestone%3A%22TypeScript+4.5.0%22+).\\r\\n* [fixed issues query for Typescript 4.5.1 (RC)](https://github.com/microsoft/TypeScript/issues?q=milestone%3A%22TypeScript+4.5.1%22+).\\r\\n* [fixed issues query for Typescript 4.5.2 (Stable)](https://github.com/microsoft/TypeScript/issues?q=milestone%3A%22TypeScript+4.5.2%22+).\\r\\n* [fixed issues query for Typescript 4.5.3 (Stable)](https://github.com/microsoft/TypeScript/issues?q=milestone%3A%22TypeScript+4.5.3%22+).\\r\\n* * [fixed issues query for Typescript 4.5.4 (Stable)](https://github.com/microsoft/TypeScript/issues?q=milestone%3A%22TypeScript+4.5.4%22+).\\r\\n\\r\\n\\r\\nDownloads are available on:\\r\\n\\r\\n* [npm](https://www.npmjs.com/package/typescript)\\r\\n* [NuGet package](https://www.nuget.org/packages/Microsoft.TypeScript.MSBuild)\\r\\n TypeScript 4.5.3 For release notes, check out the [release announcement](https://devblogs.microsoft.com/typescript/announcing-typescript-4-5/).\\r\\n\\r\\nFor the complete list of fixed issues, check out the\\r\\n\\r\\n* [fixed issues query for Typescript 4.5.0 (Beta)](https://github.com/microsoft/TypeScript/issues?q=milestone%3A%22TypeScript+4.5.0%22+).\\r\\n* [fixed issues query for Typescript 4.5.1 (RC)](https://github.com/microsoft/TypeScript/issues?q=milestone%3A%22TypeScript+4.5.1%22+).\\r\\n* [fixed issues query for Typescript 4.5.2 (Stable)](https://github.com/microsoft/TypeScript/issues?q=milestone%3A%22TypeScript+4.5.2%22+).\\r\\n* [fixed issues query for Typescript 4.5.3 (Stable)](https://github.com/microsoft/TypeScript/issues?q=milestone%3A%22TypeScript+4.5.3%22+).\\r\\n\\r\\n\\r\\nDownloads are available on:\\r\\n\\r\\n* [npm](https://www.npmjs.com/package/typescript)\\r\\n* [NuGet package](https://www.nuget.org/packages/Microsoft.TypeScript.MSBuild)\\r\\n TypeScript 4.5 For release notes, check out the [release announcement](https://devblogs.microsoft.com/typescript/announcing-typescript-4-5/).\\r\\n\\r\\nFor the complete list of fixed issues, check out the\\r\\n\\r\\n* [fixed issues query for Typescript 4.5.0 (Beta)](https://github.com/microsoft/TypeScript/issues?q=milestone%3A%22TypeScript+4.5.0%22+).\\r\\n* [fixed issues query for Typescript 4.5.1 (RC)](https://github.com/microsoft/TypeScript/issues?q=milestone%3A%22TypeScript+4.5.1%22+).\\r\\n* [fixed issues query for Typescript 4.5.1 (Stable)](https://github.com/microsoft/TypeScript/issues?q=milestone%3A%22TypeScript+4.5.2%22+).\\r\\n\\r\\nDownloads are available on:\\r\\n* [npm](https://www.npmjs.com/package/typescript)\\r\\n* [Visual Studio 2017/2019](https://marketplace.visualstudio.com/items?itemName=TypeScriptTeam.TypeScript-45) ([Select new version in project options](https://github.com/Microsoft/TypeScript/wiki/Updating-TypeScript-in-Visual-Studio-2017))\\r\\n* [NuGet package](https://www.nuget.org/packages/Microsoft.TypeScript.MSBuild)\\r\\n'"
            ],
            "application/vnd.google.colaboratory.intrinsic+json": {
              "type": "string"
            }
          },
          "metadata": {},
          "execution_count": 182
        }
      ]
    },
    {
      "cell_type": "code",
      "source": [
        "df=df.drop(columns=['commits','release_notes'])"
      ],
      "metadata": {
        "id": "WdoQICuFURrh"
      },
      "execution_count": 183,
      "outputs": []
    },
    {
      "cell_type": "code",
      "source": [
        "df = df.merge(second_df, on='repository')"
      ],
      "metadata": {
        "id": "Sy5TMMN2T3Ar"
      },
      "execution_count": 184,
      "outputs": []
    },
    {
      "cell_type": "code",
      "source": [
        "df.head()"
      ],
      "metadata": {
        "id": "nH5PdUZuUd6m",
        "outputId": "58a87d88-5a0b-40d9-8a6a-e7ea81c88326",
        "colab": {
          "base_uri": "https://localhost:8080/",
          "height": 337
        }
      },
      "execution_count": 185,
      "outputs": [
        {
          "output_type": "execute_result",
          "data": {
            "text/plain": [
              "                  repository  \\\n",
              "0       Microsoft/TypeScript   \n",
              "1      facebook/react-native   \n",
              "2             facebook/react   \n",
              "3  scikit-learn/scikit-learn   \n",
              "4                apple/swift   \n",
              "\n",
              "                                               pulls  \\\n",
              "0  Cache expression type when checking assertion ...   \n",
              "1  rename host preload -> start Fix react unit te...   \n",
              "2  [react-native] Always set RN$stopSurface fix[d...   \n",
              "3  EXA Tweak plot_set_output comment DOC Fix wron...   \n",
              "4  improve error when using noncopyable type with...   \n",
              "\n",
              "                                              readme  \\\n",
              "0  TypeScript\\nTypeScript is a language for appli...   \n",
              "1  React Native\\nLearn once, write anywhere:\\nBui...   \n",
              "2  React ·\\nReact is a JavaScript library for bui...   \n",
              "3  scikit-learn is a Python module for machine le...   \n",
              "4  Swift Programming Language\\nArchitecture Build...   \n",
              "\n",
              "                                             commits  \\\n",
              "0  Update package-lock.json Update package-lock.j...   \n",
              "1  Native ARIA Roles: Android Paper + Fabric (#37...   \n",
              "2  Fix uSES hydration in strict mode (#26791)\\n\\n...   \n",
              "3  AdaBoost: allow base_estimator=None (#26242) E...   \n",
              "4  Merge pull request #65837 from ahoppen/ahoppen...   \n",
              "\n",
              "                                       release_notes  \n",
              "0  TypeScript 5.1 Beta For release notes, check o...  \n",
              "1  0.72.0-RC.3 ## ⭐️ Golden Release Candidate ⭐️\\...  \n",
              "2  18.2.0 (June 14, 2022) ### React DOM\\r\\n\\r\\n* ...  \n",
              "3  Scikit-learn 1.2.2 We're happy to announce the...  \n",
              "4  Swift 5.8 Release  Swift 5.7.3 Release  Swift ...  "
            ],
            "text/html": [
              "\n",
              "  <div id=\"df-fa8effb2-5216-4cc9-8d28-1d8393af044e\">\n",
              "    <div class=\"colab-df-container\">\n",
              "      <div>\n",
              "<style scoped>\n",
              "    .dataframe tbody tr th:only-of-type {\n",
              "        vertical-align: middle;\n",
              "    }\n",
              "\n",
              "    .dataframe tbody tr th {\n",
              "        vertical-align: top;\n",
              "    }\n",
              "\n",
              "    .dataframe thead th {\n",
              "        text-align: right;\n",
              "    }\n",
              "</style>\n",
              "<table border=\"1\" class=\"dataframe\">\n",
              "  <thead>\n",
              "    <tr style=\"text-align: right;\">\n",
              "      <th></th>\n",
              "      <th>repository</th>\n",
              "      <th>pulls</th>\n",
              "      <th>readme</th>\n",
              "      <th>commits</th>\n",
              "      <th>release_notes</th>\n",
              "    </tr>\n",
              "  </thead>\n",
              "  <tbody>\n",
              "    <tr>\n",
              "      <th>0</th>\n",
              "      <td>Microsoft/TypeScript</td>\n",
              "      <td>Cache expression type when checking assertion ...</td>\n",
              "      <td>TypeScript\\nTypeScript is a language for appli...</td>\n",
              "      <td>Update package-lock.json Update package-lock.j...</td>\n",
              "      <td>TypeScript 5.1 Beta For release notes, check o...</td>\n",
              "    </tr>\n",
              "    <tr>\n",
              "      <th>1</th>\n",
              "      <td>facebook/react-native</td>\n",
              "      <td>rename host preload -&gt; start Fix react unit te...</td>\n",
              "      <td>React Native\\nLearn once, write anywhere:\\nBui...</td>\n",
              "      <td>Native ARIA Roles: Android Paper + Fabric (#37...</td>\n",
              "      <td>0.72.0-RC.3 ## ⭐️ Golden Release Candidate ⭐️\\...</td>\n",
              "    </tr>\n",
              "    <tr>\n",
              "      <th>2</th>\n",
              "      <td>facebook/react</td>\n",
              "      <td>[react-native] Always set RN$stopSurface fix[d...</td>\n",
              "      <td>React ·\\nReact is a JavaScript library for bui...</td>\n",
              "      <td>Fix uSES hydration in strict mode (#26791)\\n\\n...</td>\n",
              "      <td>18.2.0 (June 14, 2022) ### React DOM\\r\\n\\r\\n* ...</td>\n",
              "    </tr>\n",
              "    <tr>\n",
              "      <th>3</th>\n",
              "      <td>scikit-learn/scikit-learn</td>\n",
              "      <td>EXA Tweak plot_set_output comment DOC Fix wron...</td>\n",
              "      <td>scikit-learn is a Python module for machine le...</td>\n",
              "      <td>AdaBoost: allow base_estimator=None (#26242) E...</td>\n",
              "      <td>Scikit-learn 1.2.2 We're happy to announce the...</td>\n",
              "    </tr>\n",
              "    <tr>\n",
              "      <th>4</th>\n",
              "      <td>apple/swift</td>\n",
              "      <td>improve error when using noncopyable type with...</td>\n",
              "      <td>Swift Programming Language\\nArchitecture Build...</td>\n",
              "      <td>Merge pull request #65837 from ahoppen/ahoppen...</td>\n",
              "      <td>Swift 5.8 Release  Swift 5.7.3 Release  Swift ...</td>\n",
              "    </tr>\n",
              "  </tbody>\n",
              "</table>\n",
              "</div>\n",
              "      <button class=\"colab-df-convert\" onclick=\"convertToInteractive('df-fa8effb2-5216-4cc9-8d28-1d8393af044e')\"\n",
              "              title=\"Convert this dataframe to an interactive table.\"\n",
              "              style=\"display:none;\">\n",
              "        \n",
              "  <svg xmlns=\"http://www.w3.org/2000/svg\" height=\"24px\"viewBox=\"0 0 24 24\"\n",
              "       width=\"24px\">\n",
              "    <path d=\"M0 0h24v24H0V0z\" fill=\"none\"/>\n",
              "    <path d=\"M18.56 5.44l.94 2.06.94-2.06 2.06-.94-2.06-.94-.94-2.06-.94 2.06-2.06.94zm-11 1L8.5 8.5l.94-2.06 2.06-.94-2.06-.94L8.5 2.5l-.94 2.06-2.06.94zm10 10l.94 2.06.94-2.06 2.06-.94-2.06-.94-.94-2.06-.94 2.06-2.06.94z\"/><path d=\"M17.41 7.96l-1.37-1.37c-.4-.4-.92-.59-1.43-.59-.52 0-1.04.2-1.43.59L10.3 9.45l-7.72 7.72c-.78.78-.78 2.05 0 2.83L4 21.41c.39.39.9.59 1.41.59.51 0 1.02-.2 1.41-.59l7.78-7.78 2.81-2.81c.8-.78.8-2.07 0-2.86zM5.41 20L4 18.59l7.72-7.72 1.47 1.35L5.41 20z\"/>\n",
              "  </svg>\n",
              "      </button>\n",
              "      \n",
              "  <style>\n",
              "    .colab-df-container {\n",
              "      display:flex;\n",
              "      flex-wrap:wrap;\n",
              "      gap: 12px;\n",
              "    }\n",
              "\n",
              "    .colab-df-convert {\n",
              "      background-color: #E8F0FE;\n",
              "      border: none;\n",
              "      border-radius: 50%;\n",
              "      cursor: pointer;\n",
              "      display: none;\n",
              "      fill: #1967D2;\n",
              "      height: 32px;\n",
              "      padding: 0 0 0 0;\n",
              "      width: 32px;\n",
              "    }\n",
              "\n",
              "    .colab-df-convert:hover {\n",
              "      background-color: #E2EBFA;\n",
              "      box-shadow: 0px 1px 2px rgba(60, 64, 67, 0.3), 0px 1px 3px 1px rgba(60, 64, 67, 0.15);\n",
              "      fill: #174EA6;\n",
              "    }\n",
              "\n",
              "    [theme=dark] .colab-df-convert {\n",
              "      background-color: #3B4455;\n",
              "      fill: #D2E3FC;\n",
              "    }\n",
              "\n",
              "    [theme=dark] .colab-df-convert:hover {\n",
              "      background-color: #434B5C;\n",
              "      box-shadow: 0px 1px 3px 1px rgba(0, 0, 0, 0.15);\n",
              "      filter: drop-shadow(0px 1px 2px rgba(0, 0, 0, 0.3));\n",
              "      fill: #FFFFFF;\n",
              "    }\n",
              "  </style>\n",
              "\n",
              "      <script>\n",
              "        const buttonEl =\n",
              "          document.querySelector('#df-fa8effb2-5216-4cc9-8d28-1d8393af044e button.colab-df-convert');\n",
              "        buttonEl.style.display =\n",
              "          google.colab.kernel.accessAllowed ? 'block' : 'none';\n",
              "\n",
              "        async function convertToInteractive(key) {\n",
              "          const element = document.querySelector('#df-fa8effb2-5216-4cc9-8d28-1d8393af044e');\n",
              "          const dataTable =\n",
              "            await google.colab.kernel.invokeFunction('convertToInteractive',\n",
              "                                                     [key], {});\n",
              "          if (!dataTable) return;\n",
              "\n",
              "          const docLinkHtml = 'Like what you see? Visit the ' +\n",
              "            '<a target=\"_blank\" href=https://colab.research.google.com/notebooks/data_table.ipynb>data table notebook</a>'\n",
              "            + ' to learn more about interactive tables.';\n",
              "          element.innerHTML = '';\n",
              "          dataTable['output_type'] = 'display_data';\n",
              "          await google.colab.output.renderOutput(dataTable, element);\n",
              "          const docLink = document.createElement('div');\n",
              "          docLink.innerHTML = docLinkHtml;\n",
              "          element.appendChild(docLink);\n",
              "        }\n",
              "      </script>\n",
              "    </div>\n",
              "  </div>\n",
              "  "
            ]
          },
          "metadata": {},
          "execution_count": 185
        }
      ]
    },
    {
      "cell_type": "code",
      "source": [
        "# import re\n",
        "\n",
        "# def preprocess_text(text):\n",
        "#     text = text.lower()\n",
        "\n",
        "#     text = re.sub(r'[^\\w\\s]', '', text)\n",
        "\n",
        "#     text = re.sub(r'\\s+', ' ', text).strip()\n",
        "\n",
        "#     stopwords = set(['the', 'and', 'a', 'in', 'of', 'to'])\n",
        "#     tokens = text.split()\n",
        "#     tokens = [token for token in tokens if token not in stopwords]\n",
        "#     text = ' '.join(tokens)\n",
        "\n",
        "#     return text"
      ],
      "metadata": {
        "id": "MZCjIG69UetK"
      },
      "execution_count": 186,
      "outputs": []
    },
    {
      "cell_type": "code",
      "source": [
        "# df['pulls']=df['pulls'].apply(preprocess_text)"
      ],
      "metadata": {
        "id": "8zXPfztMVZk2"
      },
      "execution_count": 187,
      "outputs": []
    },
    {
      "cell_type": "code",
      "source": [
        "# df['readme']=df['readme'].apply(preprocess_text)"
      ],
      "metadata": {
        "id": "m1TDbY-XVe3G"
      },
      "execution_count": 188,
      "outputs": []
    },
    {
      "cell_type": "code",
      "source": [
        "# df['commits']=df['commits'].apply(preprocess_text)"
      ],
      "metadata": {
        "id": "-K49Bvy4WcOB"
      },
      "execution_count": 189,
      "outputs": []
    },
    {
      "cell_type": "code",
      "source": [
        "# df['release_notes']=df['release_notes'].apply(preprocess_text)"
      ],
      "metadata": {
        "id": "1R1_NeJrWeaD"
      },
      "execution_count": 190,
      "outputs": []
    },
    {
      "cell_type": "code",
      "source": [
        "# df['release_notes'][0]"
      ],
      "metadata": {
        "id": "E3GSB2JEWgXv"
      },
      "execution_count": 191,
      "outputs": []
    },
    {
      "cell_type": "code",
      "source": [
        "df.to_csv('maitreya.csv', index=False)"
      ],
      "metadata": {
        "id": "eAGdrlBiWrSs"
      },
      "execution_count": 192,
      "outputs": []
    },
    {
      "cell_type": "code",
      "source": [
        "from google.colab import files\n",
        "files.download('maitreya.csv')"
      ],
      "metadata": {
        "id": "vJD1B0ssYWtY",
        "outputId": "9434b60f-c218-40ea-bd12-772de1cad31a",
        "colab": {
          "base_uri": "https://localhost:8080/",
          "height": 17
        }
      },
      "execution_count": 193,
      "outputs": [
        {
          "output_type": "display_data",
          "data": {
            "text/plain": [
              "<IPython.core.display.Javascript object>"
            ],
            "application/javascript": [
              "\n",
              "    async function download(id, filename, size) {\n",
              "      if (!google.colab.kernel.accessAllowed) {\n",
              "        return;\n",
              "      }\n",
              "      const div = document.createElement('div');\n",
              "      const label = document.createElement('label');\n",
              "      label.textContent = `Downloading \"${filename}\": `;\n",
              "      div.appendChild(label);\n",
              "      const progress = document.createElement('progress');\n",
              "      progress.max = size;\n",
              "      div.appendChild(progress);\n",
              "      document.body.appendChild(div);\n",
              "\n",
              "      const buffers = [];\n",
              "      let downloaded = 0;\n",
              "\n",
              "      const channel = await google.colab.kernel.comms.open(id);\n",
              "      // Send a message to notify the kernel that we're ready.\n",
              "      channel.send({})\n",
              "\n",
              "      for await (const message of channel.messages) {\n",
              "        // Send a message to notify the kernel that we're ready.\n",
              "        channel.send({})\n",
              "        if (message.buffers) {\n",
              "          for (const buffer of message.buffers) {\n",
              "            buffers.push(buffer);\n",
              "            downloaded += buffer.byteLength;\n",
              "            progress.value = downloaded;\n",
              "          }\n",
              "        }\n",
              "      }\n",
              "      const blob = new Blob(buffers, {type: 'application/binary'});\n",
              "      const a = document.createElement('a');\n",
              "      a.href = window.URL.createObjectURL(blob);\n",
              "      a.download = filename;\n",
              "      div.appendChild(a);\n",
              "      a.click();\n",
              "      div.remove();\n",
              "    }\n",
              "  "
            ]
          },
          "metadata": {}
        },
        {
          "output_type": "display_data",
          "data": {
            "text/plain": [
              "<IPython.core.display.Javascript object>"
            ],
            "application/javascript": [
              "download(\"download_6cba6891-cd22-4341-bd87-ba13e4ab918e\", \"maitreya.csv\", 56782650)"
            ]
          },
          "metadata": {}
        }
      ]
    },
    {
      "cell_type": "code",
      "source": [],
      "metadata": {
        "id": "aP763kBkYYvU"
      },
      "execution_count": null,
      "outputs": []
    }
  ]
}