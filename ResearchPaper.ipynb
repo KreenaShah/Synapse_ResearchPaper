{
  "nbformat": 4,
  "nbformat_minor": 0,
  "metadata": {
    "colab": {
      "provenance": [],
      "mount_file_id": "https://github.com/maitreya-v/Synapse_ResearchPaper/blob/main/ResearchPaper.ipynb",
      "authorship_tag": "ABX9TyNw+x0UuIkt6NqFagfMz1HE",
      "include_colab_link": true
    },
    "kernelspec": {
      "name": "python3",
      "display_name": "Python 3"
    },
    "language_info": {
      "name": "python"
    }
  },
  "cells": [
    {
      "cell_type": "markdown",
      "metadata": {
        "id": "view-in-github",
        "colab_type": "text"
      },
      "source": [
        "<a href=\"https://colab.research.google.com/github/KreenaShah/Synapse_ResearchPaper/blob/maitreya/ResearchPaper.ipynb\" target=\"_parent\"><img src=\"https://colab.research.google.com/assets/colab-badge.svg\" alt=\"Open In Colab\"/></a>"
      ]
    },
    {
      "cell_type": "code",
      "execution_count": 159,
      "metadata": {
        "id": "wnH8JX-qXLE1"
      },
      "outputs": [],
      "source": [
        "import pandas as pd\n",
        "import numpy as np\n",
        "import seaborn as sns\n",
        "import matplotlib.pyplot as plt"
      ]
    },
    {
      "cell_type": "code",
      "source": [
        "df=pd.read_csv('/content/drive/MyDrive/Research Paper Dataset/first.csv',on_bad_lines='skip')"
      ],
      "metadata": {
        "id": "GE5Fq_R-Xg8H"
      },
      "execution_count": 160,
      "outputs": []
    },
    {
      "cell_type": "code",
      "source": [
        "df.head()"
      ],
      "metadata": {
        "id": "b08iCaNcXq-c",
        "outputId": "f4faf0af-c799-46f4-80c3-3aeffcb138b2",
        "colab": {
          "base_uri": "https://localhost:8080/",
          "height": 354
        }
      },
      "execution_count": 161,
      "outputs": [
        {
          "output_type": "execute_result",
          "data": {
            "text/plain": [
              "   Unnamed: 0                 repository  \\\n",
              "0           0       Microsoft/TypeScript   \n",
              "1           1      facebook/react-native   \n",
              "2           2             facebook/react   \n",
              "3           3  scikit-learn/scikit-learn   \n",
              "4           4                apple/swift   \n",
              "\n",
              "                                             commits  \\\n",
              "0                                                 []   \n",
              "1                                                 []   \n",
              "2                                                 []   \n",
              "3  ['AdaBoost: allow base_estimator=None (#26242)...   \n",
              "4                                                 []   \n",
              "\n",
              "                                               pulls  \\\n",
              "0  ['Cache expression type when checking assertio...   \n",
              "1  ['rename host preload -> start', 'Fix react un...   \n",
              "2  ['[react-native] Always set RN$stopSurface', '...   \n",
              "3  ['EXA Tweak plot_set_output comment', 'DOC Fix...   \n",
              "4  ['improve error when using noncopyable type wi...   \n",
              "\n",
              "                                              readme  release_notes  \n",
              "0  TypeScript\\nTypeScript is a language for appli...            NaN  \n",
              "1  React Native\\nLearn once, write anywhere:\\nBui...            NaN  \n",
              "2  React ·\\nReact is a JavaScript library for bui...            NaN  \n",
              "3  scikit-learn is a Python module for machine le...            NaN  \n",
              "4  Swift Programming Language\\nArchitecture Build...            NaN  "
            ],
            "text/html": [
              "\n",
              "  <div id=\"df-70c8bd2e-95fc-4576-8337-55daf11ed067\">\n",
              "    <div class=\"colab-df-container\">\n",
              "      <div>\n",
              "<style scoped>\n",
              "    .dataframe tbody tr th:only-of-type {\n",
              "        vertical-align: middle;\n",
              "    }\n",
              "\n",
              "    .dataframe tbody tr th {\n",
              "        vertical-align: top;\n",
              "    }\n",
              "\n",
              "    .dataframe thead th {\n",
              "        text-align: right;\n",
              "    }\n",
              "</style>\n",
              "<table border=\"1\" class=\"dataframe\">\n",
              "  <thead>\n",
              "    <tr style=\"text-align: right;\">\n",
              "      <th></th>\n",
              "      <th>Unnamed: 0</th>\n",
              "      <th>repository</th>\n",
              "      <th>commits</th>\n",
              "      <th>pulls</th>\n",
              "      <th>readme</th>\n",
              "      <th>release_notes</th>\n",
              "    </tr>\n",
              "  </thead>\n",
              "  <tbody>\n",
              "    <tr>\n",
              "      <th>0</th>\n",
              "      <td>0</td>\n",
              "      <td>Microsoft/TypeScript</td>\n",
              "      <td>[]</td>\n",
              "      <td>['Cache expression type when checking assertio...</td>\n",
              "      <td>TypeScript\\nTypeScript is a language for appli...</td>\n",
              "      <td>NaN</td>\n",
              "    </tr>\n",
              "    <tr>\n",
              "      <th>1</th>\n",
              "      <td>1</td>\n",
              "      <td>facebook/react-native</td>\n",
              "      <td>[]</td>\n",
              "      <td>['rename host preload -&gt; start', 'Fix react un...</td>\n",
              "      <td>React Native\\nLearn once, write anywhere:\\nBui...</td>\n",
              "      <td>NaN</td>\n",
              "    </tr>\n",
              "    <tr>\n",
              "      <th>2</th>\n",
              "      <td>2</td>\n",
              "      <td>facebook/react</td>\n",
              "      <td>[]</td>\n",
              "      <td>['[react-native] Always set RN$stopSurface', '...</td>\n",
              "      <td>React ·\\nReact is a JavaScript library for bui...</td>\n",
              "      <td>NaN</td>\n",
              "    </tr>\n",
              "    <tr>\n",
              "      <th>3</th>\n",
              "      <td>3</td>\n",
              "      <td>scikit-learn/scikit-learn</td>\n",
              "      <td>['AdaBoost: allow base_estimator=None (#26242)...</td>\n",
              "      <td>['EXA Tweak plot_set_output comment', 'DOC Fix...</td>\n",
              "      <td>scikit-learn is a Python module for machine le...</td>\n",
              "      <td>NaN</td>\n",
              "    </tr>\n",
              "    <tr>\n",
              "      <th>4</th>\n",
              "      <td>4</td>\n",
              "      <td>apple/swift</td>\n",
              "      <td>[]</td>\n",
              "      <td>['improve error when using noncopyable type wi...</td>\n",
              "      <td>Swift Programming Language\\nArchitecture Build...</td>\n",
              "      <td>NaN</td>\n",
              "    </tr>\n",
              "  </tbody>\n",
              "</table>\n",
              "</div>\n",
              "      <button class=\"colab-df-convert\" onclick=\"convertToInteractive('df-70c8bd2e-95fc-4576-8337-55daf11ed067')\"\n",
              "              title=\"Convert this dataframe to an interactive table.\"\n",
              "              style=\"display:none;\">\n",
              "        \n",
              "  <svg xmlns=\"http://www.w3.org/2000/svg\" height=\"24px\"viewBox=\"0 0 24 24\"\n",
              "       width=\"24px\">\n",
              "    <path d=\"M0 0h24v24H0V0z\" fill=\"none\"/>\n",
              "    <path d=\"M18.56 5.44l.94 2.06.94-2.06 2.06-.94-2.06-.94-.94-2.06-.94 2.06-2.06.94zm-11 1L8.5 8.5l.94-2.06 2.06-.94-2.06-.94L8.5 2.5l-.94 2.06-2.06.94zm10 10l.94 2.06.94-2.06 2.06-.94-2.06-.94-.94-2.06-.94 2.06-2.06.94z\"/><path d=\"M17.41 7.96l-1.37-1.37c-.4-.4-.92-.59-1.43-.59-.52 0-1.04.2-1.43.59L10.3 9.45l-7.72 7.72c-.78.78-.78 2.05 0 2.83L4 21.41c.39.39.9.59 1.41.59.51 0 1.02-.2 1.41-.59l7.78-7.78 2.81-2.81c.8-.78.8-2.07 0-2.86zM5.41 20L4 18.59l7.72-7.72 1.47 1.35L5.41 20z\"/>\n",
              "  </svg>\n",
              "      </button>\n",
              "      \n",
              "  <style>\n",
              "    .colab-df-container {\n",
              "      display:flex;\n",
              "      flex-wrap:wrap;\n",
              "      gap: 12px;\n",
              "    }\n",
              "\n",
              "    .colab-df-convert {\n",
              "      background-color: #E8F0FE;\n",
              "      border: none;\n",
              "      border-radius: 50%;\n",
              "      cursor: pointer;\n",
              "      display: none;\n",
              "      fill: #1967D2;\n",
              "      height: 32px;\n",
              "      padding: 0 0 0 0;\n",
              "      width: 32px;\n",
              "    }\n",
              "\n",
              "    .colab-df-convert:hover {\n",
              "      background-color: #E2EBFA;\n",
              "      box-shadow: 0px 1px 2px rgba(60, 64, 67, 0.3), 0px 1px 3px 1px rgba(60, 64, 67, 0.15);\n",
              "      fill: #174EA6;\n",
              "    }\n",
              "\n",
              "    [theme=dark] .colab-df-convert {\n",
              "      background-color: #3B4455;\n",
              "      fill: #D2E3FC;\n",
              "    }\n",
              "\n",
              "    [theme=dark] .colab-df-convert:hover {\n",
              "      background-color: #434B5C;\n",
              "      box-shadow: 0px 1px 3px 1px rgba(0, 0, 0, 0.15);\n",
              "      filter: drop-shadow(0px 1px 2px rgba(0, 0, 0, 0.3));\n",
              "      fill: #FFFFFF;\n",
              "    }\n",
              "  </style>\n",
              "\n",
              "      <script>\n",
              "        const buttonEl =\n",
              "          document.querySelector('#df-70c8bd2e-95fc-4576-8337-55daf11ed067 button.colab-df-convert');\n",
              "        buttonEl.style.display =\n",
              "          google.colab.kernel.accessAllowed ? 'block' : 'none';\n",
              "\n",
              "        async function convertToInteractive(key) {\n",
              "          const element = document.querySelector('#df-70c8bd2e-95fc-4576-8337-55daf11ed067');\n",
              "          const dataTable =\n",
              "            await google.colab.kernel.invokeFunction('convertToInteractive',\n",
              "                                                     [key], {});\n",
              "          if (!dataTable) return;\n",
              "\n",
              "          const docLinkHtml = 'Like what you see? Visit the ' +\n",
              "            '<a target=\"_blank\" href=https://colab.research.google.com/notebooks/data_table.ipynb>data table notebook</a>'\n",
              "            + ' to learn more about interactive tables.';\n",
              "          element.innerHTML = '';\n",
              "          dataTable['output_type'] = 'display_data';\n",
              "          await google.colab.output.renderOutput(dataTable, element);\n",
              "          const docLink = document.createElement('div');\n",
              "          docLink.innerHTML = docLinkHtml;\n",
              "          element.appendChild(docLink);\n",
              "        }\n",
              "      </script>\n",
              "    </div>\n",
              "  </div>\n",
              "  "
            ]
          },
          "metadata": {},
          "execution_count": 161
        }
      ]
    },
    {
      "cell_type": "code",
      "source": [
        "df=df.drop(columns='Unnamed: 0')"
      ],
      "metadata": {
        "id": "z6jQFz3DcGvT"
      },
      "execution_count": 162,
      "outputs": []
    },
    {
      "cell_type": "code",
      "source": [
        "df.head()"
      ],
      "metadata": {
        "id": "j4BwIUxWcWST",
        "outputId": "a0db5944-4147-45d5-db9b-01cec544b648",
        "colab": {
          "base_uri": "https://localhost:8080/",
          "height": 337
        }
      },
      "execution_count": 163,
      "outputs": [
        {
          "output_type": "execute_result",
          "data": {
            "text/plain": [
              "                  repository  \\\n",
              "0       Microsoft/TypeScript   \n",
              "1      facebook/react-native   \n",
              "2             facebook/react   \n",
              "3  scikit-learn/scikit-learn   \n",
              "4                apple/swift   \n",
              "\n",
              "                                             commits  \\\n",
              "0                                                 []   \n",
              "1                                                 []   \n",
              "2                                                 []   \n",
              "3  ['AdaBoost: allow base_estimator=None (#26242)...   \n",
              "4                                                 []   \n",
              "\n",
              "                                               pulls  \\\n",
              "0  ['Cache expression type when checking assertio...   \n",
              "1  ['rename host preload -> start', 'Fix react un...   \n",
              "2  ['[react-native] Always set RN$stopSurface', '...   \n",
              "3  ['EXA Tweak plot_set_output comment', 'DOC Fix...   \n",
              "4  ['improve error when using noncopyable type wi...   \n",
              "\n",
              "                                              readme  release_notes  \n",
              "0  TypeScript\\nTypeScript is a language for appli...            NaN  \n",
              "1  React Native\\nLearn once, write anywhere:\\nBui...            NaN  \n",
              "2  React ·\\nReact is a JavaScript library for bui...            NaN  \n",
              "3  scikit-learn is a Python module for machine le...            NaN  \n",
              "4  Swift Programming Language\\nArchitecture Build...            NaN  "
            ],
            "text/html": [
              "\n",
              "  <div id=\"df-4e02c7c9-d06a-474b-a03f-05ea448a9889\">\n",
              "    <div class=\"colab-df-container\">\n",
              "      <div>\n",
              "<style scoped>\n",
              "    .dataframe tbody tr th:only-of-type {\n",
              "        vertical-align: middle;\n",
              "    }\n",
              "\n",
              "    .dataframe tbody tr th {\n",
              "        vertical-align: top;\n",
              "    }\n",
              "\n",
              "    .dataframe thead th {\n",
              "        text-align: right;\n",
              "    }\n",
              "</style>\n",
              "<table border=\"1\" class=\"dataframe\">\n",
              "  <thead>\n",
              "    <tr style=\"text-align: right;\">\n",
              "      <th></th>\n",
              "      <th>repository</th>\n",
              "      <th>commits</th>\n",
              "      <th>pulls</th>\n",
              "      <th>readme</th>\n",
              "      <th>release_notes</th>\n",
              "    </tr>\n",
              "  </thead>\n",
              "  <tbody>\n",
              "    <tr>\n",
              "      <th>0</th>\n",
              "      <td>Microsoft/TypeScript</td>\n",
              "      <td>[]</td>\n",
              "      <td>['Cache expression type when checking assertio...</td>\n",
              "      <td>TypeScript\\nTypeScript is a language for appli...</td>\n",
              "      <td>NaN</td>\n",
              "    </tr>\n",
              "    <tr>\n",
              "      <th>1</th>\n",
              "      <td>facebook/react-native</td>\n",
              "      <td>[]</td>\n",
              "      <td>['rename host preload -&gt; start', 'Fix react un...</td>\n",
              "      <td>React Native\\nLearn once, write anywhere:\\nBui...</td>\n",
              "      <td>NaN</td>\n",
              "    </tr>\n",
              "    <tr>\n",
              "      <th>2</th>\n",
              "      <td>facebook/react</td>\n",
              "      <td>[]</td>\n",
              "      <td>['[react-native] Always set RN$stopSurface', '...</td>\n",
              "      <td>React ·\\nReact is a JavaScript library for bui...</td>\n",
              "      <td>NaN</td>\n",
              "    </tr>\n",
              "    <tr>\n",
              "      <th>3</th>\n",
              "      <td>scikit-learn/scikit-learn</td>\n",
              "      <td>['AdaBoost: allow base_estimator=None (#26242)...</td>\n",
              "      <td>['EXA Tweak plot_set_output comment', 'DOC Fix...</td>\n",
              "      <td>scikit-learn is a Python module for machine le...</td>\n",
              "      <td>NaN</td>\n",
              "    </tr>\n",
              "    <tr>\n",
              "      <th>4</th>\n",
              "      <td>apple/swift</td>\n",
              "      <td>[]</td>\n",
              "      <td>['improve error when using noncopyable type wi...</td>\n",
              "      <td>Swift Programming Language\\nArchitecture Build...</td>\n",
              "      <td>NaN</td>\n",
              "    </tr>\n",
              "  </tbody>\n",
              "</table>\n",
              "</div>\n",
              "      <button class=\"colab-df-convert\" onclick=\"convertToInteractive('df-4e02c7c9-d06a-474b-a03f-05ea448a9889')\"\n",
              "              title=\"Convert this dataframe to an interactive table.\"\n",
              "              style=\"display:none;\">\n",
              "        \n",
              "  <svg xmlns=\"http://www.w3.org/2000/svg\" height=\"24px\"viewBox=\"0 0 24 24\"\n",
              "       width=\"24px\">\n",
              "    <path d=\"M0 0h24v24H0V0z\" fill=\"none\"/>\n",
              "    <path d=\"M18.56 5.44l.94 2.06.94-2.06 2.06-.94-2.06-.94-.94-2.06-.94 2.06-2.06.94zm-11 1L8.5 8.5l.94-2.06 2.06-.94-2.06-.94L8.5 2.5l-.94 2.06-2.06.94zm10 10l.94 2.06.94-2.06 2.06-.94-2.06-.94-.94-2.06-.94 2.06-2.06.94z\"/><path d=\"M17.41 7.96l-1.37-1.37c-.4-.4-.92-.59-1.43-.59-.52 0-1.04.2-1.43.59L10.3 9.45l-7.72 7.72c-.78.78-.78 2.05 0 2.83L4 21.41c.39.39.9.59 1.41.59.51 0 1.02-.2 1.41-.59l7.78-7.78 2.81-2.81c.8-.78.8-2.07 0-2.86zM5.41 20L4 18.59l7.72-7.72 1.47 1.35L5.41 20z\"/>\n",
              "  </svg>\n",
              "      </button>\n",
              "      \n",
              "  <style>\n",
              "    .colab-df-container {\n",
              "      display:flex;\n",
              "      flex-wrap:wrap;\n",
              "      gap: 12px;\n",
              "    }\n",
              "\n",
              "    .colab-df-convert {\n",
              "      background-color: #E8F0FE;\n",
              "      border: none;\n",
              "      border-radius: 50%;\n",
              "      cursor: pointer;\n",
              "      display: none;\n",
              "      fill: #1967D2;\n",
              "      height: 32px;\n",
              "      padding: 0 0 0 0;\n",
              "      width: 32px;\n",
              "    }\n",
              "\n",
              "    .colab-df-convert:hover {\n",
              "      background-color: #E2EBFA;\n",
              "      box-shadow: 0px 1px 2px rgba(60, 64, 67, 0.3), 0px 1px 3px 1px rgba(60, 64, 67, 0.15);\n",
              "      fill: #174EA6;\n",
              "    }\n",
              "\n",
              "    [theme=dark] .colab-df-convert {\n",
              "      background-color: #3B4455;\n",
              "      fill: #D2E3FC;\n",
              "    }\n",
              "\n",
              "    [theme=dark] .colab-df-convert:hover {\n",
              "      background-color: #434B5C;\n",
              "      box-shadow: 0px 1px 3px 1px rgba(0, 0, 0, 0.15);\n",
              "      filter: drop-shadow(0px 1px 2px rgba(0, 0, 0, 0.3));\n",
              "      fill: #FFFFFF;\n",
              "    }\n",
              "  </style>\n",
              "\n",
              "      <script>\n",
              "        const buttonEl =\n",
              "          document.querySelector('#df-4e02c7c9-d06a-474b-a03f-05ea448a9889 button.colab-df-convert');\n",
              "        buttonEl.style.display =\n",
              "          google.colab.kernel.accessAllowed ? 'block' : 'none';\n",
              "\n",
              "        async function convertToInteractive(key) {\n",
              "          const element = document.querySelector('#df-4e02c7c9-d06a-474b-a03f-05ea448a9889');\n",
              "          const dataTable =\n",
              "            await google.colab.kernel.invokeFunction('convertToInteractive',\n",
              "                                                     [key], {});\n",
              "          if (!dataTable) return;\n",
              "\n",
              "          const docLinkHtml = 'Like what you see? Visit the ' +\n",
              "            '<a target=\"_blank\" href=https://colab.research.google.com/notebooks/data_table.ipynb>data table notebook</a>'\n",
              "            + ' to learn more about interactive tables.';\n",
              "          element.innerHTML = '';\n",
              "          dataTable['output_type'] = 'display_data';\n",
              "          await google.colab.output.renderOutput(dataTable, element);\n",
              "          const docLink = document.createElement('div');\n",
              "          docLink.innerHTML = docLinkHtml;\n",
              "          element.appendChild(docLink);\n",
              "        }\n",
              "      </script>\n",
              "    </div>\n",
              "  </div>\n",
              "  "
            ]
          },
          "metadata": {},
          "execution_count": 163
        }
      ]
    },
    {
      "cell_type": "code",
      "source": [
        "type(df['pulls'])"
      ],
      "metadata": {
        "id": "kpjHjL0scKYz",
        "colab": {
          "base_uri": "https://localhost:8080/"
        },
        "outputId": "81a04df4-ce25-4847-b717-5c3c850909d9"
      },
      "execution_count": 164,
      "outputs": [
        {
          "output_type": "execute_result",
          "data": {
            "text/plain": [
              "pandas.core.series.Series"
            ]
          },
          "metadata": {},
          "execution_count": 164
        }
      ]
    },
    {
      "cell_type": "code",
      "source": [
        "len(df['commits'][3])"
      ],
      "metadata": {
        "id": "LQaTVuVYcSOP",
        "outputId": "8dac5477-f1ee-41f6-f8e4-864371ac7132",
        "colab": {
          "base_uri": "https://localhost:8080/"
        }
      },
      "execution_count": 165,
      "outputs": [
        {
          "output_type": "execute_result",
          "data": {
            "text/plain": [
              "336702"
            ]
          },
          "metadata": {},
          "execution_count": 165
        }
      ]
    },
    {
      "cell_type": "code",
      "source": [
        "import ast\n",
        "def string_to_list(message):\n",
        "  list_of_strings = ast.literal_eval(message)\n",
        "  return list_of_strings\n",
        "\n",
        "df['pulls']=df['pulls'].apply(string_to_list)"
      ],
      "metadata": {
        "id": "hu_bJy_KcVAB"
      },
      "execution_count": 166,
      "outputs": []
    },
    {
      "cell_type": "code",
      "source": [
        "df.head()"
      ],
      "metadata": {
        "colab": {
          "base_uri": "https://localhost:8080/",
          "height": 337
        },
        "id": "d2qdzljZNB3S",
        "outputId": "e1dbf2a2-4134-4a27-ca4b-cf179ee30130"
      },
      "execution_count": 167,
      "outputs": [
        {
          "output_type": "execute_result",
          "data": {
            "text/plain": [
              "                  repository  \\\n",
              "0       Microsoft/TypeScript   \n",
              "1      facebook/react-native   \n",
              "2             facebook/react   \n",
              "3  scikit-learn/scikit-learn   \n",
              "4                apple/swift   \n",
              "\n",
              "                                             commits  \\\n",
              "0                                                 []   \n",
              "1                                                 []   \n",
              "2                                                 []   \n",
              "3  ['AdaBoost: allow base_estimator=None (#26242)...   \n",
              "4                                                 []   \n",
              "\n",
              "                                               pulls  \\\n",
              "0  [Cache expression type when checking assertion...   \n",
              "1  [rename host preload -> start, Fix react unit ...   \n",
              "2  [[react-native] Always set RN$stopSurface, fix...   \n",
              "3  [EXA Tweak plot_set_output comment, DOC Fix wr...   \n",
              "4  [improve error when using noncopyable type wit...   \n",
              "\n",
              "                                              readme  release_notes  \n",
              "0  TypeScript\\nTypeScript is a language for appli...            NaN  \n",
              "1  React Native\\nLearn once, write anywhere:\\nBui...            NaN  \n",
              "2  React ·\\nReact is a JavaScript library for bui...            NaN  \n",
              "3  scikit-learn is a Python module for machine le...            NaN  \n",
              "4  Swift Programming Language\\nArchitecture Build...            NaN  "
            ],
            "text/html": [
              "\n",
              "  <div id=\"df-c03335ee-5427-4786-a8f4-86caac49598d\">\n",
              "    <div class=\"colab-df-container\">\n",
              "      <div>\n",
              "<style scoped>\n",
              "    .dataframe tbody tr th:only-of-type {\n",
              "        vertical-align: middle;\n",
              "    }\n",
              "\n",
              "    .dataframe tbody tr th {\n",
              "        vertical-align: top;\n",
              "    }\n",
              "\n",
              "    .dataframe thead th {\n",
              "        text-align: right;\n",
              "    }\n",
              "</style>\n",
              "<table border=\"1\" class=\"dataframe\">\n",
              "  <thead>\n",
              "    <tr style=\"text-align: right;\">\n",
              "      <th></th>\n",
              "      <th>repository</th>\n",
              "      <th>commits</th>\n",
              "      <th>pulls</th>\n",
              "      <th>readme</th>\n",
              "      <th>release_notes</th>\n",
              "    </tr>\n",
              "  </thead>\n",
              "  <tbody>\n",
              "    <tr>\n",
              "      <th>0</th>\n",
              "      <td>Microsoft/TypeScript</td>\n",
              "      <td>[]</td>\n",
              "      <td>[Cache expression type when checking assertion...</td>\n",
              "      <td>TypeScript\\nTypeScript is a language for appli...</td>\n",
              "      <td>NaN</td>\n",
              "    </tr>\n",
              "    <tr>\n",
              "      <th>1</th>\n",
              "      <td>facebook/react-native</td>\n",
              "      <td>[]</td>\n",
              "      <td>[rename host preload -&gt; start, Fix react unit ...</td>\n",
              "      <td>React Native\\nLearn once, write anywhere:\\nBui...</td>\n",
              "      <td>NaN</td>\n",
              "    </tr>\n",
              "    <tr>\n",
              "      <th>2</th>\n",
              "      <td>facebook/react</td>\n",
              "      <td>[]</td>\n",
              "      <td>[[react-native] Always set RN$stopSurface, fix...</td>\n",
              "      <td>React ·\\nReact is a JavaScript library for bui...</td>\n",
              "      <td>NaN</td>\n",
              "    </tr>\n",
              "    <tr>\n",
              "      <th>3</th>\n",
              "      <td>scikit-learn/scikit-learn</td>\n",
              "      <td>['AdaBoost: allow base_estimator=None (#26242)...</td>\n",
              "      <td>[EXA Tweak plot_set_output comment, DOC Fix wr...</td>\n",
              "      <td>scikit-learn is a Python module for machine le...</td>\n",
              "      <td>NaN</td>\n",
              "    </tr>\n",
              "    <tr>\n",
              "      <th>4</th>\n",
              "      <td>apple/swift</td>\n",
              "      <td>[]</td>\n",
              "      <td>[improve error when using noncopyable type wit...</td>\n",
              "      <td>Swift Programming Language\\nArchitecture Build...</td>\n",
              "      <td>NaN</td>\n",
              "    </tr>\n",
              "  </tbody>\n",
              "</table>\n",
              "</div>\n",
              "      <button class=\"colab-df-convert\" onclick=\"convertToInteractive('df-c03335ee-5427-4786-a8f4-86caac49598d')\"\n",
              "              title=\"Convert this dataframe to an interactive table.\"\n",
              "              style=\"display:none;\">\n",
              "        \n",
              "  <svg xmlns=\"http://www.w3.org/2000/svg\" height=\"24px\"viewBox=\"0 0 24 24\"\n",
              "       width=\"24px\">\n",
              "    <path d=\"M0 0h24v24H0V0z\" fill=\"none\"/>\n",
              "    <path d=\"M18.56 5.44l.94 2.06.94-2.06 2.06-.94-2.06-.94-.94-2.06-.94 2.06-2.06.94zm-11 1L8.5 8.5l.94-2.06 2.06-.94-2.06-.94L8.5 2.5l-.94 2.06-2.06.94zm10 10l.94 2.06.94-2.06 2.06-.94-2.06-.94-.94-2.06-.94 2.06-2.06.94z\"/><path d=\"M17.41 7.96l-1.37-1.37c-.4-.4-.92-.59-1.43-.59-.52 0-1.04.2-1.43.59L10.3 9.45l-7.72 7.72c-.78.78-.78 2.05 0 2.83L4 21.41c.39.39.9.59 1.41.59.51 0 1.02-.2 1.41-.59l7.78-7.78 2.81-2.81c.8-.78.8-2.07 0-2.86zM5.41 20L4 18.59l7.72-7.72 1.47 1.35L5.41 20z\"/>\n",
              "  </svg>\n",
              "      </button>\n",
              "      \n",
              "  <style>\n",
              "    .colab-df-container {\n",
              "      display:flex;\n",
              "      flex-wrap:wrap;\n",
              "      gap: 12px;\n",
              "    }\n",
              "\n",
              "    .colab-df-convert {\n",
              "      background-color: #E8F0FE;\n",
              "      border: none;\n",
              "      border-radius: 50%;\n",
              "      cursor: pointer;\n",
              "      display: none;\n",
              "      fill: #1967D2;\n",
              "      height: 32px;\n",
              "      padding: 0 0 0 0;\n",
              "      width: 32px;\n",
              "    }\n",
              "\n",
              "    .colab-df-convert:hover {\n",
              "      background-color: #E2EBFA;\n",
              "      box-shadow: 0px 1px 2px rgba(60, 64, 67, 0.3), 0px 1px 3px 1px rgba(60, 64, 67, 0.15);\n",
              "      fill: #174EA6;\n",
              "    }\n",
              "\n",
              "    [theme=dark] .colab-df-convert {\n",
              "      background-color: #3B4455;\n",
              "      fill: #D2E3FC;\n",
              "    }\n",
              "\n",
              "    [theme=dark] .colab-df-convert:hover {\n",
              "      background-color: #434B5C;\n",
              "      box-shadow: 0px 1px 3px 1px rgba(0, 0, 0, 0.15);\n",
              "      filter: drop-shadow(0px 1px 2px rgba(0, 0, 0, 0.3));\n",
              "      fill: #FFFFFF;\n",
              "    }\n",
              "  </style>\n",
              "\n",
              "      <script>\n",
              "        const buttonEl =\n",
              "          document.querySelector('#df-c03335ee-5427-4786-a8f4-86caac49598d button.colab-df-convert');\n",
              "        buttonEl.style.display =\n",
              "          google.colab.kernel.accessAllowed ? 'block' : 'none';\n",
              "\n",
              "        async function convertToInteractive(key) {\n",
              "          const element = document.querySelector('#df-c03335ee-5427-4786-a8f4-86caac49598d');\n",
              "          const dataTable =\n",
              "            await google.colab.kernel.invokeFunction('convertToInteractive',\n",
              "                                                     [key], {});\n",
              "          if (!dataTable) return;\n",
              "\n",
              "          const docLinkHtml = 'Like what you see? Visit the ' +\n",
              "            '<a target=\"_blank\" href=https://colab.research.google.com/notebooks/data_table.ipynb>data table notebook</a>'\n",
              "            + ' to learn more about interactive tables.';\n",
              "          element.innerHTML = '';\n",
              "          dataTable['output_type'] = 'display_data';\n",
              "          await google.colab.output.renderOutput(dataTable, element);\n",
              "          const docLink = document.createElement('div');\n",
              "          docLink.innerHTML = docLinkHtml;\n",
              "          element.appendChild(docLink);\n",
              "        }\n",
              "      </script>\n",
              "    </div>\n",
              "  </div>\n",
              "  "
            ]
          },
          "metadata": {},
          "execution_count": 167
        }
      ]
    },
    {
      "cell_type": "code",
      "source": [
        "def list_to_string(message):\n",
        "  joined_sentences = \" \".join(message)\n",
        "  return joined_sentences"
      ],
      "metadata": {
        "id": "XgR6XQbUNEQQ"
      },
      "execution_count": 168,
      "outputs": []
    },
    {
      "cell_type": "code",
      "source": [
        "df['pulls']=df['pulls'].apply(list_to_string)"
      ],
      "metadata": {
        "id": "SH9TJ2M2NoaT"
      },
      "execution_count": 169,
      "outputs": []
    },
    {
      "cell_type": "code",
      "source": [
        "type(df['pulls'][0])"
      ],
      "metadata": {
        "colab": {
          "base_uri": "https://localhost:8080/"
        },
        "id": "_V3h9WjqN0Qu",
        "outputId": "c8b433ed-a7c7-4329-fe7b-bba633f729dc"
      },
      "execution_count": 170,
      "outputs": [
        {
          "output_type": "execute_result",
          "data": {
            "text/plain": [
              "str"
            ]
          },
          "metadata": {},
          "execution_count": 170
        }
      ]
    },
    {
      "cell_type": "code",
      "source": [
        "df.head()"
      ],
      "metadata": {
        "colab": {
          "base_uri": "https://localhost:8080/",
          "height": 337
        },
        "id": "4iKcsVGlOdmJ",
        "outputId": "92009454-d3c1-41ff-ef30-413143de5a94"
      },
      "execution_count": 171,
      "outputs": [
        {
          "output_type": "execute_result",
          "data": {
            "text/plain": [
              "                  repository  \\\n",
              "0       Microsoft/TypeScript   \n",
              "1      facebook/react-native   \n",
              "2             facebook/react   \n",
              "3  scikit-learn/scikit-learn   \n",
              "4                apple/swift   \n",
              "\n",
              "                                             commits  \\\n",
              "0                                                 []   \n",
              "1                                                 []   \n",
              "2                                                 []   \n",
              "3  ['AdaBoost: allow base_estimator=None (#26242)...   \n",
              "4                                                 []   \n",
              "\n",
              "                                               pulls  \\\n",
              "0  Cache expression type when checking assertion ...   \n",
              "1  rename host preload -> start Fix react unit te...   \n",
              "2  [react-native] Always set RN$stopSurface fix[d...   \n",
              "3  EXA Tweak plot_set_output comment DOC Fix wron...   \n",
              "4  improve error when using noncopyable type with...   \n",
              "\n",
              "                                              readme  release_notes  \n",
              "0  TypeScript\\nTypeScript is a language for appli...            NaN  \n",
              "1  React Native\\nLearn once, write anywhere:\\nBui...            NaN  \n",
              "2  React ·\\nReact is a JavaScript library for bui...            NaN  \n",
              "3  scikit-learn is a Python module for machine le...            NaN  \n",
              "4  Swift Programming Language\\nArchitecture Build...            NaN  "
            ],
            "text/html": [
              "\n",
              "  <div id=\"df-86c28b6e-6f9c-46ca-9afd-d44abe153df5\">\n",
              "    <div class=\"colab-df-container\">\n",
              "      <div>\n",
              "<style scoped>\n",
              "    .dataframe tbody tr th:only-of-type {\n",
              "        vertical-align: middle;\n",
              "    }\n",
              "\n",
              "    .dataframe tbody tr th {\n",
              "        vertical-align: top;\n",
              "    }\n",
              "\n",
              "    .dataframe thead th {\n",
              "        text-align: right;\n",
              "    }\n",
              "</style>\n",
              "<table border=\"1\" class=\"dataframe\">\n",
              "  <thead>\n",
              "    <tr style=\"text-align: right;\">\n",
              "      <th></th>\n",
              "      <th>repository</th>\n",
              "      <th>commits</th>\n",
              "      <th>pulls</th>\n",
              "      <th>readme</th>\n",
              "      <th>release_notes</th>\n",
              "    </tr>\n",
              "  </thead>\n",
              "  <tbody>\n",
              "    <tr>\n",
              "      <th>0</th>\n",
              "      <td>Microsoft/TypeScript</td>\n",
              "      <td>[]</td>\n",
              "      <td>Cache expression type when checking assertion ...</td>\n",
              "      <td>TypeScript\\nTypeScript is a language for appli...</td>\n",
              "      <td>NaN</td>\n",
              "    </tr>\n",
              "    <tr>\n",
              "      <th>1</th>\n",
              "      <td>facebook/react-native</td>\n",
              "      <td>[]</td>\n",
              "      <td>rename host preload -&gt; start Fix react unit te...</td>\n",
              "      <td>React Native\\nLearn once, write anywhere:\\nBui...</td>\n",
              "      <td>NaN</td>\n",
              "    </tr>\n",
              "    <tr>\n",
              "      <th>2</th>\n",
              "      <td>facebook/react</td>\n",
              "      <td>[]</td>\n",
              "      <td>[react-native] Always set RN$stopSurface fix[d...</td>\n",
              "      <td>React ·\\nReact is a JavaScript library for bui...</td>\n",
              "      <td>NaN</td>\n",
              "    </tr>\n",
              "    <tr>\n",
              "      <th>3</th>\n",
              "      <td>scikit-learn/scikit-learn</td>\n",
              "      <td>['AdaBoost: allow base_estimator=None (#26242)...</td>\n",
              "      <td>EXA Tweak plot_set_output comment DOC Fix wron...</td>\n",
              "      <td>scikit-learn is a Python module for machine le...</td>\n",
              "      <td>NaN</td>\n",
              "    </tr>\n",
              "    <tr>\n",
              "      <th>4</th>\n",
              "      <td>apple/swift</td>\n",
              "      <td>[]</td>\n",
              "      <td>improve error when using noncopyable type with...</td>\n",
              "      <td>Swift Programming Language\\nArchitecture Build...</td>\n",
              "      <td>NaN</td>\n",
              "    </tr>\n",
              "  </tbody>\n",
              "</table>\n",
              "</div>\n",
              "      <button class=\"colab-df-convert\" onclick=\"convertToInteractive('df-86c28b6e-6f9c-46ca-9afd-d44abe153df5')\"\n",
              "              title=\"Convert this dataframe to an interactive table.\"\n",
              "              style=\"display:none;\">\n",
              "        \n",
              "  <svg xmlns=\"http://www.w3.org/2000/svg\" height=\"24px\"viewBox=\"0 0 24 24\"\n",
              "       width=\"24px\">\n",
              "    <path d=\"M0 0h24v24H0V0z\" fill=\"none\"/>\n",
              "    <path d=\"M18.56 5.44l.94 2.06.94-2.06 2.06-.94-2.06-.94-.94-2.06-.94 2.06-2.06.94zm-11 1L8.5 8.5l.94-2.06 2.06-.94-2.06-.94L8.5 2.5l-.94 2.06-2.06.94zm10 10l.94 2.06.94-2.06 2.06-.94-2.06-.94-.94-2.06-.94 2.06-2.06.94z\"/><path d=\"M17.41 7.96l-1.37-1.37c-.4-.4-.92-.59-1.43-.59-.52 0-1.04.2-1.43.59L10.3 9.45l-7.72 7.72c-.78.78-.78 2.05 0 2.83L4 21.41c.39.39.9.59 1.41.59.51 0 1.02-.2 1.41-.59l7.78-7.78 2.81-2.81c.8-.78.8-2.07 0-2.86zM5.41 20L4 18.59l7.72-7.72 1.47 1.35L5.41 20z\"/>\n",
              "  </svg>\n",
              "      </button>\n",
              "      \n",
              "  <style>\n",
              "    .colab-df-container {\n",
              "      display:flex;\n",
              "      flex-wrap:wrap;\n",
              "      gap: 12px;\n",
              "    }\n",
              "\n",
              "    .colab-df-convert {\n",
              "      background-color: #E8F0FE;\n",
              "      border: none;\n",
              "      border-radius: 50%;\n",
              "      cursor: pointer;\n",
              "      display: none;\n",
              "      fill: #1967D2;\n",
              "      height: 32px;\n",
              "      padding: 0 0 0 0;\n",
              "      width: 32px;\n",
              "    }\n",
              "\n",
              "    .colab-df-convert:hover {\n",
              "      background-color: #E2EBFA;\n",
              "      box-shadow: 0px 1px 2px rgba(60, 64, 67, 0.3), 0px 1px 3px 1px rgba(60, 64, 67, 0.15);\n",
              "      fill: #174EA6;\n",
              "    }\n",
              "\n",
              "    [theme=dark] .colab-df-convert {\n",
              "      background-color: #3B4455;\n",
              "      fill: #D2E3FC;\n",
              "    }\n",
              "\n",
              "    [theme=dark] .colab-df-convert:hover {\n",
              "      background-color: #434B5C;\n",
              "      box-shadow: 0px 1px 3px 1px rgba(0, 0, 0, 0.15);\n",
              "      filter: drop-shadow(0px 1px 2px rgba(0, 0, 0, 0.3));\n",
              "      fill: #FFFFFF;\n",
              "    }\n",
              "  </style>\n",
              "\n",
              "      <script>\n",
              "        const buttonEl =\n",
              "          document.querySelector('#df-86c28b6e-6f9c-46ca-9afd-d44abe153df5 button.colab-df-convert');\n",
              "        buttonEl.style.display =\n",
              "          google.colab.kernel.accessAllowed ? 'block' : 'none';\n",
              "\n",
              "        async function convertToInteractive(key) {\n",
              "          const element = document.querySelector('#df-86c28b6e-6f9c-46ca-9afd-d44abe153df5');\n",
              "          const dataTable =\n",
              "            await google.colab.kernel.invokeFunction('convertToInteractive',\n",
              "                                                     [key], {});\n",
              "          if (!dataTable) return;\n",
              "\n",
              "          const docLinkHtml = 'Like what you see? Visit the ' +\n",
              "            '<a target=\"_blank\" href=https://colab.research.google.com/notebooks/data_table.ipynb>data table notebook</a>'\n",
              "            + ' to learn more about interactive tables.';\n",
              "          element.innerHTML = '';\n",
              "          dataTable['output_type'] = 'display_data';\n",
              "          await google.colab.output.renderOutput(dataTable, element);\n",
              "          const docLink = document.createElement('div');\n",
              "          docLink.innerHTML = docLinkHtml;\n",
              "          element.appendChild(docLink);\n",
              "        }\n",
              "      </script>\n",
              "    </div>\n",
              "  </div>\n",
              "  "
            ]
          },
          "metadata": {},
          "execution_count": 171
        }
      ]
    },
    {
      "cell_type": "code",
      "source": [
        "second_df=pd.read_csv('/content/drive/MyDrive/Research Paper Dataset/second.csv')"
      ],
      "metadata": {
        "id": "RA2iSAykOrvM"
      },
      "execution_count": 172,
      "outputs": []
    },
    {
      "cell_type": "code",
      "source": [
        "second_df.drop(columns='Unnamed: 0',inplace=True)"
      ],
      "metadata": {
        "id": "D8OMERtNOu0K"
      },
      "execution_count": 173,
      "outputs": []
    },
    {
      "cell_type": "code",
      "source": [
        "second_df.columns"
      ],
      "metadata": {
        "colab": {
          "base_uri": "https://localhost:8080/"
        },
        "id": "-Y_kXgYRQ5l-",
        "outputId": "4995b285-f184-443d-913d-68b162d59af3"
      },
      "execution_count": 174,
      "outputs": [
        {
          "output_type": "execute_result",
          "data": {
            "text/plain": [
              "Index(['repository', 'commits', 'release_notes'], dtype='object')"
            ]
          },
          "metadata": {},
          "execution_count": 174
        }
      ]
    },
    {
      "cell_type": "code",
      "source": [
        "second_df['repository'][0]"
      ],
      "metadata": {
        "colab": {
          "base_uri": "https://localhost:8080/",
          "height": 36
        },
        "id": "im2vBRfOREML",
        "outputId": "bbe7cc66-e4bb-4a90-8991-cbdd1c06a288"
      },
      "execution_count": 175,
      "outputs": [
        {
          "output_type": "execute_result",
          "data": {
            "text/plain": [
              "'Microsoft/TypeScript'"
            ],
            "application/vnd.google.colaboratory.intrinsic+json": {
              "type": "string"
            }
          },
          "metadata": {},
          "execution_count": 175
        }
      ]
    },
    {
      "cell_type": "code",
      "source": [
        "second_df['commits']=second_df['commits'].apply(string_to_list)"
      ],
      "metadata": {
        "id": "vuf37pZQR21d"
      },
      "execution_count": 176,
      "outputs": []
    },
    {
      "cell_type": "code",
      "source": [
        "second_df['commits']=second_df['commits'].apply(list_to_string)"
      ],
      "metadata": {
        "id": "sS9SU3G0R4SM"
      },
      "execution_count": 177,
      "outputs": []
    },
    {
      "cell_type": "code",
      "source": [
        "type(second_df['commits'][0])"
      ],
      "metadata": {
        "colab": {
          "base_uri": "https://localhost:8080/"
        },
        "id": "F32DM6_BSCE9",
        "outputId": "5a4ca30a-b916-40ed-8a9d-c5a782620c19"
      },
      "execution_count": 178,
      "outputs": [
        {
          "output_type": "execute_result",
          "data": {
            "text/plain": [
              "str"
            ]
          },
          "metadata": {},
          "execution_count": 178
        }
      ]
    },
    {
      "cell_type": "code",
      "source": [
        "second_df['release_notes'][2]"
      ],
      "metadata": {
        "id": "iiwwKdO7SSOA"
      },
      "execution_count": null,
      "outputs": []
    },
    {
      "cell_type": "code",
      "source": [
        "second_df['release_notes']=second_df['release_notes'].apply(string_to_list)"
      ],
      "metadata": {
        "id": "gPhAhztvTpKv"
      },
      "execution_count": 180,
      "outputs": []
    },
    {
      "cell_type": "code",
      "source": [
        "second_df['release_notes']=second_df['release_notes'].apply(list_to_string)"
      ],
      "metadata": {
        "id": "ZzJRcvwbTxQh"
      },
      "execution_count": 181,
      "outputs": []
    },
    {
      "cell_type": "code",
      "source": [
        "second_df['release_notes'][0]"
      ],
      "metadata": {
        "id": "kwIPGIrYT1jh"
      },
      "execution_count": null,
      "outputs": []
    },
    {
      "cell_type": "code",
      "source": [
        "df=df.drop(columns=['commits','release_notes'])"
      ],
      "metadata": {
        "id": "WdoQICuFURrh"
      },
      "execution_count": 183,
      "outputs": []
    },
    {
      "cell_type": "code",
      "source": [
        "df = df.merge(second_df, on='repository')"
      ],
      "metadata": {
        "id": "Sy5TMMN2T3Ar"
      },
      "execution_count": 184,
      "outputs": []
    },
    {
      "cell_type": "code",
      "source": [
        "df.head()"
      ],
      "metadata": {
        "colab": {
          "base_uri": "https://localhost:8080/",
          "height": 337
        },
        "id": "nH5PdUZuUd6m",
        "outputId": "58a87d88-5a0b-40d9-8a6a-e7ea81c88326"
      },
      "execution_count": 185,
      "outputs": [
        {
          "output_type": "execute_result",
          "data": {
            "text/plain": [
              "                  repository  \\\n",
              "0       Microsoft/TypeScript   \n",
              "1      facebook/react-native   \n",
              "2             facebook/react   \n",
              "3  scikit-learn/scikit-learn   \n",
              "4                apple/swift   \n",
              "\n",
              "                                               pulls  \\\n",
              "0  Cache expression type when checking assertion ...   \n",
              "1  rename host preload -> start Fix react unit te...   \n",
              "2  [react-native] Always set RN$stopSurface fix[d...   \n",
              "3  EXA Tweak plot_set_output comment DOC Fix wron...   \n",
              "4  improve error when using noncopyable type with...   \n",
              "\n",
              "                                              readme  \\\n",
              "0  TypeScript\\nTypeScript is a language for appli...   \n",
              "1  React Native\\nLearn once, write anywhere:\\nBui...   \n",
              "2  React ·\\nReact is a JavaScript library for bui...   \n",
              "3  scikit-learn is a Python module for machine le...   \n",
              "4  Swift Programming Language\\nArchitecture Build...   \n",
              "\n",
              "                                             commits  \\\n",
              "0  Update package-lock.json Update package-lock.j...   \n",
              "1  Native ARIA Roles: Android Paper + Fabric (#37...   \n",
              "2  Fix uSES hydration in strict mode (#26791)\\n\\n...   \n",
              "3  AdaBoost: allow base_estimator=None (#26242) E...   \n",
              "4  Merge pull request #65837 from ahoppen/ahoppen...   \n",
              "\n",
              "                                       release_notes  \n",
              "0  TypeScript 5.1 Beta For release notes, check o...  \n",
              "1  0.72.0-RC.3 ## ⭐️ Golden Release Candidate ⭐️\\...  \n",
              "2  18.2.0 (June 14, 2022) ### React DOM\\r\\n\\r\\n* ...  \n",
              "3  Scikit-learn 1.2.2 We're happy to announce the...  \n",
              "4  Swift 5.8 Release  Swift 5.7.3 Release  Swift ...  "
            ],
            "text/html": [
              "\n",
              "  <div id=\"df-fa8effb2-5216-4cc9-8d28-1d8393af044e\">\n",
              "    <div class=\"colab-df-container\">\n",
              "      <div>\n",
              "<style scoped>\n",
              "    .dataframe tbody tr th:only-of-type {\n",
              "        vertical-align: middle;\n",
              "    }\n",
              "\n",
              "    .dataframe tbody tr th {\n",
              "        vertical-align: top;\n",
              "    }\n",
              "\n",
              "    .dataframe thead th {\n",
              "        text-align: right;\n",
              "    }\n",
              "</style>\n",
              "<table border=\"1\" class=\"dataframe\">\n",
              "  <thead>\n",
              "    <tr style=\"text-align: right;\">\n",
              "      <th></th>\n",
              "      <th>repository</th>\n",
              "      <th>pulls</th>\n",
              "      <th>readme</th>\n",
              "      <th>commits</th>\n",
              "      <th>release_notes</th>\n",
              "    </tr>\n",
              "  </thead>\n",
              "  <tbody>\n",
              "    <tr>\n",
              "      <th>0</th>\n",
              "      <td>Microsoft/TypeScript</td>\n",
              "      <td>Cache expression type when checking assertion ...</td>\n",
              "      <td>TypeScript\\nTypeScript is a language for appli...</td>\n",
              "      <td>Update package-lock.json Update package-lock.j...</td>\n",
              "      <td>TypeScript 5.1 Beta For release notes, check o...</td>\n",
              "    </tr>\n",
              "    <tr>\n",
              "      <th>1</th>\n",
              "      <td>facebook/react-native</td>\n",
              "      <td>rename host preload -&gt; start Fix react unit te...</td>\n",
              "      <td>React Native\\nLearn once, write anywhere:\\nBui...</td>\n",
              "      <td>Native ARIA Roles: Android Paper + Fabric (#37...</td>\n",
              "      <td>0.72.0-RC.3 ## ⭐️ Golden Release Candidate ⭐️\\...</td>\n",
              "    </tr>\n",
              "    <tr>\n",
              "      <th>2</th>\n",
              "      <td>facebook/react</td>\n",
              "      <td>[react-native] Always set RN$stopSurface fix[d...</td>\n",
              "      <td>React ·\\nReact is a JavaScript library for bui...</td>\n",
              "      <td>Fix uSES hydration in strict mode (#26791)\\n\\n...</td>\n",
              "      <td>18.2.0 (June 14, 2022) ### React DOM\\r\\n\\r\\n* ...</td>\n",
              "    </tr>\n",
              "    <tr>\n",
              "      <th>3</th>\n",
              "      <td>scikit-learn/scikit-learn</td>\n",
              "      <td>EXA Tweak plot_set_output comment DOC Fix wron...</td>\n",
              "      <td>scikit-learn is a Python module for machine le...</td>\n",
              "      <td>AdaBoost: allow base_estimator=None (#26242) E...</td>\n",
              "      <td>Scikit-learn 1.2.2 We're happy to announce the...</td>\n",
              "    </tr>\n",
              "    <tr>\n",
              "      <th>4</th>\n",
              "      <td>apple/swift</td>\n",
              "      <td>improve error when using noncopyable type with...</td>\n",
              "      <td>Swift Programming Language\\nArchitecture Build...</td>\n",
              "      <td>Merge pull request #65837 from ahoppen/ahoppen...</td>\n",
              "      <td>Swift 5.8 Release  Swift 5.7.3 Release  Swift ...</td>\n",
              "    </tr>\n",
              "  </tbody>\n",
              "</table>\n",
              "</div>\n",
              "      <button class=\"colab-df-convert\" onclick=\"convertToInteractive('df-fa8effb2-5216-4cc9-8d28-1d8393af044e')\"\n",
              "              title=\"Convert this dataframe to an interactive table.\"\n",
              "              style=\"display:none;\">\n",
              "        \n",
              "  <svg xmlns=\"http://www.w3.org/2000/svg\" height=\"24px\"viewBox=\"0 0 24 24\"\n",
              "       width=\"24px\">\n",
              "    <path d=\"M0 0h24v24H0V0z\" fill=\"none\"/>\n",
              "    <path d=\"M18.56 5.44l.94 2.06.94-2.06 2.06-.94-2.06-.94-.94-2.06-.94 2.06-2.06.94zm-11 1L8.5 8.5l.94-2.06 2.06-.94-2.06-.94L8.5 2.5l-.94 2.06-2.06.94zm10 10l.94 2.06.94-2.06 2.06-.94-2.06-.94-.94-2.06-.94 2.06-2.06.94z\"/><path d=\"M17.41 7.96l-1.37-1.37c-.4-.4-.92-.59-1.43-.59-.52 0-1.04.2-1.43.59L10.3 9.45l-7.72 7.72c-.78.78-.78 2.05 0 2.83L4 21.41c.39.39.9.59 1.41.59.51 0 1.02-.2 1.41-.59l7.78-7.78 2.81-2.81c.8-.78.8-2.07 0-2.86zM5.41 20L4 18.59l7.72-7.72 1.47 1.35L5.41 20z\"/>\n",
              "  </svg>\n",
              "      </button>\n",
              "      \n",
              "  <style>\n",
              "    .colab-df-container {\n",
              "      display:flex;\n",
              "      flex-wrap:wrap;\n",
              "      gap: 12px;\n",
              "    }\n",
              "\n",
              "    .colab-df-convert {\n",
              "      background-color: #E8F0FE;\n",
              "      border: none;\n",
              "      border-radius: 50%;\n",
              "      cursor: pointer;\n",
              "      display: none;\n",
              "      fill: #1967D2;\n",
              "      height: 32px;\n",
              "      padding: 0 0 0 0;\n",
              "      width: 32px;\n",
              "    }\n",
              "\n",
              "    .colab-df-convert:hover {\n",
              "      background-color: #E2EBFA;\n",
              "      box-shadow: 0px 1px 2px rgba(60, 64, 67, 0.3), 0px 1px 3px 1px rgba(60, 64, 67, 0.15);\n",
              "      fill: #174EA6;\n",
              "    }\n",
              "\n",
              "    [theme=dark] .colab-df-convert {\n",
              "      background-color: #3B4455;\n",
              "      fill: #D2E3FC;\n",
              "    }\n",
              "\n",
              "    [theme=dark] .colab-df-convert:hover {\n",
              "      background-color: #434B5C;\n",
              "      box-shadow: 0px 1px 3px 1px rgba(0, 0, 0, 0.15);\n",
              "      filter: drop-shadow(0px 1px 2px rgba(0, 0, 0, 0.3));\n",
              "      fill: #FFFFFF;\n",
              "    }\n",
              "  </style>\n",
              "\n",
              "      <script>\n",
              "        const buttonEl =\n",
              "          document.querySelector('#df-fa8effb2-5216-4cc9-8d28-1d8393af044e button.colab-df-convert');\n",
              "        buttonEl.style.display =\n",
              "          google.colab.kernel.accessAllowed ? 'block' : 'none';\n",
              "\n",
              "        async function convertToInteractive(key) {\n",
              "          const element = document.querySelector('#df-fa8effb2-5216-4cc9-8d28-1d8393af044e');\n",
              "          const dataTable =\n",
              "            await google.colab.kernel.invokeFunction('convertToInteractive',\n",
              "                                                     [key], {});\n",
              "          if (!dataTable) return;\n",
              "\n",
              "          const docLinkHtml = 'Like what you see? Visit the ' +\n",
              "            '<a target=\"_blank\" href=https://colab.research.google.com/notebooks/data_table.ipynb>data table notebook</a>'\n",
              "            + ' to learn more about interactive tables.';\n",
              "          element.innerHTML = '';\n",
              "          dataTable['output_type'] = 'display_data';\n",
              "          await google.colab.output.renderOutput(dataTable, element);\n",
              "          const docLink = document.createElement('div');\n",
              "          docLink.innerHTML = docLinkHtml;\n",
              "          element.appendChild(docLink);\n",
              "        }\n",
              "      </script>\n",
              "    </div>\n",
              "  </div>\n",
              "  "
            ]
          },
          "metadata": {},
          "execution_count": 185
        }
      ]
    },
    {
      "cell_type": "code",
      "source": [
        "# import re\n",
        "\n",
        "# def preprocess_text(text):\n",
        "#     text = text.lower()\n",
        "\n",
        "#     text = re.sub(r'[^\\w\\s]', '', text)\n",
        "\n",
        "#     text = re.sub(r'\\s+', ' ', text).strip()\n",
        "\n",
        "#     stopwords = set(['the', 'and', 'a', 'in', 'of', 'to'])\n",
        "#     tokens = text.split()\n",
        "#     tokens = [token for token in tokens if token not in stopwords]\n",
        "#     text = ' '.join(tokens)\n",
        "\n",
        "#     return text"
      ],
      "metadata": {
        "id": "MZCjIG69UetK"
      },
      "execution_count": 186,
      "outputs": []
    },
    {
      "cell_type": "code",
      "source": [
        "# df['pulls']=df['pulls'].apply(preprocess_text)"
      ],
      "metadata": {
        "id": "8zXPfztMVZk2"
      },
      "execution_count": 187,
      "outputs": []
    },
    {
      "cell_type": "code",
      "source": [
        "# df['readme']=df['readme'].apply(preprocess_text)"
      ],
      "metadata": {
        "id": "m1TDbY-XVe3G"
      },
      "execution_count": 188,
      "outputs": []
    },
    {
      "cell_type": "code",
      "source": [
        "# df['commits']=df['commits'].apply(preprocess_text)"
      ],
      "metadata": {
        "id": "-K49Bvy4WcOB"
      },
      "execution_count": 189,
      "outputs": []
    },
    {
      "cell_type": "code",
      "source": [
        "# df['release_notes']=df['release_notes'].apply(preprocess_text)"
      ],
      "metadata": {
        "id": "1R1_NeJrWeaD"
      },
      "execution_count": 190,
      "outputs": []
    },
    {
      "cell_type": "code",
      "source": [
        "# df['release_notes'][0]"
      ],
      "metadata": {
        "id": "E3GSB2JEWgXv"
      },
      "execution_count": 191,
      "outputs": []
    },
    {
      "cell_type": "code",
      "source": [
        "df.to_csv('maitreya.csv', index=False)"
      ],
      "metadata": {
        "id": "eAGdrlBiWrSs"
      },
      "execution_count": 192,
      "outputs": []
    },
    {
      "cell_type": "code",
      "source": [
        "from google.colab import files\n",
        "files.download('maitreya.csv')"
      ],
      "metadata": {
        "colab": {
          "base_uri": "https://localhost:8080/",
          "height": 17
        },
        "id": "vJD1B0ssYWtY",
        "outputId": "9434b60f-c218-40ea-bd12-772de1cad31a"
      },
      "execution_count": 193,
      "outputs": [
        {
          "output_type": "display_data",
          "data": {
            "text/plain": [
              "<IPython.core.display.Javascript object>"
            ],
            "application/javascript": [
              "\n",
              "    async function download(id, filename, size) {\n",
              "      if (!google.colab.kernel.accessAllowed) {\n",
              "        return;\n",
              "      }\n",
              "      const div = document.createElement('div');\n",
              "      const label = document.createElement('label');\n",
              "      label.textContent = `Downloading \"${filename}\": `;\n",
              "      div.appendChild(label);\n",
              "      const progress = document.createElement('progress');\n",
              "      progress.max = size;\n",
              "      div.appendChild(progress);\n",
              "      document.body.appendChild(div);\n",
              "\n",
              "      const buffers = [];\n",
              "      let downloaded = 0;\n",
              "\n",
              "      const channel = await google.colab.kernel.comms.open(id);\n",
              "      // Send a message to notify the kernel that we're ready.\n",
              "      channel.send({})\n",
              "\n",
              "      for await (const message of channel.messages) {\n",
              "        // Send a message to notify the kernel that we're ready.\n",
              "        channel.send({})\n",
              "        if (message.buffers) {\n",
              "          for (const buffer of message.buffers) {\n",
              "            buffers.push(buffer);\n",
              "            downloaded += buffer.byteLength;\n",
              "            progress.value = downloaded;\n",
              "          }\n",
              "        }\n",
              "      }\n",
              "      const blob = new Blob(buffers, {type: 'application/binary'});\n",
              "      const a = document.createElement('a');\n",
              "      a.href = window.URL.createObjectURL(blob);\n",
              "      a.download = filename;\n",
              "      div.appendChild(a);\n",
              "      a.click();\n",
              "      div.remove();\n",
              "    }\n",
              "  "
            ]
          },
          "metadata": {}
        },
        {
          "output_type": "display_data",
          "data": {
            "text/plain": [
              "<IPython.core.display.Javascript object>"
            ],
            "application/javascript": [
              "download(\"download_6cba6891-cd22-4341-bd87-ba13e4ab918e\", \"maitreya.csv\", 56782650)"
            ]
          },
          "metadata": {}
        }
      ]
    },
    {
      "cell_type": "code",
      "source": [],
      "metadata": {
        "id": "aP763kBkYYvU"
      },
      "execution_count": null,
      "outputs": []
    }
  ]
}